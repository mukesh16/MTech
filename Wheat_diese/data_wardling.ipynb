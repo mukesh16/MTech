{
 "cells": [
  {
   "cell_type": "code",
   "execution_count": 1,
   "id": "02b51b96-46b2-4452-80f1-c8f91b9cab03",
   "metadata": {
    "tags": []
   },
   "outputs": [],
   "source": [
    "import cv2 as cv\n",
    "import numpy as np\n",
    "import tensorflow as tf\n",
    "import matplotlib.pyplot as plt "
   ]
  },
  {
   "cell_type": "code",
   "execution_count": 2,
   "id": "7596f34d",
   "metadata": {},
   "outputs": [
    {
     "data": {
      "text/plain": [
       "array([[[ 97, 110, 166],\n",
       "        [ 97, 110, 166],\n",
       "        [ 99, 110, 167],\n",
       "        ...,\n",
       "        [ 75, 135, 124],\n",
       "        [ 79, 141, 129],\n",
       "        [ 82, 144, 130]],\n",
       "\n",
       "       [[ 91, 105, 158],\n",
       "        [ 90, 104, 160],\n",
       "        [ 90, 104, 160],\n",
       "        ...,\n",
       "        [ 65, 120, 103],\n",
       "        [ 69, 128, 108],\n",
       "        [ 74, 134, 115]],\n",
       "\n",
       "       [[ 85,  97, 155],\n",
       "        [ 84,  97, 153],\n",
       "        [ 87, 101, 154],\n",
       "        ...,\n",
       "        [ 60, 107,  86],\n",
       "        [ 59, 113,  91],\n",
       "        [ 64, 119,  93]],\n",
       "\n",
       "       ...,\n",
       "\n",
       "       [[110, 183, 133],\n",
       "        [105, 182, 131],\n",
       "        [104, 182, 129],\n",
       "        ...,\n",
       "        [ 86, 108,  73],\n",
       "        [ 84, 108,  72],\n",
       "        [ 85, 107,  72]],\n",
       "\n",
       "       [[107, 185, 130],\n",
       "        [105, 185, 129],\n",
       "        [102, 182, 129],\n",
       "        ...,\n",
       "        [ 78, 103,  64],\n",
       "        [ 81, 106,  67],\n",
       "        [ 86, 111,  72]],\n",
       "\n",
       "       [[106, 189, 133],\n",
       "        [105, 184, 130],\n",
       "        [101, 184, 129],\n",
       "        ...,\n",
       "        [ 71, 101,  61],\n",
       "        [ 72, 100,  63],\n",
       "        [ 80, 104,  69]]], dtype=uint8)"
      ]
     },
     "execution_count": 2,
     "metadata": {},
     "output_type": "execute_result"
    }
   ],
   "source": [
    "path = \"wheat_leaf/stripe_rust/lolr(40).JPG\"\n",
    "img = cv.imread(path)\n",
    "image_arr = cv.resize(img, (224,224))\n",
    "image_arr"
   ]
  },
  {
   "cell_type": "code",
   "execution_count": 3,
   "id": "33be8021",
   "metadata": {},
   "outputs": [
    {
     "data": {
      "text/plain": [
       "array([[[166., 110.,  97.],\n",
       "        [166., 110.,  97.],\n",
       "        [167., 110.,  99.],\n",
       "        ...,\n",
       "        [124., 135.,  75.],\n",
       "        [130., 142.,  80.],\n",
       "        [131., 145.,  83.]],\n",
       "\n",
       "       [[158., 105.,  91.],\n",
       "        [160., 104.,  91.],\n",
       "        [160., 104.,  91.],\n",
       "        ...,\n",
       "        [104., 121.,  66.],\n",
       "        [109., 129.,  70.],\n",
       "        [115., 135.,  74.]],\n",
       "\n",
       "       [[155.,  97.,  85.],\n",
       "        [153.,  97.,  84.],\n",
       "        [154., 101.,  87.],\n",
       "        ...,\n",
       "        [ 85., 107.,  60.],\n",
       "        [ 91., 114.,  60.],\n",
       "        [ 94., 119.,  64.]],\n",
       "\n",
       "       ...,\n",
       "\n",
       "       [[133., 183., 110.],\n",
       "        [131., 182., 105.],\n",
       "        [129., 182., 104.],\n",
       "        ...,\n",
       "        [ 74., 109.,  87.],\n",
       "        [ 73., 108.,  84.],\n",
       "        [ 72., 107.,  85.]],\n",
       "\n",
       "       [[131., 185., 107.],\n",
       "        [130., 185., 104.],\n",
       "        [129., 182., 102.],\n",
       "        ...,\n",
       "        [ 65., 103.,  78.],\n",
       "        [ 68., 106.,  81.],\n",
       "        [ 72., 112.,  86.]],\n",
       "\n",
       "       [[133., 188., 105.],\n",
       "        [130., 184., 106.],\n",
       "        [130., 185., 102.],\n",
       "        ...,\n",
       "        [ 61., 100.,  71.],\n",
       "        [ 64., 100.,  72.],\n",
       "        [ 69., 104.,  80.]]], dtype=float32)"
      ]
     },
     "execution_count": 3,
     "metadata": {},
     "output_type": "execute_result"
    }
   ],
   "source": [
    "image = tf.keras.utils.load_img(path,target_size=(224, 224))\n",
    "image_arr = tf.keras.utils.img_to_array(image)\n",
    "image_arr"
   ]
  },
  {
   "cell_type": "code",
   "execution_count": null,
   "id": "5d704f54",
   "metadata": {},
   "outputs": [],
   "source": []
  },
  {
   "cell_type": "code",
   "execution_count": null,
   "id": "a9108088",
   "metadata": {},
   "outputs": [],
   "source": []
  },
  {
   "cell_type": "code",
   "execution_count": null,
   "id": "2e2df62b",
   "metadata": {},
   "outputs": [],
   "source": []
  },
  {
   "cell_type": "code",
   "execution_count": null,
   "id": "11de2ee5",
   "metadata": {},
   "outputs": [],
   "source": []
  },
  {
   "cell_type": "code",
   "execution_count": 6,
   "id": "bcb96cc4-1d59-4b5f-8950-251ef5a8d225",
   "metadata": {
    "tags": []
   },
   "outputs": [
    {
     "data": {
      "text/plain": [
       "(400, 600)"
      ]
     },
     "execution_count": 6,
     "metadata": {},
     "output_type": "execute_result"
    }
   ],
   "source": [
    "blank = np.zeros((400,600), dtype = 'uint8')\n",
    "\n",
    "cv.imwrite('test_image_blank.JPG', blank)"
   ]
  },
  {
   "cell_type": "code",
   "execution_count": 3,
   "id": "a1761054-9c92-4c96-9201-d35c59ae7249",
   "metadata": {
    "tags": []
   },
   "outputs": [
    {
     "data": {
      "text/plain": [
       "(3109, 1882, 3)"
      ]
     },
     "execution_count": 3,
     "metadata": {},
     "output_type": "execute_result"
    }
   ],
   "source": [
    "# Load an image\n",
    "img = cv.imread(\"wheat_leaf/stripe_rust/lolr(40).JPG\")\n",
    "img.shape"
   ]
  },
  {
   "cell_type": "code",
   "execution_count": 8,
   "id": "b5960b26-b866-4844-8b2d-ef7a9f3e18af",
   "metadata": {
    "tags": []
   },
   "outputs": [
    {
     "data": {
      "text/plain": [
       "True"
      ]
     },
     "execution_count": 8,
     "metadata": {},
     "output_type": "execute_result"
    },
    {
     "ename": "",
     "evalue": "",
     "output_type": "error",
     "traceback": [
      "\u001b[1;31mThe Kernel crashed while executing code in the current cell or a previous cell. \n",
      "\u001b[1;31mPlease review the code in the cell(s) to identify a possible cause of the failure. \n",
      "\u001b[1;31mClick <a href='https://aka.ms/vscodeJupyterKernelCrash'>here</a> for more info. \n",
      "\u001b[1;31mView Jupyter <a href='command:jupyter.viewOutput'>log</a> for further details."
     ]
    }
   ],
   "source": [
    "# Display the image\n",
    "resized = cv.resize(img, (224, 224))\n",
    "# cv.imshow(\"Image\", img)\n",
    "# cv.imwrite('test_image_bgr.JPG', img)"
   ]
  },
  {
   "cell_type": "code",
   "execution_count": null,
   "id": "8b89a699",
   "metadata": {},
   "outputs": [],
   "source": [
    "plot"
   ]
  },
  {
   "cell_type": "code",
   "execution_count": 5,
   "id": "57bb3377-d134-47a9-b99c-51e4b19ca713",
   "metadata": {
    "tags": []
   },
   "outputs": [
    {
     "data": {
      "text/plain": [
       "(3109, 1882)"
      ]
     },
     "execution_count": 5,
     "metadata": {},
     "output_type": "execute_result"
    }
   ],
   "source": [
    "# Convert the image to grayscale\n",
    "gray = cv.cvtColor(img, cv.COLOR_BGR2GRAY)\n",
    "gray.shape"
   ]
  },
  {
   "cell_type": "code",
   "execution_count": 6,
   "id": "87057971-cec9-4148-a438-402f8b0e5208",
   "metadata": {
    "tags": []
   },
   "outputs": [
    {
     "data": {
      "text/plain": [
       "True"
      ]
     },
     "execution_count": 6,
     "metadata": {},
     "output_type": "execute_result"
    }
   ],
   "source": [
    "# Display the grayscale image\n",
    "# cv.imshow(\"Grayscale Image\", gray)\n",
    "cv.imwrite('test_image_gray.JPG', gray)"
   ]
  },
  {
   "cell_type": "code",
   "execution_count": 7,
   "id": "9d29ef0e-d881-4032-9f72-fb78328f394f",
   "metadata": {
    "tags": []
   },
   "outputs": [
    {
     "data": {
      "text/plain": [
       "(400, 600, 3)"
      ]
     },
     "execution_count": 7,
     "metadata": {},
     "output_type": "execute_result"
    }
   ],
   "source": [
    "resized = cv.resize(img, (600, 400), interpolation = cv.INTER_AREA)\n",
    "cv.imwrite('resized_image_bgr.JPG', resized)\n",
    "resized.shape"
   ]
  },
  {
   "cell_type": "code",
   "execution_count": 8,
   "id": "2f256454-7301-4e0f-b466-4a38ff2ff8f9",
   "metadata": {
    "tags": []
   },
   "outputs": [
    {
     "data": {
      "text/plain": [
       "(400, 600)"
      ]
     },
     "execution_count": 8,
     "metadata": {},
     "output_type": "execute_result"
    }
   ],
   "source": [
    "resized_gray = cv.resize(gray, (600, 400), interpolation = cv.INTER_AREA)\n",
    "cv.imwrite('resized_image_gray.JPG', resized_gray)\n",
    "resized_gray.shape"
   ]
  },
  {
   "cell_type": "code",
   "execution_count": 9,
   "id": "a143700a-d5a9-4fd6-b94d-2b37cc704cd2",
   "metadata": {
    "tags": []
   },
   "outputs": [
    {
     "data": {
      "text/plain": [
       "True"
      ]
     },
     "execution_count": 9,
     "metadata": {},
     "output_type": "execute_result"
    }
   ],
   "source": [
    "blur = cv.GaussianBlur(resized_gray, (5,5), cv.BORDER_DEFAULT)\n",
    "cv.imwrite('resized_gimage_blur.JPG', blur)"
   ]
  },
  {
   "cell_type": "code",
   "execution_count": 10,
   "id": "6b45b776-96c3-4228-9734-36059eaf24e6",
   "metadata": {
    "tags": []
   },
   "outputs": [
    {
     "data": {
      "text/plain": [
       "True"
      ]
     },
     "execution_count": 10,
     "metadata": {},
     "output_type": "execute_result"
    }
   ],
   "source": [
    "canny = cv.Canny(resized_gray, 125, 175)\n",
    "cv.imwrite('resized_gimage_canny.JPG', canny)"
   ]
  },
  {
   "cell_type": "code",
   "execution_count": 11,
   "id": "f3a66cf2-f3b4-4457-abb7-2a0d03d0f60e",
   "metadata": {
    "tags": []
   },
   "outputs": [
    {
     "data": {
      "text/plain": [
       "True"
      ]
     },
     "execution_count": 11,
     "metadata": {},
     "output_type": "execute_result"
    }
   ],
   "source": [
    "contour, hierarchies = cv.findContours(canny, cv.RETR_LIST, cv.CHAIN_APPROX_SIMPLE)\n",
    "\n",
    "bb = cv.drawContours(blank, contour, -1, (0,0,0) , 3)\n",
    "cv.imwrite('resized_gimage_contour.JPG', bb)"
   ]
  },
  {
   "cell_type": "code",
   "execution_count": null,
   "id": "b47adad9-681b-4afe-95c0-68e23cbc92d8",
   "metadata": {},
   "outputs": [],
   "source": []
  },
  {
   "cell_type": "code",
   "execution_count": null,
   "id": "779181a9-d0b3-4e79-941b-6f6e45e73056",
   "metadata": {},
   "outputs": [],
   "source": []
  },
  {
   "cell_type": "code",
   "execution_count": 16,
   "id": "178a6f66-98d9-4df6-a1ed-2d51f18333ae",
   "metadata": {
    "tags": []
   },
   "outputs": [],
   "source": [
    "# import cv2 as cv\n",
    "# import tensorflow as tf\n",
    "image = tf.keras.utils.load_img(\"wheat_leaf/stripe_rust/lolr(1).JPG\", \n",
    "                                target_size=(224, 224))\n",
    "image_arr = tf.keras.utils.img_to_array(image)"
   ]
  },
  {
   "cell_type": "code",
   "execution_count": 17,
   "id": "cb1aeebf-8592-4fc9-936a-960d45d53399",
   "metadata": {
    "tags": []
   },
   "outputs": [
    {
     "data": {
      "text/plain": [
       "True"
      ]
     },
     "execution_count": 17,
     "metadata": {},
     "output_type": "execute_result"
    }
   ],
   "source": [
    "cv.imwrite('test100.JPG', image_arr)"
   ]
  },
  {
   "cell_type": "code",
   "execution_count": 18,
   "id": "1cacd74f-b0b6-4020-ab26-fefd461c8a00",
   "metadata": {
    "tags": []
   },
   "outputs": [
    {
     "data": {
      "text/plain": [
       "(1912, 1947, 3)"
      ]
     },
     "execution_count": 18,
     "metadata": {},
     "output_type": "execute_result"
    }
   ],
   "source": [
    "# Load an image\n",
    "img = cv.imread(\"wheat_leaf/stripe_rust/lolr(1).JPG\")\n",
    "img.shape"
   ]
  },
  {
   "cell_type": "code",
   "execution_count": 19,
   "id": "da9ec7f4-e8db-4d9e-856e-ec1656153136",
   "metadata": {
    "tags": []
   },
   "outputs": [],
   "source": [
    "img = cv.resize(img, (224,224))"
   ]
  },
  {
   "cell_type": "code",
   "execution_count": 20,
   "id": "3aa99f62-3185-441d-9838-7cf8e07ed616",
   "metadata": {
    "tags": []
   },
   "outputs": [
    {
     "data": {
      "text/plain": [
       "True"
      ]
     },
     "execution_count": 20,
     "metadata": {},
     "output_type": "execute_result"
    }
   ],
   "source": [
    "cv.imwrite('test100_.JPG', img)"
   ]
  },
  {
   "cell_type": "code",
   "execution_count": null,
   "id": "d3f52460-45a9-4608-b3ee-a88371f032f3",
   "metadata": {},
   "outputs": [],
   "source": []
  }
 ],
 "metadata": {
  "kernelspec": {
   "display_name": "Python 3 (ipykernel)",
   "language": "python",
   "name": "python3"
  },
  "language_info": {
   "codemirror_mode": {
    "name": "ipython",
    "version": 3
   },
   "file_extension": ".py",
   "mimetype": "text/x-python",
   "name": "python",
   "nbconvert_exporter": "python",
   "pygments_lexer": "ipython3",
   "version": "3.10.10"
  }
 },
 "nbformat": 4,
 "nbformat_minor": 5
}
