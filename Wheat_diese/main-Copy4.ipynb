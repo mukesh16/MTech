{
 "cells": [
  {
   "cell_type": "code",
   "execution_count": 1,
   "id": "cd202c63-d7c9-4bef-a6e1-3e26885dc617",
   "metadata": {
    "tags": []
   },
   "outputs": [
    {
     "name": "stdout",
     "output_type": "stream",
     "text": [
      "2.10.1\n"
     ]
    }
   ],
   "source": [
    "import os\n",
    "import cv2 as cv\n",
    "import numpy as np\n",
    "import tensorflow as tf\n",
    "print(tf.__version__)"
   ]
  },
  {
   "cell_type": "code",
   "execution_count": 2,
   "id": "ccdd0617-6a27-4e40-bd4c-6453175db0b3",
   "metadata": {
    "tags": []
   },
   "outputs": [
    {
     "name": "stdout",
     "output_type": "stream",
     "text": [
      "successfully loaded for class: Healthy\n",
      "successfully loaded for class: septoria\n",
      "successfully loaded for class: stripe_rust\n"
     ]
    }
   ],
   "source": [
    "# Get the current working directory\n",
    "# cwd = os.getcwd()\n",
    "\n",
    "X, y = [], []\n",
    "path = \"wheat_leaf\"\n",
    "class_dict = {'Healthy':0, \n",
    "              'septoria':1, \n",
    "              'stripe_rust':2}\n",
    "\n",
    "for each_class in class_dict.keys():\n",
    "    # Get all the files in the path directory\n",
    "    files = os.listdir(path + '/' + each_class)\n",
    "    # print(files)\n",
    "    for each_file in files:\n",
    "        if each_file[0] == '.':\n",
    "            continue\n",
    "            \n",
    "#         image = tf.keras.utils.load_img(path + '/' + each_class + '/' + each_file, \n",
    "#                                         target_size=(224, 224))\n",
    "#         image_arr = tf.keras.utils.img_to_array(image)\n",
    "        img = cv.imread(path + '/' + each_class + '/' + each_file)\n",
    "        image_arr = cv.resize(img, (224,224))\n",
    "        X.append(image_arr)\n",
    "        y.append(class_dict[each_class])\n",
    "    print('successfully loaded for class:',  each_class)"
   ]
  },
  {
   "cell_type": "code",
   "execution_count": 3,
   "id": "a729ca90-cd69-4eac-8e3c-a6376ada968a",
   "metadata": {
    "tags": []
   },
   "outputs": [
    {
     "data": {
      "text/plain": [
       "((407, 224, 224, 3), (407,))"
      ]
     },
     "execution_count": 3,
     "metadata": {},
     "output_type": "execute_result"
    }
   ],
   "source": [
    "X, y = np.array(X), np.array(y)\n",
    "X.shape, y.shape"
   ]
  },
  {
   "cell_type": "code",
   "execution_count": 4,
   "id": "8290d155-350c-49e8-9406-ce886156c443",
   "metadata": {
    "tags": [],
    "vscode": {
     "languageId": "powershell"
    }
   },
   "outputs": [
    {
     "data": {
      "text/plain": [
       "((325, 224, 224, 3), (82, 224, 224, 3), (325,), (82,))"
      ]
     },
     "execution_count": 4,
     "metadata": {},
     "output_type": "execute_result"
    }
   ],
   "source": [
    "from sklearn.model_selection import train_test_split\n",
    "\n",
    "# Split the data into training and testing sets\n",
    "X_train, X_test, y_train, y_test = train_test_split(X, y, test_size=0.20, random_state=42)\n",
    "X_train.shape, X_test.shape, y_train.shape, y_test.shape"
   ]
  },
  {
   "cell_type": "code",
   "execution_count": 5,
   "id": "ab58f85b-5c0d-4abf-9f4d-4048ff541b5a",
   "metadata": {
    "tags": []
   },
   "outputs": [],
   "source": [
    "X_train = X_train / 255\n",
    "X_test = X_test / 255"
   ]
  },
  {
   "cell_type": "code",
   "execution_count": 6,
   "id": "5023144e-0100-446b-95da-bdb707e1e59f",
   "metadata": {
    "tags": [],
    "vscode": {
     "languageId": "powershell"
    }
   },
   "outputs": [
    {
     "data": {
      "text/plain": [
       "(array([0, 1, 2]), array([ 75,  77, 173], dtype=int64))"
      ]
     },
     "execution_count": 6,
     "metadata": {},
     "output_type": "execute_result"
    }
   ],
   "source": [
    "# y_train.value_counts()\n",
    "unique_values, counts = np.unique(y_train, return_counts=True)\n",
    "unique_values, counts"
   ]
  },
  {
   "cell_type": "code",
   "execution_count": 7,
   "id": "9578ead2-8111-4d8d-a008-936ac1dac3cc",
   "metadata": {
    "tags": [],
    "vscode": {
     "languageId": "powershell"
    }
   },
   "outputs": [
    {
     "data": {
      "text/plain": [
       "(array([0, 1, 2]), array([27, 20, 35], dtype=int64))"
      ]
     },
     "execution_count": 7,
     "metadata": {},
     "output_type": "execute_result"
    }
   ],
   "source": [
    "# y_train.value_counts()\n",
    "unique_values, counts = np.unique(y_test, return_counts=True)\n",
    "unique_values, counts"
   ]
  },
  {
   "cell_type": "code",
   "execution_count": 8,
   "id": "9467609b-be33-4ab6-a8ac-56d60f969e97",
   "metadata": {
    "tags": [],
    "vscode": {
     "languageId": "powershell"
    }
   },
   "outputs": [
    {
     "data": {
      "text/plain": [
       "((325, 3), (82, 3))"
      ]
     },
     "execution_count": 8,
     "metadata": {},
     "output_type": "execute_result"
    }
   ],
   "source": [
    "# Convert labels to one-hot encoding\n",
    "num_classes = 3\n",
    "y_train = tf.keras.utils.to_categorical(y_train, num_classes)\n",
    "y_test = tf.keras.utils.to_categorical(y_test, num_classes)\n",
    "y_train.shape, y_test.shape"
   ]
  },
  {
   "cell_type": "code",
   "execution_count": 10,
   "id": "4cf7bb0f-b037-4b63-baca-e4c116f04ffe",
   "metadata": {
    "tags": [],
    "vscode": {
     "languageId": "powershell"
    }
   },
   "outputs": [],
   "source": [
    "###############"
   ]
  },
  {
   "cell_type": "code",
   "execution_count": 8,
   "id": "367d8f32-05b9-4a7c-8686-a674472c6c97",
   "metadata": {
    "tags": [],
    "vscode": {
     "languageId": "powershell"
    }
   },
   "outputs": [],
   "source": [
    "from tensorflow.keras.preprocessing.image import ImageDataGenerator\n",
    "\n",
    "# Define data augmentation parameters\n",
    "train_datagen = ImageDataGenerator(\n",
    "    rotation_range=20,      # Random rotation within the range [-20, 20] degrees\n",
    "    width_shift_range=0.1,  # Random horizontal shift by up to 10% of the image width\n",
    "    height_shift_range=0.1, # Random vertical shift by up to 10% of the image height\n",
    "    zoom_range=0.2,         # Random zoom by up to 20%\n",
    "    horizontal_flip=True    # Random horizontal flipping\n",
    ")"
   ]
  },
  {
   "cell_type": "code",
   "execution_count": 9,
   "id": "1bd5bf28-5a3f-47ff-91c3-772082c4af6c",
   "metadata": {
    "tags": [],
    "vscode": {
     "languageId": "powershell"
    }
   },
   "outputs": [],
   "source": [
    "from tensorflow.keras import layers, models\n",
    "\n",
    "# Define the CNN architecture\n",
    "def create_cnn(input_shape, num_classes):\n",
    "    model = models.Sequential()\n",
    "    model.add(layers.InputLayer(input_shape=input_shape))\n",
    "    model.add(layers.Conv2D(16, (3, 3), activation='relu'))\n",
    "    model.add(layers.MaxPooling2D((2, 2)))\n",
    "    model.add(layers.Conv2D(32, (3, 3), activation='relu'))\n",
    "    model.add(layers.MaxPooling2D((2, 2)))\n",
    "    model.add(layers.Conv2D(64, (3, 3), activation='relu'))\n",
    "    model.add(layers.MaxPooling2D((2, 2)))\n",
    "    model.add(layers.Conv2D(32, (3, 3), activation='relu'))\n",
    "    model.add(layers.MaxPooling2D((2, 2)))\n",
    "    model.add(layers.Conv2D(16, (3, 3), activation='relu'))\n",
    "    model.add(layers.Flatten())\n",
    "    model.add(layers.Dense(64, activation='relu'))\n",
    "    model.add(layers.Dense(32, activation='relu'))\n",
    "    model.add(layers.Dense(num_classes, activation='softmax'))\n",
    "    return model"
   ]
  },
  {
   "cell_type": "code",
   "execution_count": 10,
   "id": "5828119c-173a-40bc-ae2c-0de85fd9e691",
   "metadata": {
    "tags": [],
    "vscode": {
     "languageId": "powershell"
    }
   },
   "outputs": [],
   "source": [
    "# Create the CNN model\n",
    "input_shape = X_train.shape[1:]\n",
    "num_classes = 3\n",
    "model = create_cnn(input_shape, num_classes)"
   ]
  },
  {
   "cell_type": "code",
   "execution_count": 11,
   "id": "ca1f8481-9d86-487c-bc16-bb29db3db1ec",
   "metadata": {
    "tags": [],
    "vscode": {
     "languageId": "powershell"
    }
   },
   "outputs": [],
   "source": [
    "# Compile the model\n",
    "model.compile(optimizer='adam',\n",
    "              loss='categorical_crossentropy',\n",
    "              metrics=['accuracy'])"
   ]
  },
  {
   "cell_type": "code",
   "execution_count": 12,
   "id": "152e05ac-bc3d-456a-b1cf-020efc7bc384",
   "metadata": {
    "tags": [],
    "vscode": {
     "languageId": "powershell"
    }
   },
   "outputs": [
    {
     "name": "stdout",
     "output_type": "stream",
     "text": [
      "Model: \"sequential\"\n",
      "_________________________________________________________________\n",
      " Layer (type)                Output Shape              Param #   \n",
      "=================================================================\n",
      " conv2d (Conv2D)             (None, 222, 222, 16)      448       \n",
      "                                                                 \n",
      " max_pooling2d (MaxPooling2D  (None, 111, 111, 16)     0         \n",
      " )                                                               \n",
      "                                                                 \n",
      " conv2d_1 (Conv2D)           (None, 109, 109, 32)      4640      \n",
      "                                                                 \n",
      " max_pooling2d_1 (MaxPooling  (None, 54, 54, 32)       0         \n",
      " 2D)                                                             \n",
      "                                                                 \n",
      " conv2d_2 (Conv2D)           (None, 52, 52, 64)        18496     \n",
      "                                                                 \n",
      " max_pooling2d_2 (MaxPooling  (None, 26, 26, 64)       0         \n",
      " 2D)                                                             \n",
      "                                                                 \n",
      " conv2d_3 (Conv2D)           (None, 24, 24, 32)        18464     \n",
      "                                                                 \n",
      " max_pooling2d_3 (MaxPooling  (None, 12, 12, 32)       0         \n",
      " 2D)                                                             \n",
      "                                                                 \n",
      " conv2d_4 (Conv2D)           (None, 10, 10, 16)        4624      \n",
      "                                                                 \n",
      " flatten (Flatten)           (None, 1600)              0         \n",
      "                                                                 \n",
      " dense (Dense)               (None, 64)                102464    \n",
      "                                                                 \n",
      " dense_1 (Dense)             (None, 32)                2080      \n",
      "                                                                 \n",
      " dense_2 (Dense)             (None, 3)                 99        \n",
      "                                                                 \n",
      "=================================================================\n",
      "Total params: 151,315\n",
      "Trainable params: 151,315\n",
      "Non-trainable params: 0\n",
      "_________________________________________________________________\n"
     ]
    }
   ],
   "source": [
    "model.summary()"
   ]
  },
  {
   "cell_type": "code",
   "execution_count": 15,
   "id": "b24cdd38-c15c-4869-b34a-7872609d78f9",
   "metadata": {
    "tags": [],
    "vscode": {
     "languageId": "powershell"
    }
   },
   "outputs": [
    {
     "name": "stdout",
     "output_type": "stream",
     "text": [
      "Epoch 1/10\n",
      "5/5 [==============================] - 19s 4s/step - loss: 0.8412 - accuracy: 0.6361 - val_loss: 0.8542 - val_accuracy: 0.5784\n",
      "Epoch 2/10\n",
      "5/5 [==============================] - 20s 4s/step - loss: 0.7256 - accuracy: 0.6721 - val_loss: 0.7327 - val_accuracy: 0.6078\n",
      "Epoch 3/10\n",
      "5/5 [==============================] - 21s 4s/step - loss: 0.6841 - accuracy: 0.6820 - val_loss: 0.6612 - val_accuracy: 0.5980\n",
      "Epoch 4/10\n",
      "5/5 [==============================] - 19s 4s/step - loss: 0.5427 - accuracy: 0.7672 - val_loss: 0.6451 - val_accuracy: 0.6373\n",
      "Epoch 5/10\n",
      "5/5 [==============================] - 19s 4s/step - loss: 0.5125 - accuracy: 0.7607 - val_loss: 0.5956 - val_accuracy: 0.7255\n",
      "Epoch 6/10\n",
      "5/5 [==============================] - 17s 3s/step - loss: 0.5258 - accuracy: 0.7770 - val_loss: 0.5837 - val_accuracy: 0.7255\n",
      "Epoch 7/10\n",
      "5/5 [==============================] - 17s 3s/step - loss: 0.5108 - accuracy: 0.7377 - val_loss: 0.7256 - val_accuracy: 0.6275\n",
      "Epoch 8/10\n",
      "5/5 [==============================] - 17s 4s/step - loss: 0.4497 - accuracy: 0.8066 - val_loss: 0.5088 - val_accuracy: 0.8137\n",
      "Epoch 9/10\n",
      "5/5 [==============================] - 18s 4s/step - loss: 0.4177 - accuracy: 0.8098 - val_loss: 0.4873 - val_accuracy: 0.7941\n",
      "Epoch 10/10\n",
      "5/5 [==============================] - 18s 4s/step - loss: 0.3875 - accuracy: 0.8393 - val_loss: 0.6753 - val_accuracy: 0.6667\n"
     ]
    }
   ],
   "source": [
    "# Train the model\n",
    "history = model.fit(X_train, y_train, epochs=10, \n",
    "                    batch_size=64, validation_data=(X_test, y_test))\n",
    "\n",
    "# # Fit the model with data augmentation\n",
    "# batch_size = 64\n",
    "# epochs = 10\n",
    "\n",
    "# history = model.fit(train_datagen.flow(X_train, y_train, batch_size=batch_size),\n",
    "#                     epochs=epochs, validation_data=(X_test, y_test))"
   ]
  },
  {
   "cell_type": "code",
   "execution_count": 16,
   "id": "838d8ea8-1123-4920-8739-f90fcca95746",
   "metadata": {
    "tags": [],
    "vscode": {
     "languageId": "powershell"
    }
   },
   "outputs": [
    {
     "name": "stdout",
     "output_type": "stream",
     "text": [
      "4/4 [==============================] - 2s 492ms/step - loss: 0.6753 - accuracy: 0.6667\n",
      "Test loss: 0.6752800941467285\n",
      "Test accuracy: 0.6666666865348816\n"
     ]
    }
   ],
   "source": [
    "# Evaluate the model\n",
    "test_loss, test_acc = model.evaluate(X_test, y_test)\n",
    "\n",
    "print('Test loss:', test_loss)\n",
    "print('Test accuracy:', test_acc)"
   ]
  },
  {
   "cell_type": "code",
   "execution_count": null,
   "id": "348fad24-28d4-44c0-ae65-22438775a77d",
   "metadata": {
    "vscode": {
     "languageId": "powershell"
    }
   },
   "outputs": [],
   "source": []
  },
  {
   "cell_type": "code",
   "execution_count": null,
   "id": "7cf781fb-1ca6-410c-bac0-793e8e9745b0",
   "metadata": {
    "vscode": {
     "languageId": "powershell"
    }
   },
   "outputs": [],
   "source": []
  },
  {
   "cell_type": "code",
   "execution_count": null,
   "id": "7a022990-9fd6-4856-ac44-bfa133b19d0b",
   "metadata": {
    "vscode": {
     "languageId": "powershell"
    }
   },
   "outputs": [],
   "source": []
  },
  {
   "cell_type": "code",
   "execution_count": null,
   "id": "382a3f41-5a11-4526-94fd-d82e40c59f20",
   "metadata": {
    "vscode": {
     "languageId": "powershell"
    }
   },
   "outputs": [],
   "source": []
  },
  {
   "cell_type": "code",
   "execution_count": 9,
   "id": "3c944d5c-53c4-41cc-8965-6df7c1e75c30",
   "metadata": {
    "tags": [],
    "vscode": {
     "languageId": "powershell"
    }
   },
   "outputs": [],
   "source": [
    "from tensorflow.keras import layers, models, optimizers\n",
    "from tensorflow.keras.applications.densenet import DenseNet121\n",
    "\n",
    "# Load the pre-trained DenseNet121 model\n",
    "base_model = DenseNet121(weights='imagenet')"
   ]
  },
  {
   "cell_type": "code",
   "execution_count": 10,
   "id": "fac1dec0-c3af-4df6-a341-0d1066cc2ba6",
   "metadata": {
    "tags": [],
    "vscode": {
     "languageId": "powershell"
    }
   },
   "outputs": [],
   "source": [
    "# Freeze the convolutional base\n",
    "base_model.trainable = False"
   ]
  },
  {
   "cell_type": "code",
   "execution_count": 11,
   "id": "9961dea6-96a3-47fe-8fab-0648b72838b0",
   "metadata": {
    "tags": [],
    "vscode": {
     "languageId": "powershell"
    }
   },
   "outputs": [],
   "source": [
    "# Add custom dense layers on top of the convolutional base\n",
    "model = models.Sequential([\n",
    "    base_model,\n",
    "    layers.Flatten(),\n",
    "    layers.Dense(256, activation='relu'),\n",
    "    layers.Dropout(0.5),\n",
    "    layers.Dense(128, activation='relu'),\n",
    "    layers.Dropout(0.5),\n",
    "    layers.Dense(256, activation='relu'),\n",
    "    layers.Dropout(0.5),\n",
    "    layers.Dense(3, activation='softmax')  # Output layer with reduced size (e.g., 10 classes)\n",
    "])"
   ]
  },
  {
   "cell_type": "code",
   "execution_count": 12,
   "id": "61820229-bdc7-47da-887a-aa8db643a795",
   "metadata": {
    "tags": [],
    "vscode": {
     "languageId": "powershell"
    }
   },
   "outputs": [
    {
     "name": "stdout",
     "output_type": "stream",
     "text": [
      "Model: \"sequential\"\n",
      "_________________________________________________________________\n",
      " Layer (type)                Output Shape              Param #   \n",
      "=================================================================\n",
      " densenet121 (Functional)    (None, 1000)              8062504   \n",
      "                                                                 \n",
      " flatten (Flatten)           (None, 1000)              0         \n",
      "                                                                 \n",
      " dense (Dense)               (None, 256)               256256    \n",
      "                                                                 \n",
      " dropout (Dropout)           (None, 256)               0         \n",
      "                                                                 \n",
      " dense_1 (Dense)             (None, 128)               32896     \n",
      "                                                                 \n",
      " dropout_1 (Dropout)         (None, 128)               0         \n",
      "                                                                 \n",
      " dense_2 (Dense)             (None, 256)               33024     \n",
      "                                                                 \n",
      " dropout_2 (Dropout)         (None, 256)               0         \n",
      "                                                                 \n",
      " dense_3 (Dense)             (None, 3)                 771       \n",
      "                                                                 \n",
      "=================================================================\n",
      "Total params: 8,385,451\n",
      "Trainable params: 322,947\n",
      "Non-trainable params: 8,062,504\n",
      "_________________________________________________________________\n"
     ]
    }
   ],
   "source": [
    "model.summary()"
   ]
  },
  {
   "cell_type": "code",
   "execution_count": 13,
   "id": "14559119-7fd6-4c05-ac9b-47d7f79a1eb4",
   "metadata": {
    "tags": [],
    "vscode": {
     "languageId": "powershell"
    }
   },
   "outputs": [],
   "source": [
    "# Compile the model\n",
    "model.compile(optimizer='adam',\n",
    "              loss='categorical_crossentropy',\n",
    "              metrics=['accuracy'])"
   ]
  },
  {
   "cell_type": "code",
   "execution_count": 14,
   "id": "e84af4bd-3925-4b82-87c6-6e41ec8a7042",
   "metadata": {
    "tags": [],
    "vscode": {
     "languageId": "powershell"
    }
   },
   "outputs": [
    {
     "name": "stdout",
     "output_type": "stream",
     "text": [
      "Epoch 1/25\n",
      "6/6 [==============================] - 29s 4s/step - loss: 1.0930 - accuracy: 0.4523 - val_loss: 1.0866 - val_accuracy: 0.4268\n",
      "Epoch 2/25\n",
      "6/6 [==============================] - 24s 4s/step - loss: 1.0687 - accuracy: 0.5323 - val_loss: 1.0758 - val_accuracy: 0.4268\n",
      "Epoch 3/25\n",
      "6/6 [==============================] - 23s 4s/step - loss: 1.0405 - accuracy: 0.5323 - val_loss: 1.0623 - val_accuracy: 0.4268\n",
      "Epoch 4/25\n",
      "6/6 [==============================] - 24s 4s/step - loss: 1.0017 - accuracy: 0.5323 - val_loss: 1.0566 - val_accuracy: 0.4268\n",
      "Epoch 5/25\n",
      "6/6 [==============================] - 24s 4s/step - loss: 0.9638 - accuracy: 0.5323 - val_loss: 1.0579 - val_accuracy: 0.4268\n",
      "Epoch 6/25\n",
      "6/6 [==============================] - 24s 4s/step - loss: 0.9436 - accuracy: 0.5323 - val_loss: 1.0476 - val_accuracy: 0.4268\n",
      "Epoch 7/25\n",
      "6/6 [==============================] - 24s 4s/step - loss: 0.9136 - accuracy: 0.5323 - val_loss: 0.9970 - val_accuracy: 0.4268\n",
      "Epoch 8/25\n",
      "6/6 [==============================] - 24s 4s/step - loss: 0.8599 - accuracy: 0.5354 - val_loss: 0.9411 - val_accuracy: 0.5122\n",
      "Epoch 9/25\n",
      "6/6 [==============================] - 25s 4s/step - loss: 0.8137 - accuracy: 0.5538 - val_loss: 0.8953 - val_accuracy: 0.5732\n",
      "Epoch 10/25\n",
      "6/6 [==============================] - 236s 4s/step - loss: 0.7498 - accuracy: 0.6123 - val_loss: 0.8366 - val_accuracy: 0.6098\n",
      "Epoch 11/25\n",
      "6/6 [==============================] - 22s 4s/step - loss: 0.6674 - accuracy: 0.6954 - val_loss: 0.7608 - val_accuracy: 0.6585\n",
      "Epoch 12/25\n",
      "6/6 [==============================] - 24s 4s/step - loss: 0.6220 - accuracy: 0.7508 - val_loss: 0.7136 - val_accuracy: 0.6829\n",
      "Epoch 13/25\n",
      "6/6 [==============================] - 25s 4s/step - loss: 0.5318 - accuracy: 0.7938 - val_loss: 0.6333 - val_accuracy: 0.6951\n",
      "Epoch 14/25\n",
      "6/6 [==============================] - 24s 4s/step - loss: 0.4955 - accuracy: 0.8338 - val_loss: 0.5546 - val_accuracy: 0.7561\n",
      "Epoch 15/25\n",
      "6/6 [==============================] - 25s 4s/step - loss: 0.4185 - accuracy: 0.8677 - val_loss: 0.5971 - val_accuracy: 0.7439\n",
      "Epoch 16/25\n",
      "6/6 [==============================] - 24s 4s/step - loss: 0.3877 - accuracy: 0.8462 - val_loss: 0.5729 - val_accuracy: 0.7683\n",
      "Epoch 17/25\n",
      "6/6 [==============================] - 24s 4s/step - loss: 0.3551 - accuracy: 0.8708 - val_loss: 0.5489 - val_accuracy: 0.7683\n",
      "Epoch 18/25\n",
      "6/6 [==============================] - 25s 4s/step - loss: 0.3283 - accuracy: 0.8769 - val_loss: 0.5662 - val_accuracy: 0.7683\n",
      "Epoch 19/25\n",
      "6/6 [==============================] - 24s 4s/step - loss: 0.3050 - accuracy: 0.9046 - val_loss: 0.5421 - val_accuracy: 0.7561\n",
      "Epoch 20/25\n",
      "6/6 [==============================] - 23s 4s/step - loss: 0.2937 - accuracy: 0.9015 - val_loss: 0.5209 - val_accuracy: 0.7927\n",
      "Epoch 21/25\n",
      "6/6 [==============================] - 24s 4s/step - loss: 0.2834 - accuracy: 0.8954 - val_loss: 0.5291 - val_accuracy: 0.8171\n",
      "Epoch 22/25\n",
      "6/6 [==============================] - 23s 4s/step - loss: 0.2584 - accuracy: 0.9077 - val_loss: 0.5019 - val_accuracy: 0.8049\n",
      "Epoch 23/25\n",
      "6/6 [==============================] - 23s 4s/step - loss: 0.2420 - accuracy: 0.9138 - val_loss: 0.5480 - val_accuracy: 0.8049\n",
      "Epoch 24/25\n",
      "6/6 [==============================] - 24s 4s/step - loss: 0.2209 - accuracy: 0.9200 - val_loss: 0.5486 - val_accuracy: 0.8049\n",
      "Epoch 25/25\n",
      "6/6 [==============================] - 24s 4s/step - loss: 0.2163 - accuracy: 0.9354 - val_loss: 0.5443 - val_accuracy: 0.8049\n"
     ]
    }
   ],
   "source": [
    "# Train the model\n",
    "history = model.fit(X_train, y_train, epochs=25, \n",
    "                    batch_size=64, validation_data=(X_test, y_test))"
   ]
  },
  {
   "cell_type": "code",
   "execution_count": 15,
   "id": "f0b5999e-55a9-41e8-9beb-3590188635e3",
   "metadata": {
    "tags": [],
    "vscode": {
     "languageId": "powershell"
    }
   },
   "outputs": [
    {
     "name": "stdout",
     "output_type": "stream",
     "text": [
      "3/3 [==============================] - 4s 1s/step - loss: 0.5443 - accuracy: 0.8049\n",
      "Test loss: 0.5442630648612976\n",
      "Test accuracy: 0.8048780560493469\n"
     ]
    }
   ],
   "source": [
    "# Evaluate the model\n",
    "test_loss, test_acc = model.evaluate(X_test, y_test)\n",
    "\n",
    "print('Test loss:', test_loss)\n",
    "print('Test accuracy:', test_acc)"
   ]
  }
 ],
 "metadata": {
  "kernelspec": {
   "display_name": "Python 3",
   "language": "python",
   "name": "python3"
  },
  "language_info": {
   "codemirror_mode": {
    "name": "ipython",
    "version": 3
   },
   "file_extension": ".py",
   "mimetype": "text/x-python",
   "name": "python",
   "nbconvert_exporter": "python",
   "pygments_lexer": "ipython3",
   "version": "3.10.10"
  }
 },
 "nbformat": 4,
 "nbformat_minor": 5
}
