{
 "cells": [
  {
   "cell_type": "markdown",
   "id": "a8af4308",
   "metadata": {
    "papermill": {
     "duration": 0.007439,
     "end_time": "2024-02-01T19:06:10.070503",
     "exception": false,
     "start_time": "2024-02-01T19:06:10.063064",
     "status": "completed"
    },
    "tags": []
   },
   "source": [
    "## Mathmatical Explanation"
   ]
  },
  {
   "cell_type": "markdown",
   "id": "67ff3d34",
   "metadata": {
    "papermill": {
     "duration": 0.006569,
     "end_time": "2024-02-01T19:06:10.084130",
     "exception": false,
     "start_time": "2024-02-01T19:06:10.077561",
     "status": "completed"
    },
    "tags": []
   },
   "source": [
    "We will use $\\mathbf{x_i}$ to denote the independent variable and $\\mathbf{y_i}$ to denote dependent variable. A pair of $\\mathbf{(x_i,y_i)}$ is called training example. The subscripe $\\mathbf{i}$ in the notation is simply index into the training set. We have $\\mathbf{m}$ training example then $\\mathbf{i = 1,2,3,...m}$.\n",
    "\n",
    "### Simple (univariate) linear regression\n",
    "the regression model as follows $y_i = \\hat{y}(x_i)+u_i$\n",
    "The goal of supervised learning is to learn a *hypothesis function $\\mathbf{\\hat{y}}$*, for a given training set that can used to estimate $\\mathbf{y}$ based on $\\mathbf{x}$. So hypothesis fuction represented as \n",
    "\n",
    "$$\\mathbf{ \\hat{y}_\\beta(x_{i}) = \\beta_0 + \\beta_1x_i }$$\n",
    "$$ u_i = y_i - \\hat{y}$$\n",
    "\n",
    "$\\mathbf{\\beta_0,\\beta_1}$ are parameter of hypothesis.\n",
    "\n",
    "$u_i$ is called the residual error between the predicted and actual value.\n",
    "### Multiple Linear regression\n",
    "For **Multiple Linear regression** more than one independent variable exit then we will use $\\mathbf{x_{ij}}$ to denote indepedent variable and $\\mathbf{y_{i}}$ to denote dependent variable. We have $\\mathbf{n}$ independent variable then $\\mathbf{j=1,2,3 ..... n}$. The hypothesis function represented as\n",
    "\n",
    "$$\\mathbf{\\hat{y}_\\beta(x_{i}) = \\beta_0 + \\beta_1x_{i1} + \\beta_2 x_{i2} + ..... \\beta_j x_{ij} ...... \\beta_n  x_{mn} }$$\n",
    "$\\mathbf{\\beta_0,\\beta_1,....\\beta_j....\\beta_n }$ are parameter of hypothesis,\n",
    "$\\mathbf{m}$ Number of training exaples,\n",
    "$\\mathbf{n}$ Number of independent variable,\n",
    "$\\mathbf{x_{ij}}$ is $\\mathbf{i^{th}}$ training exaple of $\\mathbf{j^{th}}$ feature.\n",
    "\n",
    "### Model Hypothesis\n",
    "\n",
    "* the error average is null $E(u) = 0$ \n",
    "* Auto-Correlation Absence $cov(u_t, u_{t^{'}}$)\n",
    "* Homosedascite $var(u_t) = \\sigma^{2}$\n",
    "* Normal Distribution by applying central limit theorem, $ u_t \\sim \\mathcal{N}(0,\\,\\sigma^{2})$\n",
    "\n",
    "\n",
    "### Simple Linear Regression Estimator \n",
    "\n",
    "* $b_1 = \\frac{\\sum_{i=1}^{n} (x_i - \\bar{x})(y_i - \\bar{y})}{\\sum_{i=1}^{n} (x_i - \\bar{x})^2}$\n",
    "* $b_0 = \\bar{y} - b_1\\bar{x}$\n",
    "\n",
    "### Multiple Linear Regression Estimator\n",
    "\n",
    "* $\\mathbf{b} = (\\mathbf{X}^T \\mathbf{X})^{-1} \\mathbf{X}^T \\mathbf{y}$\n",
    "\n",
    "#### Etimator Properties\n",
    "\n",
    "* the estimator is Best Linear Unbiased Estimators (BLUE)\n",
    "\n",
    "### Empric Model Validation\n",
    "\n",
    "To evaluate a linear regression model, several metrics are commonly used, including Residual Sum of Squares (RSS), Total Sum of Squares (TSS), Explained Sum of Squares (ESS), and the Coefficient of Determination ($R^2$). Here are the formulas for each of these metrics:\n",
    "\n",
    "1. Residual Sum of Squares (RSS):\n",
    "   $$\\text{RSS} = \\sum_{i=1}^{n} (y_i - \\hat{y}_i)^2$$\n",
    "   where $n$ is the number of observations, $y_i$ is the observed value, and $\\hat{y}_i$ is the predicted value.\n",
    "\n",
    "2. Total Sum of Squares (TSS):\n",
    "   $$\\text{TSS} = \\sum_{i=1}^{n} (y_i - \\bar{y})^2$$\n",
    "   where $\\bar{y}$ is the mean of the observed values.\n",
    "\n",
    "3. Explained Sum of Squares (ESS):\n",
    "   $$\\text{ESS} = \\sum_{i=1}^{n} (\\hat{y}_i - \\bar{y})^2$$\n",
    "   where $\\hat{y}_i$ is the predicted value.\n",
    "\n",
    "4. Coefficient of Determination ($R^2$):\n",
    "   $$R^2 = 1 - \\frac{\\text{RSS}}{\\text{TSS}}$$\n",
    "   Alternatively, $R^2$ can be calculated as the ratio of ESS to TSS:\n",
    "   $$R^2 = \\frac{\\text{ESS}}{\\text{TSS}}$$\n",
    "\n",
    "Here's a breakdown of what each metric represents:\n",
    "\n",
    "- RSS (Residual Sum of Squares): Measures the sum of squared differences between the observed and predicted values. It represents the unexplained variation in the dependent variable.\n",
    "\n",
    "- TSS (Total Sum of Squares): Measures the total variance in the dependent variable. It represents the sum of squared differences between each observed value and the mean of the observed values.\n",
    "\n",
    "- ESS (Explained Sum of Squares): Measures the sum of squared differences between the predicted values and the mean of the observed values. It represents the explained variation in the dependent variable.\n",
    "\n",
    "- $ R^2 $ (Coefficient of Determination): Represents the proportion of the total variance in the dependent variable that is explained by the independent variables. It ranges from 0 to 1, where 1 indicates a perfect fit.\n",
    "\n",
    "In general, a higher $ R^2 $ indicates a better fit of the model to the data, while lower RSS and higher ESS contribute to a better model performance.\n",
    "\n",
    "\n",
    "### Statistical Model Validation\n",
    "\n",
    "* T-Test for Individual Coefficients: $t = \\frac{b_i}{\\text{SE}(b_i)}$\n",
    "* F-Test for Overall Model Significance: $F = \\frac{\\frac{\\text{ESS}}{p}}{\\frac{\\text{RSS}}{n - p - 1}}$"
   ]
  },
  {
   "cell_type": "markdown",
   "id": "a594e594",
   "metadata": {
    "papermill": {
     "duration": 0.006599,
     "end_time": "2024-02-01T19:06:10.097505",
     "exception": false,
     "start_time": "2024-02-01T19:06:10.090906",
     "status": "completed"
    },
    "tags": []
   },
   "source": [
    "# Multiple Linear Regression Example"
   ]
  },
  {
   "cell_type": "markdown",
   "id": "820e9c2c",
   "metadata": {
    "papermill": {
     "duration": 0.006447,
     "end_time": "2024-02-01T19:06:10.110634",
     "exception": false,
     "start_time": "2024-02-01T19:06:10.104187",
     "status": "completed"
    },
    "tags": []
   },
   "source": [
    "## Importing the necessary packages"
   ]
  },
  {
   "cell_type": "code",
   "execution_count": 1,
   "id": "f2b544b1",
   "metadata": {
    "papermill": {
     "duration": 0.961091,
     "end_time": "2024-02-01T19:06:11.078430",
     "exception": false,
     "start_time": "2024-02-01T19:06:10.117339",
     "status": "completed"
    },
    "tags": []
   },
   "outputs": [],
   "source": [
    "import numpy as np\n",
    "import pandas as pd\n",
    "import matplotlib.pyplot as plt"
   ]
  },
  {
   "cell_type": "code",
   "execution_count": 3,
   "id": "ead41e9e",
   "metadata": {
    "papermill": {
     "duration": 0.062823,
     "end_time": "2024-02-01T19:06:11.148383",
     "exception": false,
     "start_time": "2024-02-01T19:06:11.085560",
     "status": "completed"
    },
    "tags": []
   },
   "outputs": [
    {
     "data": {
      "text/html": [
       "<div>\n",
       "<style scoped>\n",
       "    .dataframe tbody tr th:only-of-type {\n",
       "        vertical-align: middle;\n",
       "    }\n",
       "\n",
       "    .dataframe tbody tr th {\n",
       "        vertical-align: top;\n",
       "    }\n",
       "\n",
       "    .dataframe thead th {\n",
       "        text-align: right;\n",
       "    }\n",
       "</style>\n",
       "<table border=\"1\" class=\"dataframe\">\n",
       "  <thead>\n",
       "    <tr style=\"text-align: right;\">\n",
       "      <th></th>\n",
       "      <th>age</th>\n",
       "      <th>sex</th>\n",
       "      <th>bmi</th>\n",
       "      <th>children</th>\n",
       "      <th>smoker</th>\n",
       "      <th>region</th>\n",
       "      <th>charges</th>\n",
       "    </tr>\n",
       "  </thead>\n",
       "  <tbody>\n",
       "    <tr>\n",
       "      <th>0</th>\n",
       "      <td>19</td>\n",
       "      <td>female</td>\n",
       "      <td>27.900</td>\n",
       "      <td>0</td>\n",
       "      <td>yes</td>\n",
       "      <td>southwest</td>\n",
       "      <td>16884.92400</td>\n",
       "    </tr>\n",
       "    <tr>\n",
       "      <th>1</th>\n",
       "      <td>18</td>\n",
       "      <td>male</td>\n",
       "      <td>33.770</td>\n",
       "      <td>1</td>\n",
       "      <td>no</td>\n",
       "      <td>southeast</td>\n",
       "      <td>1725.55230</td>\n",
       "    </tr>\n",
       "    <tr>\n",
       "      <th>2</th>\n",
       "      <td>28</td>\n",
       "      <td>male</td>\n",
       "      <td>33.000</td>\n",
       "      <td>3</td>\n",
       "      <td>no</td>\n",
       "      <td>southeast</td>\n",
       "      <td>4449.46200</td>\n",
       "    </tr>\n",
       "    <tr>\n",
       "      <th>3</th>\n",
       "      <td>33</td>\n",
       "      <td>male</td>\n",
       "      <td>22.705</td>\n",
       "      <td>0</td>\n",
       "      <td>no</td>\n",
       "      <td>northwest</td>\n",
       "      <td>21984.47061</td>\n",
       "    </tr>\n",
       "    <tr>\n",
       "      <th>4</th>\n",
       "      <td>32</td>\n",
       "      <td>male</td>\n",
       "      <td>28.880</td>\n",
       "      <td>0</td>\n",
       "      <td>no</td>\n",
       "      <td>northwest</td>\n",
       "      <td>3866.85520</td>\n",
       "    </tr>\n",
       "  </tbody>\n",
       "</table>\n",
       "</div>"
      ],
      "text/plain": [
       "   age     sex     bmi  children smoker     region      charges\n",
       "0   19  female  27.900         0    yes  southwest  16884.92400\n",
       "1   18    male  33.770         1     no  southeast   1725.55230\n",
       "2   28    male  33.000         3     no  southeast   4449.46200\n",
       "3   33    male  22.705         0     no  northwest  21984.47061\n",
       "4   32    male  28.880         0     no  northwest   3866.85520"
      ]
     },
     "execution_count": 3,
     "metadata": {},
     "output_type": "execute_result"
    }
   ],
   "source": [
    "data = pd.read_csv('data/insurance.csv')\n",
    "data.head()"
   ]
  },
  {
   "cell_type": "markdown",
   "id": "864c6219",
   "metadata": {
    "papermill": {
     "duration": 0.006826,
     "end_time": "2024-02-01T19:06:11.162589",
     "exception": false,
     "start_time": "2024-02-01T19:06:11.155763",
     "status": "completed"
    },
    "tags": []
   },
   "source": [
    "## Data Preprocessing "
   ]
  },
  {
   "cell_type": "code",
   "execution_count": 4,
   "id": "1aa39c0f",
   "metadata": {
    "papermill": {
     "duration": 1.344066,
     "end_time": "2024-02-01T19:06:12.514003",
     "exception": false,
     "start_time": "2024-02-01T19:06:11.169937",
     "status": "completed"
    },
    "tags": []
   },
   "outputs": [
    {
     "data": {
      "text/html": [
       "<div>\n",
       "<style scoped>\n",
       "    .dataframe tbody tr th:only-of-type {\n",
       "        vertical-align: middle;\n",
       "    }\n",
       "\n",
       "    .dataframe tbody tr th {\n",
       "        vertical-align: top;\n",
       "    }\n",
       "\n",
       "    .dataframe thead th {\n",
       "        text-align: right;\n",
       "    }\n",
       "</style>\n",
       "<table border=\"1\" class=\"dataframe\">\n",
       "  <thead>\n",
       "    <tr style=\"text-align: right;\">\n",
       "      <th></th>\n",
       "      <th>age</th>\n",
       "      <th>sex</th>\n",
       "      <th>bmi</th>\n",
       "      <th>children</th>\n",
       "      <th>smoker</th>\n",
       "      <th>region</th>\n",
       "      <th>charges</th>\n",
       "    </tr>\n",
       "  </thead>\n",
       "  <tbody>\n",
       "    <tr>\n",
       "      <th>0</th>\n",
       "      <td>19</td>\n",
       "      <td>0</td>\n",
       "      <td>27.900</td>\n",
       "      <td>0</td>\n",
       "      <td>1</td>\n",
       "      <td>southwest</td>\n",
       "      <td>16884.92400</td>\n",
       "    </tr>\n",
       "    <tr>\n",
       "      <th>1</th>\n",
       "      <td>18</td>\n",
       "      <td>1</td>\n",
       "      <td>33.770</td>\n",
       "      <td>1</td>\n",
       "      <td>0</td>\n",
       "      <td>southeast</td>\n",
       "      <td>1725.55230</td>\n",
       "    </tr>\n",
       "    <tr>\n",
       "      <th>2</th>\n",
       "      <td>28</td>\n",
       "      <td>1</td>\n",
       "      <td>33.000</td>\n",
       "      <td>3</td>\n",
       "      <td>0</td>\n",
       "      <td>southeast</td>\n",
       "      <td>4449.46200</td>\n",
       "    </tr>\n",
       "    <tr>\n",
       "      <th>3</th>\n",
       "      <td>33</td>\n",
       "      <td>1</td>\n",
       "      <td>22.705</td>\n",
       "      <td>0</td>\n",
       "      <td>0</td>\n",
       "      <td>northwest</td>\n",
       "      <td>21984.47061</td>\n",
       "    </tr>\n",
       "    <tr>\n",
       "      <th>4</th>\n",
       "      <td>32</td>\n",
       "      <td>1</td>\n",
       "      <td>28.880</td>\n",
       "      <td>0</td>\n",
       "      <td>0</td>\n",
       "      <td>northwest</td>\n",
       "      <td>3866.85520</td>\n",
       "    </tr>\n",
       "  </tbody>\n",
       "</table>\n",
       "</div>"
      ],
      "text/plain": [
       "   age  sex     bmi  children  smoker     region      charges\n",
       "0   19    0  27.900         0       1  southwest  16884.92400\n",
       "1   18    1  33.770         1       0  southeast   1725.55230\n",
       "2   28    1  33.000         3       0  southeast   4449.46200\n",
       "3   33    1  22.705         0       0  northwest  21984.47061\n",
       "4   32    1  28.880         0       0  northwest   3866.85520"
      ]
     },
     "execution_count": 4,
     "metadata": {},
     "output_type": "execute_result"
    }
   ],
   "source": [
    "# Label Encoding:\n",
    "from sklearn.preprocessing import LabelEncoder\n",
    "le = LabelEncoder()\n",
    "data['sex'] = le.fit_transform(data['sex'])\n",
    "data['smoker'] = le.fit_transform(data['smoker'])\n",
    "\n",
    "data.head()"
   ]
  },
  {
   "cell_type": "code",
   "execution_count": 5,
   "id": "0a0202ea-07a8-400c-af8c-b2df4953515f",
   "metadata": {
    "tags": []
   },
   "outputs": [
    {
     "data": {
      "text/html": [
       "<div>\n",
       "<style scoped>\n",
       "    .dataframe tbody tr th:only-of-type {\n",
       "        vertical-align: middle;\n",
       "    }\n",
       "\n",
       "    .dataframe tbody tr th {\n",
       "        vertical-align: top;\n",
       "    }\n",
       "\n",
       "    .dataframe thead th {\n",
       "        text-align: right;\n",
       "    }\n",
       "</style>\n",
       "<table border=\"1\" class=\"dataframe\">\n",
       "  <thead>\n",
       "    <tr style=\"text-align: right;\">\n",
       "      <th></th>\n",
       "      <th>age</th>\n",
       "      <th>sex</th>\n",
       "      <th>bmi</th>\n",
       "      <th>children</th>\n",
       "      <th>smoker</th>\n",
       "      <th>charges</th>\n",
       "      <th>region_northeast</th>\n",
       "      <th>region_northwest</th>\n",
       "      <th>region_southeast</th>\n",
       "      <th>region_southwest</th>\n",
       "    </tr>\n",
       "  </thead>\n",
       "  <tbody>\n",
       "    <tr>\n",
       "      <th>0</th>\n",
       "      <td>19</td>\n",
       "      <td>0</td>\n",
       "      <td>27.900</td>\n",
       "      <td>0</td>\n",
       "      <td>1</td>\n",
       "      <td>16884.92400</td>\n",
       "      <td>0</td>\n",
       "      <td>0</td>\n",
       "      <td>0</td>\n",
       "      <td>1</td>\n",
       "    </tr>\n",
       "    <tr>\n",
       "      <th>1</th>\n",
       "      <td>18</td>\n",
       "      <td>1</td>\n",
       "      <td>33.770</td>\n",
       "      <td>1</td>\n",
       "      <td>0</td>\n",
       "      <td>1725.55230</td>\n",
       "      <td>0</td>\n",
       "      <td>0</td>\n",
       "      <td>1</td>\n",
       "      <td>0</td>\n",
       "    </tr>\n",
       "    <tr>\n",
       "      <th>2</th>\n",
       "      <td>28</td>\n",
       "      <td>1</td>\n",
       "      <td>33.000</td>\n",
       "      <td>3</td>\n",
       "      <td>0</td>\n",
       "      <td>4449.46200</td>\n",
       "      <td>0</td>\n",
       "      <td>0</td>\n",
       "      <td>1</td>\n",
       "      <td>0</td>\n",
       "    </tr>\n",
       "    <tr>\n",
       "      <th>3</th>\n",
       "      <td>33</td>\n",
       "      <td>1</td>\n",
       "      <td>22.705</td>\n",
       "      <td>0</td>\n",
       "      <td>0</td>\n",
       "      <td>21984.47061</td>\n",
       "      <td>0</td>\n",
       "      <td>1</td>\n",
       "      <td>0</td>\n",
       "      <td>0</td>\n",
       "    </tr>\n",
       "    <tr>\n",
       "      <th>4</th>\n",
       "      <td>32</td>\n",
       "      <td>1</td>\n",
       "      <td>28.880</td>\n",
       "      <td>0</td>\n",
       "      <td>0</td>\n",
       "      <td>3866.85520</td>\n",
       "      <td>0</td>\n",
       "      <td>1</td>\n",
       "      <td>0</td>\n",
       "      <td>0</td>\n",
       "    </tr>\n",
       "  </tbody>\n",
       "</table>\n",
       "</div>"
      ],
      "text/plain": [
       "   age  sex     bmi  children  smoker      charges  region_northeast  \\\n",
       "0   19    0  27.900         0       1  16884.92400                 0   \n",
       "1   18    1  33.770         1       0   1725.55230                 0   \n",
       "2   28    1  33.000         3       0   4449.46200                 0   \n",
       "3   33    1  22.705         0       0  21984.47061                 0   \n",
       "4   32    1  28.880         0       0   3866.85520                 0   \n",
       "\n",
       "   region_northwest  region_southeast  region_southwest  \n",
       "0                 0                 0                 1  \n",
       "1                 0                 1                 0  \n",
       "2                 0                 1                 0  \n",
       "3                 1                 0                 0  \n",
       "4                 1                 0                 0  "
      ]
     },
     "execution_count": 5,
     "metadata": {},
     "output_type": "execute_result"
    }
   ],
   "source": [
    "# OneHot Encoding:\n",
    "data = pd.get_dummies(data, columns=['region'], prefix='region')\n",
    "data.head()"
   ]
  },
  {
   "cell_type": "code",
   "execution_count": 6,
   "id": "5e0f6aa0",
   "metadata": {
    "papermill": {
     "duration": 0.032106,
     "end_time": "2024-02-01T19:06:12.553829",
     "exception": false,
     "start_time": "2024-02-01T19:06:12.521723",
     "status": "completed"
    },
    "tags": []
   },
   "outputs": [
    {
     "data": {
      "text/html": [
       "<div>\n",
       "<style scoped>\n",
       "    .dataframe tbody tr th:only-of-type {\n",
       "        vertical-align: middle;\n",
       "    }\n",
       "\n",
       "    .dataframe tbody tr th {\n",
       "        vertical-align: top;\n",
       "    }\n",
       "\n",
       "    .dataframe thead th {\n",
       "        text-align: right;\n",
       "    }\n",
       "</style>\n",
       "<table border=\"1\" class=\"dataframe\">\n",
       "  <thead>\n",
       "    <tr style=\"text-align: right;\">\n",
       "      <th></th>\n",
       "      <th>age</th>\n",
       "      <th>sex</th>\n",
       "      <th>bmi</th>\n",
       "      <th>children</th>\n",
       "      <th>smoker</th>\n",
       "      <th>charges</th>\n",
       "      <th>region_northeast</th>\n",
       "      <th>region_northwest</th>\n",
       "      <th>region_southeast</th>\n",
       "      <th>region_southwest</th>\n",
       "    </tr>\n",
       "  </thead>\n",
       "  <tbody>\n",
       "    <tr>\n",
       "      <th>0</th>\n",
       "      <td>19</td>\n",
       "      <td>0</td>\n",
       "      <td>27.900</td>\n",
       "      <td>0</td>\n",
       "      <td>1</td>\n",
       "      <td>16884.92400</td>\n",
       "      <td>0</td>\n",
       "      <td>0</td>\n",
       "      <td>0</td>\n",
       "      <td>1</td>\n",
       "    </tr>\n",
       "    <tr>\n",
       "      <th>1</th>\n",
       "      <td>18</td>\n",
       "      <td>1</td>\n",
       "      <td>33.770</td>\n",
       "      <td>1</td>\n",
       "      <td>0</td>\n",
       "      <td>1725.55230</td>\n",
       "      <td>0</td>\n",
       "      <td>0</td>\n",
       "      <td>1</td>\n",
       "      <td>0</td>\n",
       "    </tr>\n",
       "    <tr>\n",
       "      <th>2</th>\n",
       "      <td>28</td>\n",
       "      <td>1</td>\n",
       "      <td>33.000</td>\n",
       "      <td>3</td>\n",
       "      <td>0</td>\n",
       "      <td>4449.46200</td>\n",
       "      <td>0</td>\n",
       "      <td>0</td>\n",
       "      <td>1</td>\n",
       "      <td>0</td>\n",
       "    </tr>\n",
       "    <tr>\n",
       "      <th>3</th>\n",
       "      <td>33</td>\n",
       "      <td>1</td>\n",
       "      <td>22.705</td>\n",
       "      <td>0</td>\n",
       "      <td>0</td>\n",
       "      <td>21984.47061</td>\n",
       "      <td>0</td>\n",
       "      <td>1</td>\n",
       "      <td>0</td>\n",
       "      <td>0</td>\n",
       "    </tr>\n",
       "    <tr>\n",
       "      <th>4</th>\n",
       "      <td>32</td>\n",
       "      <td>1</td>\n",
       "      <td>28.880</td>\n",
       "      <td>0</td>\n",
       "      <td>0</td>\n",
       "      <td>3866.85520</td>\n",
       "      <td>0</td>\n",
       "      <td>1</td>\n",
       "      <td>0</td>\n",
       "      <td>0</td>\n",
       "    </tr>\n",
       "  </tbody>\n",
       "</table>\n",
       "</div>"
      ],
      "text/plain": [
       "   age  sex     bmi  children  smoker      charges  region_northeast  \\\n",
       "0   19    0  27.900         0       1  16884.92400                 0   \n",
       "1   18    1  33.770         1       0   1725.55230                 0   \n",
       "2   28    1  33.000         3       0   4449.46200                 0   \n",
       "3   33    1  22.705         0       0  21984.47061                 0   \n",
       "4   32    1  28.880         0       0   3866.85520                 0   \n",
       "\n",
       "   region_northwest  region_southeast  region_southwest  \n",
       "0                 0                 0                 1  \n",
       "1                 0                 1                 0  \n",
       "2                 0                 1                 0  \n",
       "3                 1                 0                 0  \n",
       "4                 1                 0                 0  "
      ]
     },
     "execution_count": 6,
     "metadata": {},
     "output_type": "execute_result"
    }
   ],
   "source": [
    "data['region_northeast'] = data['region_northeast'].astype(int)\n",
    "data['region_northwest'] = data['region_northwest'].astype(int)\n",
    "data['region_southeast'] = data['region_southeast'].astype(int)\n",
    "data['region_southwest'] = data['region_southwest'].astype(int)\n",
    "data.head()"
   ]
  },
  {
   "cell_type": "code",
   "execution_count": 18,
   "id": "c2b2375b-fe6b-4fb3-88cd-ba7f39c10dc5",
   "metadata": {
    "tags": []
   },
   "outputs": [
    {
     "data": {
      "text/plain": [
       "age                 1.000000\n",
       "sex                -0.020856\n",
       "bmi                 0.109272\n",
       "children            0.042469\n",
       "smoker             -0.025019\n",
       "charges             0.299008\n",
       "region_northeast    0.002475\n",
       "region_northwest   -0.000407\n",
       "region_southeast   -0.011642\n",
       "region_southwest    0.010016\n",
       "Name: age, dtype: float64"
      ]
     },
     "execution_count": 18,
     "metadata": {},
     "output_type": "execute_result"
    }
   ],
   "source": [
    "corr = data.corr()['age']\n",
    "data.corr()['age']"
   ]
  },
  {
   "cell_type": "code",
   "execution_count": 14,
   "id": "a30b8e32",
   "metadata": {
    "papermill": {
     "duration": 0.128205,
     "end_time": "2024-02-01T19:06:12.692162",
     "exception": false,
     "start_time": "2024-02-01T19:06:12.563957",
     "status": "completed"
    },
    "tags": []
   },
   "outputs": [],
   "source": [
    "# Preparing test & training data\n",
    "from sklearn.model_selection import train_test_split\n",
    "\n",
    "X_train, X_test, y_train, y_test = train_test_split(\n",
    "    data.drop('charges', axis=1),\n",
    "    data['charges'], \n",
    "    test_size = 0.2, \n",
    "    random_state = 0)"
   ]
  },
  {
   "cell_type": "code",
   "execution_count": 27,
   "id": "e5de4453",
   "metadata": {
    "papermill": {
     "duration": 0.224547,
     "end_time": "2024-02-01T19:06:12.924429",
     "exception": false,
     "start_time": "2024-02-01T19:06:12.699882",
     "status": "completed"
    },
    "tags": []
   },
   "outputs": [
    {
     "data": {
      "text/html": [
       "<style>#sk-container-id-3 {color: black;}#sk-container-id-3 pre{padding: 0;}#sk-container-id-3 div.sk-toggleable {background-color: white;}#sk-container-id-3 label.sk-toggleable__label {cursor: pointer;display: block;width: 100%;margin-bottom: 0;padding: 0.3em;box-sizing: border-box;text-align: center;}#sk-container-id-3 label.sk-toggleable__label-arrow:before {content: \"▸\";float: left;margin-right: 0.25em;color: #696969;}#sk-container-id-3 label.sk-toggleable__label-arrow:hover:before {color: black;}#sk-container-id-3 div.sk-estimator:hover label.sk-toggleable__label-arrow:before {color: black;}#sk-container-id-3 div.sk-toggleable__content {max-height: 0;max-width: 0;overflow: hidden;text-align: left;background-color: #f0f8ff;}#sk-container-id-3 div.sk-toggleable__content pre {margin: 0.2em;color: black;border-radius: 0.25em;background-color: #f0f8ff;}#sk-container-id-3 input.sk-toggleable__control:checked~div.sk-toggleable__content {max-height: 200px;max-width: 100%;overflow: auto;}#sk-container-id-3 input.sk-toggleable__control:checked~label.sk-toggleable__label-arrow:before {content: \"▾\";}#sk-container-id-3 div.sk-estimator input.sk-toggleable__control:checked~label.sk-toggleable__label {background-color: #d4ebff;}#sk-container-id-3 div.sk-label input.sk-toggleable__control:checked~label.sk-toggleable__label {background-color: #d4ebff;}#sk-container-id-3 input.sk-hidden--visually {border: 0;clip: rect(1px 1px 1px 1px);clip: rect(1px, 1px, 1px, 1px);height: 1px;margin: -1px;overflow: hidden;padding: 0;position: absolute;width: 1px;}#sk-container-id-3 div.sk-estimator {font-family: monospace;background-color: #f0f8ff;border: 1px dotted black;border-radius: 0.25em;box-sizing: border-box;margin-bottom: 0.5em;}#sk-container-id-3 div.sk-estimator:hover {background-color: #d4ebff;}#sk-container-id-3 div.sk-parallel-item::after {content: \"\";width: 100%;border-bottom: 1px solid gray;flex-grow: 1;}#sk-container-id-3 div.sk-label:hover label.sk-toggleable__label {background-color: #d4ebff;}#sk-container-id-3 div.sk-serial::before {content: \"\";position: absolute;border-left: 1px solid gray;box-sizing: border-box;top: 0;bottom: 0;left: 50%;z-index: 0;}#sk-container-id-3 div.sk-serial {display: flex;flex-direction: column;align-items: center;background-color: white;padding-right: 0.2em;padding-left: 0.2em;position: relative;}#sk-container-id-3 div.sk-item {position: relative;z-index: 1;}#sk-container-id-3 div.sk-parallel {display: flex;align-items: stretch;justify-content: center;background-color: white;position: relative;}#sk-container-id-3 div.sk-item::before, #sk-container-id-3 div.sk-parallel-item::before {content: \"\";position: absolute;border-left: 1px solid gray;box-sizing: border-box;top: 0;bottom: 0;left: 50%;z-index: -1;}#sk-container-id-3 div.sk-parallel-item {display: flex;flex-direction: column;z-index: 1;position: relative;background-color: white;}#sk-container-id-3 div.sk-parallel-item:first-child::after {align-self: flex-end;width: 50%;}#sk-container-id-3 div.sk-parallel-item:last-child::after {align-self: flex-start;width: 50%;}#sk-container-id-3 div.sk-parallel-item:only-child::after {width: 0;}#sk-container-id-3 div.sk-dashed-wrapped {border: 1px dashed gray;margin: 0 0.4em 0.5em 0.4em;box-sizing: border-box;padding-bottom: 0.4em;background-color: white;}#sk-container-id-3 div.sk-label label {font-family: monospace;font-weight: bold;display: inline-block;line-height: 1.2em;}#sk-container-id-3 div.sk-label-container {text-align: center;}#sk-container-id-3 div.sk-container {/* jupyter's `normalize.less` sets `[hidden] { display: none; }` but bootstrap.min.css set `[hidden] { display: none !important; }` so we also need the `!important` here to be able to override the default hidden behavior on the sphinx rendered scikit-learn.org. See: https://github.com/scikit-learn/scikit-learn/issues/21755 */display: inline-block !important;position: relative;}#sk-container-id-3 div.sk-text-repr-fallback {display: none;}</style><div id=\"sk-container-id-3\" class=\"sk-top-container\"><div class=\"sk-text-repr-fallback\"><pre>LinearRegression()</pre><b>In a Jupyter environment, please rerun this cell to show the HTML representation or trust the notebook. <br />On GitHub, the HTML representation is unable to render, please try loading this page with nbviewer.org.</b></div><div class=\"sk-container\" hidden><div class=\"sk-item\"><div class=\"sk-estimator sk-toggleable\"><input class=\"sk-toggleable__control sk-hidden--visually\" id=\"sk-estimator-id-3\" type=\"checkbox\" checked><label for=\"sk-estimator-id-3\" class=\"sk-toggleable__label sk-toggleable__label-arrow\">LinearRegression</label><div class=\"sk-toggleable__content\"><pre>LinearRegression()</pre></div></div></div></div></div>"
      ],
      "text/plain": [
       "LinearRegression()"
      ]
     },
     "execution_count": 27,
     "metadata": {},
     "output_type": "execute_result"
    }
   ],
   "source": [
    "# Training the Model\n",
    "# from sklearn.linear_model import LinearRegression\n",
    "regressor = LinearRegression()\n",
    "regressor.fit(X_train, y_train)"
   ]
  },
  {
   "cell_type": "code",
   "execution_count": 16,
   "id": "1f002f4b",
   "metadata": {
    "papermill": {
     "duration": 0.030181,
     "end_time": "2024-02-01T19:06:12.967524",
     "exception": false,
     "start_time": "2024-02-01T19:06:12.937343",
     "status": "completed"
    },
    "tags": []
   },
   "outputs": [
    {
     "name": "stdout",
     "output_type": "stream",
     "text": [
      "Accuracy = 0.7999876970680435\n"
     ]
    }
   ],
   "source": [
    "# R-squared value for the test set\n",
    "accuracy = regressor.score(X_test, y_test)\n",
    "print('Accuracy = '+ str(accuracy))"
   ]
  },
  {
   "cell_type": "code",
   "execution_count": 22,
   "id": "901f043e-c261-46aa-9437-3b1dc775f765",
   "metadata": {
    "tags": []
   },
   "outputs": [
    {
     "data": {
      "text/html": [
       "<div>\n",
       "<style scoped>\n",
       "    .dataframe tbody tr th:only-of-type {\n",
       "        vertical-align: middle;\n",
       "    }\n",
       "\n",
       "    .dataframe tbody tr th {\n",
       "        vertical-align: top;\n",
       "    }\n",
       "\n",
       "    .dataframe thead th {\n",
       "        text-align: right;\n",
       "    }\n",
       "</style>\n",
       "<table border=\"1\" class=\"dataframe\">\n",
       "  <thead>\n",
       "    <tr style=\"text-align: right;\">\n",
       "      <th></th>\n",
       "      <th>age</th>\n",
       "      <th>sex</th>\n",
       "      <th>bmi</th>\n",
       "      <th>children</th>\n",
       "      <th>smoker</th>\n",
       "      <th>charges</th>\n",
       "      <th>region_northeast</th>\n",
       "      <th>region_northwest</th>\n",
       "      <th>region_southeast</th>\n",
       "      <th>region_southwest</th>\n",
       "    </tr>\n",
       "  </thead>\n",
       "  <tbody>\n",
       "    <tr>\n",
       "      <th>0</th>\n",
       "      <td>19.0</td>\n",
       "      <td>-0.000000</td>\n",
       "      <td>3.048685</td>\n",
       "      <td>0.000000</td>\n",
       "      <td>-0.025019</td>\n",
       "      <td>5048.730620</td>\n",
       "      <td>0.0</td>\n",
       "      <td>-0.000000</td>\n",
       "      <td>-0.000000</td>\n",
       "      <td>0.010016</td>\n",
       "    </tr>\n",
       "    <tr>\n",
       "      <th>1</th>\n",
       "      <td>18.0</td>\n",
       "      <td>-0.020856</td>\n",
       "      <td>3.690111</td>\n",
       "      <td>0.042469</td>\n",
       "      <td>-0.000000</td>\n",
       "      <td>515.954276</td>\n",
       "      <td>0.0</td>\n",
       "      <td>-0.000000</td>\n",
       "      <td>-0.011642</td>\n",
       "      <td>0.000000</td>\n",
       "    </tr>\n",
       "    <tr>\n",
       "      <th>2</th>\n",
       "      <td>28.0</td>\n",
       "      <td>-0.020856</td>\n",
       "      <td>3.605972</td>\n",
       "      <td>0.127407</td>\n",
       "      <td>-0.000000</td>\n",
       "      <td>1330.425594</td>\n",
       "      <td>0.0</td>\n",
       "      <td>-0.000000</td>\n",
       "      <td>-0.011642</td>\n",
       "      <td>0.000000</td>\n",
       "    </tr>\n",
       "    <tr>\n",
       "      <th>3</th>\n",
       "      <td>33.0</td>\n",
       "      <td>-0.020856</td>\n",
       "      <td>2.481018</td>\n",
       "      <td>0.000000</td>\n",
       "      <td>-0.000000</td>\n",
       "      <td>6573.536838</td>\n",
       "      <td>0.0</td>\n",
       "      <td>-0.000407</td>\n",
       "      <td>-0.000000</td>\n",
       "      <td>0.000000</td>\n",
       "    </tr>\n",
       "    <tr>\n",
       "      <th>4</th>\n",
       "      <td>32.0</td>\n",
       "      <td>-0.020856</td>\n",
       "      <td>3.155772</td>\n",
       "      <td>0.000000</td>\n",
       "      <td>-0.000000</td>\n",
       "      <td>1156.221387</td>\n",
       "      <td>0.0</td>\n",
       "      <td>-0.000407</td>\n",
       "      <td>-0.000000</td>\n",
       "      <td>0.000000</td>\n",
       "    </tr>\n",
       "  </tbody>\n",
       "</table>\n",
       "</div>"
      ],
      "text/plain": [
       "    age       sex       bmi  children    smoker      charges  \\\n",
       "0  19.0 -0.000000  3.048685  0.000000 -0.025019  5048.730620   \n",
       "1  18.0 -0.020856  3.690111  0.042469 -0.000000   515.954276   \n",
       "2  28.0 -0.020856  3.605972  0.127407 -0.000000  1330.425594   \n",
       "3  33.0 -0.020856  2.481018  0.000000 -0.000000  6573.536838   \n",
       "4  32.0 -0.020856  3.155772  0.000000 -0.000000  1156.221387   \n",
       "\n",
       "   region_northeast  region_northwest  region_southeast  region_southwest  \n",
       "0               0.0         -0.000000         -0.000000          0.010016  \n",
       "1               0.0         -0.000000         -0.011642          0.000000  \n",
       "2               0.0         -0.000000         -0.011642          0.000000  \n",
       "3               0.0         -0.000407         -0.000000          0.000000  \n",
       "4               0.0         -0.000407         -0.000000          0.000000  "
      ]
     },
     "execution_count": 22,
     "metadata": {},
     "output_type": "execute_result"
    }
   ],
   "source": [
    "new_data = data.mul(corr)\n",
    "new_data.head()"
   ]
  },
  {
   "cell_type": "code",
   "execution_count": 23,
   "id": "7fdc1a88-78da-4a1b-8ca9-cfee0f8cb5b3",
   "metadata": {
    "tags": []
   },
   "outputs": [
    {
     "data": {
      "text/html": [
       "<style>#sk-container-id-2 {color: black;}#sk-container-id-2 pre{padding: 0;}#sk-container-id-2 div.sk-toggleable {background-color: white;}#sk-container-id-2 label.sk-toggleable__label {cursor: pointer;display: block;width: 100%;margin-bottom: 0;padding: 0.3em;box-sizing: border-box;text-align: center;}#sk-container-id-2 label.sk-toggleable__label-arrow:before {content: \"▸\";float: left;margin-right: 0.25em;color: #696969;}#sk-container-id-2 label.sk-toggleable__label-arrow:hover:before {color: black;}#sk-container-id-2 div.sk-estimator:hover label.sk-toggleable__label-arrow:before {color: black;}#sk-container-id-2 div.sk-toggleable__content {max-height: 0;max-width: 0;overflow: hidden;text-align: left;background-color: #f0f8ff;}#sk-container-id-2 div.sk-toggleable__content pre {margin: 0.2em;color: black;border-radius: 0.25em;background-color: #f0f8ff;}#sk-container-id-2 input.sk-toggleable__control:checked~div.sk-toggleable__content {max-height: 200px;max-width: 100%;overflow: auto;}#sk-container-id-2 input.sk-toggleable__control:checked~label.sk-toggleable__label-arrow:before {content: \"▾\";}#sk-container-id-2 div.sk-estimator input.sk-toggleable__control:checked~label.sk-toggleable__label {background-color: #d4ebff;}#sk-container-id-2 div.sk-label input.sk-toggleable__control:checked~label.sk-toggleable__label {background-color: #d4ebff;}#sk-container-id-2 input.sk-hidden--visually {border: 0;clip: rect(1px 1px 1px 1px);clip: rect(1px, 1px, 1px, 1px);height: 1px;margin: -1px;overflow: hidden;padding: 0;position: absolute;width: 1px;}#sk-container-id-2 div.sk-estimator {font-family: monospace;background-color: #f0f8ff;border: 1px dotted black;border-radius: 0.25em;box-sizing: border-box;margin-bottom: 0.5em;}#sk-container-id-2 div.sk-estimator:hover {background-color: #d4ebff;}#sk-container-id-2 div.sk-parallel-item::after {content: \"\";width: 100%;border-bottom: 1px solid gray;flex-grow: 1;}#sk-container-id-2 div.sk-label:hover label.sk-toggleable__label {background-color: #d4ebff;}#sk-container-id-2 div.sk-serial::before {content: \"\";position: absolute;border-left: 1px solid gray;box-sizing: border-box;top: 0;bottom: 0;left: 50%;z-index: 0;}#sk-container-id-2 div.sk-serial {display: flex;flex-direction: column;align-items: center;background-color: white;padding-right: 0.2em;padding-left: 0.2em;position: relative;}#sk-container-id-2 div.sk-item {position: relative;z-index: 1;}#sk-container-id-2 div.sk-parallel {display: flex;align-items: stretch;justify-content: center;background-color: white;position: relative;}#sk-container-id-2 div.sk-item::before, #sk-container-id-2 div.sk-parallel-item::before {content: \"\";position: absolute;border-left: 1px solid gray;box-sizing: border-box;top: 0;bottom: 0;left: 50%;z-index: -1;}#sk-container-id-2 div.sk-parallel-item {display: flex;flex-direction: column;z-index: 1;position: relative;background-color: white;}#sk-container-id-2 div.sk-parallel-item:first-child::after {align-self: flex-end;width: 50%;}#sk-container-id-2 div.sk-parallel-item:last-child::after {align-self: flex-start;width: 50%;}#sk-container-id-2 div.sk-parallel-item:only-child::after {width: 0;}#sk-container-id-2 div.sk-dashed-wrapped {border: 1px dashed gray;margin: 0 0.4em 0.5em 0.4em;box-sizing: border-box;padding-bottom: 0.4em;background-color: white;}#sk-container-id-2 div.sk-label label {font-family: monospace;font-weight: bold;display: inline-block;line-height: 1.2em;}#sk-container-id-2 div.sk-label-container {text-align: center;}#sk-container-id-2 div.sk-container {/* jupyter's `normalize.less` sets `[hidden] { display: none; }` but bootstrap.min.css set `[hidden] { display: none !important; }` so we also need the `!important` here to be able to override the default hidden behavior on the sphinx rendered scikit-learn.org. See: https://github.com/scikit-learn/scikit-learn/issues/21755 */display: inline-block !important;position: relative;}#sk-container-id-2 div.sk-text-repr-fallback {display: none;}</style><div id=\"sk-container-id-2\" class=\"sk-top-container\"><div class=\"sk-text-repr-fallback\"><pre>LinearRegression()</pre><b>In a Jupyter environment, please rerun this cell to show the HTML representation or trust the notebook. <br />On GitHub, the HTML representation is unable to render, please try loading this page with nbviewer.org.</b></div><div class=\"sk-container\" hidden><div class=\"sk-item\"><div class=\"sk-estimator sk-toggleable\"><input class=\"sk-toggleable__control sk-hidden--visually\" id=\"sk-estimator-id-2\" type=\"checkbox\" checked><label for=\"sk-estimator-id-2\" class=\"sk-toggleable__label sk-toggleable__label-arrow\">LinearRegression</label><div class=\"sk-toggleable__content\"><pre>LinearRegression()</pre></div></div></div></div></div>"
      ],
      "text/plain": [
       "LinearRegression()"
      ]
     },
     "execution_count": 23,
     "metadata": {},
     "output_type": "execute_result"
    }
   ],
   "source": [
    "X_train_new, X_test_new, y_train_new, y_test_new = train_test_split(\n",
    "    new_data.drop('charges', axis=1),\n",
    "    new_data['charges'], \n",
    "    test_size = 0.2, \n",
    "    random_state = 0)\n",
    "\n",
    "regressor = LinearRegression()\n",
    "regressor.fit(X_train_new, y_train_new)"
   ]
  },
  {
   "cell_type": "code",
   "execution_count": 25,
   "id": "1e434389-fbf5-4df5-a2cd-79c23a92c73c",
   "metadata": {
    "tags": []
   },
   "outputs": [
    {
     "name": "stdout",
     "output_type": "stream",
     "text": [
      "Accuracy = 0.7999876970680434\n"
     ]
    }
   ],
   "source": [
    "# R-squared value for the test set\n",
    "accuracy = regressor.score(X_test_new, y_test_new)\n",
    "print('Accuracy = '+ str(accuracy))"
   ]
  },
  {
   "cell_type": "markdown",
   "id": "6cf850a9",
   "metadata": {
    "papermill": {
     "duration": 0.009798,
     "end_time": "2024-02-01T19:06:12.989143",
     "exception": false,
     "start_time": "2024-02-01T19:06:12.979345",
     "status": "completed"
    },
    "tags": []
   },
   "source": [
    "## Comparaison between empiric and testing validation"
   ]
  },
  {
   "cell_type": "code",
   "execution_count": 28,
   "id": "26d6604f",
   "metadata": {
    "papermill": {
     "duration": 0.046214,
     "end_time": "2024-02-01T19:06:13.046404",
     "exception": false,
     "start_time": "2024-02-01T19:06:13.000190",
     "status": "completed"
    },
    "tags": []
   },
   "outputs": [
    {
     "name": "stdout",
     "output_type": "stream",
     "text": [
      "R-squared (Test): 0.7999876970680435\n",
      "R-squared (Train): 0.7370262574551634\n",
      "Mean Squared Error (Train): 37701533.128629126\n",
      "Mean Squared Error (Test): 31827950.229523823\n"
     ]
    }
   ],
   "source": [
    "from sklearn.metrics import mean_squared_error, r2_score\n",
    "\n",
    "# Predict on the training set\n",
    "y_train_pred = regressor.predict(X_train)\n",
    "\n",
    "# Predict on the test set\n",
    "y_test_pred = regressor.predict(X_test)\n",
    "\n",
    "# Calculate R-squared\n",
    "r_squared_train = r2_score(y_train, y_train_pred)\n",
    "r_squared_test = r2_score(y_test, y_test_pred)\n",
    "\n",
    "# Calculate Mean Squared Error (MSE)\n",
    "mse_train = mean_squared_error(y_train, y_train_pred)\n",
    "mse_test = mean_squared_error(y_test, y_test_pred)\n",
    "\n",
    "print(\"R-squared (Test):\", r_squared_test)\n",
    "print(\"R-squared (Train):\", r_squared_train)\n",
    "\n",
    "print(\"Mean Squared Error (Train):\", mse_train)\n",
    "print(\"Mean Squared Error (Test):\", mse_test)"
   ]
  },
  {
   "cell_type": "markdown",
   "id": "5412e67a",
   "metadata": {
    "papermill": {
     "duration": 0.016541,
     "end_time": "2024-02-01T19:06:13.079342",
     "exception": false,
     "start_time": "2024-02-01T19:06:13.062801",
     "status": "completed"
    },
    "tags": []
   },
   "source": [
    "# Multi Layered Perceptron"
   ]
  },
  {
   "cell_type": "code",
   "execution_count": 29,
   "id": "e26f3ae5",
   "metadata": {
    "papermill": {
     "duration": 14.167752,
     "end_time": "2024-02-01T19:06:27.264142",
     "exception": false,
     "start_time": "2024-02-01T19:06:13.096390",
     "status": "completed"
    },
    "tags": []
   },
   "outputs": [],
   "source": [
    "import tensorflow as tf\n",
    "from sklearn.preprocessing import StandardScaler"
   ]
  },
  {
   "cell_type": "code",
   "execution_count": 30,
   "id": "561c8ecd",
   "metadata": {
    "papermill": {
     "duration": 0.342456,
     "end_time": "2024-02-01T19:06:27.615047",
     "exception": false,
     "start_time": "2024-02-01T19:06:27.272591",
     "status": "completed"
    },
    "tags": []
   },
   "outputs": [],
   "source": [
    "# Standardize the data (normalize)\n",
    "scaler = StandardScaler()\n",
    "X_train_scaled = scaler.fit_transform(X_train)\n",
    "X_test_scaled = scaler.transform(X_test)\n",
    "\n",
    "# Define the MLP regression model\n",
    "model = tf.keras.Sequential([\n",
    "    tf.keras.layers.Dense(units=64, activation='relu', input_dim=X_train.shape[1]),\n",
    "    tf.keras.layers.Dense(units=32, activation='relu'),\n",
    "    tf.keras.layers.Dense(units=1)  # Output layer with one unit for regression\n",
    "])"
   ]
  },
  {
   "cell_type": "code",
   "execution_count": 32,
   "id": "09cf9115",
   "metadata": {
    "papermill": {
     "duration": 2.149091,
     "end_time": "2024-02-01T19:06:29.791485",
     "exception": false,
     "start_time": "2024-02-01T19:06:27.642394",
     "status": "completed"
    },
    "tags": []
   },
   "outputs": [
    {
     "name": "stdout",
     "output_type": "stream",
     "text": [
      "Epoch 1/10\n",
      "34/34 - 1s - loss: 297579040.0000 - accuracy: 0.0000e+00 - val_loss: 319181856.0000 - val_accuracy: 0.0000e+00 - 1s/epoch - 38ms/step\n",
      "Epoch 2/10\n",
      "34/34 - 0s - loss: 294342272.0000 - accuracy: 0.0000e+00 - val_loss: 315343584.0000 - val_accuracy: 0.0000e+00 - 130ms/epoch - 4ms/step\n",
      "Epoch 3/10\n",
      "34/34 - 0s - loss: 290678272.0000 - accuracy: 0.0000e+00 - val_loss: 311049056.0000 - val_accuracy: 0.0000e+00 - 133ms/epoch - 4ms/step\n",
      "Epoch 4/10\n",
      "34/34 - 0s - loss: 286544640.0000 - accuracy: 0.0000e+00 - val_loss: 306256704.0000 - val_accuracy: 0.0000e+00 - 134ms/epoch - 4ms/step\n",
      "Epoch 5/10\n",
      "34/34 - 0s - loss: 281815328.0000 - accuracy: 0.0000e+00 - val_loss: 300759680.0000 - val_accuracy: 0.0000e+00 - 138ms/epoch - 4ms/step\n",
      "Epoch 6/10\n",
      "34/34 - 0s - loss: 276471328.0000 - accuracy: 0.0000e+00 - val_loss: 294572416.0000 - val_accuracy: 0.0000e+00 - 139ms/epoch - 4ms/step\n",
      "Epoch 7/10\n",
      "34/34 - 0s - loss: 270536064.0000 - accuracy: 0.0000e+00 - val_loss: 287597632.0000 - val_accuracy: 0.0000e+00 - 135ms/epoch - 4ms/step\n",
      "Epoch 8/10\n",
      "34/34 - 0s - loss: 263851488.0000 - accuracy: 0.0000e+00 - val_loss: 280004960.0000 - val_accuracy: 0.0000e+00 - 132ms/epoch - 4ms/step\n",
      "Epoch 9/10\n",
      "34/34 - 0s - loss: 256679040.0000 - accuracy: 0.0000e+00 - val_loss: 271468896.0000 - val_accuracy: 0.0000e+00 - 135ms/epoch - 4ms/step\n",
      "Epoch 10/10\n",
      "34/34 - 0s - loss: 248770112.0000 - accuracy: 0.0000e+00 - val_loss: 262379552.0000 - val_accuracy: 0.0000e+00 - 118ms/epoch - 3ms/step\n"
     ]
    }
   ],
   "source": [
    "# Compile the model\n",
    "model.compile(optimizer='adam', \n",
    "              loss='mean_squared_error', \n",
    "              metrics=['accuracy'])\n",
    "\n",
    "# Train the model\n",
    "history = model.fit(X_train_scaled, y_train, epochs=10, validation_data=(X_test_scaled, y_test), verbose=2)"
   ]
  },
  {
   "cell_type": "code",
   "execution_count": 33,
   "id": "41725256",
   "metadata": {
    "papermill": {
     "duration": 0.342854,
     "end_time": "2024-02-01T19:06:30.145410",
     "exception": false,
     "start_time": "2024-02-01T19:06:29.802556",
     "status": "completed"
    },
    "tags": []
   },
   "outputs": [
    {
     "data": {
      "image/png": "[encoded data removed]",
      "text/plain": [
       "<Figure size 640x480 with 1 Axes>"
      ]
     },
     "metadata": {},
     "output_type": "display_data"
    }
   ],
   "source": [
    "# Plot the training and validation loss over epochs\n",
    "plt.plot(history.history['loss'], label='Training Loss')\n",
    "plt.plot(history.history['val_loss'], label='Validation Loss')\n",
    "plt.xlabel('Epochs')\n",
    "plt.ylabel('Mean Squared Error')\n",
    "plt.title('Training and Validation Loss over Epochs')\n",
    "plt.legend()\n",
    "plt.show()"
   ]
  },
  {
   "cell_type": "code",
   "execution_count": 34,
   "id": "b300147b",
   "metadata": {
    "papermill": {
     "duration": 0.033196,
     "end_time": "2024-02-01T19:06:30.190191",
     "exception": false,
     "start_time": "2024-02-01T19:06:30.156995",
     "status": "completed"
    },
    "tags": []
   },
   "outputs": [
    {
     "name": "stdout",
     "output_type": "stream",
     "text": [
      "Final Weights: [[ 0.23292466  0.6813042   1.1361253   0.27294156  0.5224646   1.0157824\n",
      "   0.5411704   0.310908    0.76025236  1.0479362   0.6403055   0.29595983\n",
      "   0.9722665   0.59364986  0.96413094  0.7737076   0.71395046  0.30986124\n",
      "   0.47467604  1.005684    1.0592523   0.82195437 -0.28377536  0.697506\n",
      "   1.0848246   1.0251902   0.8383962   0.7160357   0.513368    0.09846649\n",
      "   1.0613108   1.0417403   0.3943147   0.9290234   1.0257299   0.20147337\n",
      "   0.9032959   0.16612412  0.69064236  0.8961394   0.7298335   0.67028075\n",
      "   0.71013665  0.7159264   0.23894185  1.0385413   0.5220768   0.820679\n",
      "   0.22687893 -0.01139102  0.43814835  0.40866157  0.923206    0.00808785\n",
      "   0.1332747   0.9273897   0.47847524  0.40566918  0.68102926  0.8283245\n",
      "   1.0747381   0.9361508   0.9215214   0.8141315 ]\n",
      " [ 0.89958394  0.60512745 -0.35120136 -0.15162742  0.12004784 -0.03251512\n",
      "   0.00864994 -0.07659609  1.0031958   0.89384997  0.70727164  0.00498339\n",
      "  -0.22883299  0.13329463 -0.709352    0.6466389   1.0169709  -0.14272371\n",
      "  -0.2587178   0.820852   -0.23614575 -0.54969865  0.9343538  -0.3861044\n",
      "   0.5462096   0.70361596  0.7950042  -0.5004479  -0.19559418  0.08435854\n",
      "   0.17535262  0.08885735  0.47792187  0.41360357  0.5806942  -0.15411107\n",
      "  -0.15420678  0.69546425  0.1494671  -0.86005855 -0.36462685  0.35424\n",
      "   0.62007844  0.59176415  0.8925923  -0.42001295  0.79591095  0.44665053\n",
      "   0.5806052   0.20862101  0.58382845 -0.508096    0.2517482   0.6715889\n",
      "  -0.37403452 -0.32355362  0.99891156 -0.02460106 -0.23269518 -0.01885193\n",
      "   0.30958784  0.7849323   0.22969735 -0.2804778 ]\n",
      " [-0.30217907  0.9267247   1.0087376   0.9840943   0.67460114  0.00949351\n",
      "   0.89089084 -0.36260307  0.6828073   0.8382056   0.4180958   0.9595301\n",
      "   0.22934932  0.7390425  -0.2605673   0.21985745  0.6843977  -0.22227117\n",
      "   0.69749093  0.5746194   0.6688965   0.37733966 -0.7868512  -0.32802376\n",
      "   0.6178899   0.8586355   0.66264933 -0.8535757   0.20508596  0.01316676\n",
      "   0.7830797   0.85668063  0.41176015  1.0257156   0.07832713  0.7530909\n",
      "   0.13038681  0.43891624  0.7362342  -0.6213637  -0.69133556  0.9782171\n",
      "   0.45860356  0.8338783   0.16712281  0.97278386  0.71373606  0.31165132\n",
      "   0.38145855  1.0290048   0.2819116   0.7189721   0.9706118   0.23136285\n",
      "  -0.21649598  0.7459887   1.054963    0.14936608  0.8252257   0.64169526\n",
      "   0.7234109   0.6978515  -0.49196732 -0.2271842 ]\n",
      " [ 0.2954511   0.74702555 -0.423293    0.9172342  -0.5183159   0.7473196\n",
      "   0.304889   -0.74128795  0.19111504  0.10781221  0.52820396  0.7344201\n",
      "   0.5422642   0.5792405  -0.6672189   0.7623768   0.6476267   0.2601164\n",
      "  -0.23609467 -0.60649633  0.88164365  0.76539415 -0.3929094   0.61774\n",
      "   0.7928482  -0.01084028  0.82485026  0.3480271  -0.6299034   0.73869187\n",
      "  -0.04923499  0.4048266  -0.47323057 -0.03160406 -0.20602262  0.8524118\n",
      "   0.06823929  0.47137123 -0.19529997  0.70942503  0.4172108   0.8170201\n",
      "  -0.47823006  0.6181668   0.65208197 -0.58012223  0.6505402   0.33724436\n",
      "  -0.03330935  0.4950056   0.82945776  0.9016689   0.07302206  0.87199324\n",
      "   0.7042991   0.83573264  0.7123483   0.84640735 -0.64895976 -0.14368881\n",
      "   0.8814913   0.86553997  0.06915522  0.28605726]\n",
      " [ 0.54350233  0.85725296  0.7427625   0.53484     0.79878104  0.2925712\n",
      "   0.8469002   1.0203732   0.9007858   1.0514066   0.69119483  1.0918428\n",
      "   0.8940415   1.1883372   0.86016136  1.0153176   0.5516248   0.38240483\n",
      "   0.92713624  0.8502578   0.465109    1.0409772   0.611035    0.8370025\n",
      "   0.6292163   0.33851385  0.9792609   0.6310373   0.98130584  0.6218155\n",
      "   0.64481956  1.0653386   1.1241313   1.0498054   0.61952835  0.97258884\n",
      "   0.9710954   0.65427643  1.0003258   0.73671937  0.31956214  0.88195145\n",
      "   0.87987775  0.68269855  1.1764323   0.7977013   1.1197674   1.1119292\n",
      "   0.62163764  0.8966831   0.8582449   1.0227073   0.85339653  1.0523846\n",
      "   0.8288922   0.57898754  0.67883134  0.5248168   0.8498773   0.9143097\n",
      "   0.87022406  0.8112712   0.6363486   0.51074284]\n",
      " [ 0.06413411 -0.9971348  -0.28711388 -0.7098851   0.65892357  0.8048194\n",
      "   0.7801777   0.6082344  -0.26542294  0.4614898  -1.1110677  -0.78587675\n",
      "  -1.0472987   0.21017508  0.6107058   0.75403017  0.42732278  0.87111515\n",
      "  -0.6455179  -0.4250257  -0.03868891  0.20000724  0.51034784 -0.01796911\n",
      "  -0.6788073   0.6092968   0.36665908  0.5576077   0.80723834 -0.48885575\n",
      "   0.15617695 -0.66428494  0.6034505   0.47871593 -0.9286094   0.7616483\n",
      "  -1.1546909  -1.1107103   0.6379943   0.14861165  0.935314    0.0584674\n",
      "   0.70586133 -0.79883444 -0.9037303  -0.5613439  -0.9563115   0.22294113\n",
      "  -1.1563905   0.6266456   0.73214906  0.5060787   0.2573192  -0.46219024\n",
      "   0.1916238  -0.40110147 -0.8883461   0.7842657   0.7788533   0.70248485\n",
      "  -0.8259709   0.52363557  0.672247    0.9341693 ]\n",
      " [ 0.27071795 -0.75998324  0.7460526  -0.49856701 -1.0979335  -1.1199816\n",
      "  -1.0232445   0.38681874  0.39173716 -0.24723269  0.8331967   0.55805045\n",
      "  -0.04052525 -0.9410828  -0.33370057 -0.56204796 -0.70459527  0.7899276\n",
      "   0.6588224   0.23804899 -0.11062647  0.41949633  0.1253833   0.43865347\n",
      "   0.43324786 -0.30179185 -1.0900204   0.7877616   0.16967706  0.52122116\n",
      "   0.5623666  -0.26769975 -1.0016116  -0.53394014  0.3921247  -1.1169941\n",
      "   0.39868593  0.90367717 -1.1196519   0.638154    0.8806681   0.5899828\n",
      "  -0.9970845   0.6622514   0.5801508  -0.03985876  0.45967278 -0.35953867\n",
      "   0.92159593 -0.32964846 -0.92888284  0.28118706 -0.45086342  0.45735174\n",
      "  -0.01876191  0.49125975 -0.77483165 -0.9002893  -1.0011312  -1.0997252\n",
      "  -0.04977512 -0.601877    0.83020425 -0.79930645]\n",
      " [-1.0277421   0.7101175   0.18351698 -0.2554653   0.6059782  -0.8398656\n",
      "   0.4824034  -0.94006735  0.5221767   0.7135473   0.9436145   0.19173926\n",
      "   0.6455792   0.8421251  -0.93658614  0.94387746 -0.3325038  -1.1468378\n",
      "   0.78407025  0.55594236  0.7141263   0.6897203  -0.9264173  -1.1858475\n",
      "  -0.19836235 -0.7611948   0.47200492 -1.019985    0.8504277   0.7664251\n",
      "   0.89311516  0.40143907  0.824013    0.8607382   0.8603987   0.201756\n",
      "  -0.14818051  0.9602806   0.91681206 -0.6284778  -0.7555922   0.90866244\n",
      "   0.7456326   0.3205326   0.4186689   0.73345935 -0.30412462  0.79695016\n",
      "   0.96036094  0.08232799  0.53805625  0.08134801  0.6849666   0.6825126\n",
      "   0.23466165  0.5765964   0.808279   -1.1523898   0.6271482   0.5255903\n",
      "   0.8440373   0.7191058  -1.1201955  -1.0923071 ]\n",
      " [ 0.90430677  0.77264285 -1.006542    0.69405776  0.21571918  0.76475805\n",
      "   0.51915026  0.4235385  -0.60718465 -0.47478428 -0.80031306 -0.56378275\n",
      "   0.37127295 -0.39470866 -0.03965804 -1.0121806   0.5951085  -1.1175356\n",
      "  -0.37112    -0.02186367 -1.098321   -0.81221205  0.4447754   0.76528186\n",
      "   0.59917724  0.17196211  0.58412766 -1.1553386  -1.0072457  -1.1699909\n",
      "  -1.0126715   0.45480716 -0.6286856  -0.5074942  -1.0665922   0.5510571\n",
      "   0.5877887  -0.8460454  -0.73517585 -0.11998452 -1.0657902  -1.0839671\n",
      "  -1.0093623   0.43881875 -0.44594133 -0.8481763   0.69468355 -0.8361419\n",
      "  -0.98760694 -1.0868653  -1.1007943  -0.6768371  -0.89792067 -0.9182693\n",
      "  -1.0266452  -1.0767562  -0.03400484  0.8860494  -0.81699955  0.3612733\n",
      "  -0.10880042 -0.82439214 -0.14801925  0.66039777]]\n",
      "Final Biases: [0.98272353 0.945365   0.99527687 0.9412804  0.96074665 0.96179473\n",
      " 0.96914154 0.9726888  0.99872243 0.94812155 0.9725389  0.9658448\n",
      " 0.8384771  0.97521806 0.99022293 0.959296   0.9803756  0.87065554\n",
      " 0.8952961  0.9327119  0.94684505 0.9611322  0.9872467  0.99981785\n",
      " 0.9740942  0.94844097 0.96892506 0.9817141  0.9839542  0.94388837\n",
      " 0.95258373 0.96694803 0.9465202  0.9322115  0.8958723  0.89247555\n",
      " 0.986999   0.95535403 0.97731686 0.94554484 0.90870583 0.94479716\n",
      " 0.95859337 0.8715341  0.9718546  0.94517034 0.9906213  0.95864165\n",
      " 0.9583443  0.9915122  0.95574653 0.985022   0.8731193  0.9716829\n",
      " 0.9729237  0.91041    0.9844826  0.9562773  0.92835844 0.8744426\n",
      " 0.95474666 0.95522344 0.9129492  1.0046741 ]\n"
     ]
    }
   ],
   "source": [
    "# Print the learned parameters\n",
    "weights, biases = model.layers[0].get_weights()\n",
    "print('Final Weights:', weights)\n",
    "print('Final Biases:', biases)"
   ]
  },
  {
   "cell_type": "markdown",
   "id": "e6667d15",
   "metadata": {
    "papermill": {
     "duration": 0.011101,
     "end_time": "2024-02-01T19:06:30.212812",
     "exception": false,
     "start_time": "2024-02-01T19:06:30.201711",
     "status": "completed"
    },
    "tags": []
   },
   "source": [
    "In order to validated model we need to check few assumption of linear regression model. The common assumption for *Linear Regression* model are following\n",
    "1. Linear Relationship: In linear regression the relationship between the dependent and independent variable to be *linear*. This can be checked by scatter ploting Actual value Vs Predicted value\n",
    "2. The residual error plot should be *normally* distributed.\n",
    "3. The *mean* of *residual error* should be 0 or close to 0 as much as possible\n",
    "4. The linear regression require all variables to be multivariate normal. This assumption can best checked with Q-Q plot.\n",
    "5. Linear regession assumes that there is little or no *Multicollinearity in the data. Multicollinearity occurs when the independent variables are too highly correlated with each other. The variance inflation factor *VIF* identifies correlation between independent variables and strength of that correlation. $\\mathbf{VIF = \\frac {1}{1-R^2}}$, If VIF >1 & VIF <5 moderate correlation, VIF < 5 critical level of multicollinearity.\n",
    "6. Homoscedasticity: The data are homoscedastic meaning the residuals are equal across the regression line. We can look at residual Vs fitted value scatter plot. If heteroscedastic plot would exhibit a funnel shape pattern."
   ]
  },
  {
   "cell_type": "markdown",
   "id": "f03a82a9",
   "metadata": {
    "papermill": {
     "duration": 0.01092,
     "end_time": "2024-02-01T19:06:30.234879",
     "exception": false,
     "start_time": "2024-02-01T19:06:30.223959",
     "status": "completed"
    },
    "tags": []
   },
   "source": [
    "# References\n",
    "\n",
    "- Josh Starmer Smith. [StatQuest with Josh Starmer Smith]. (2017, July 24). Linear Regression, Clearly Explained!!!\n",
    " [Video file]. Retrieved from https://www.youtube.com/watch?v=nk2CQITm_eo\n",
    "\n"
   ]
  }
 ],
 "metadata": {
  "kaggle": {
   "accelerator": "none",
   "dataSources": [
    {
     "datasetId": 13720,
     "sourceId": 18513,
     "sourceType": "datasetVersion"
    }
   ],
   "dockerImageVersionId": 30635,
   "isGpuEnabled": false,
   "isInternetEnabled": true,
   "language": "python",
   "sourceType": "notebook"
  },
  "kernelspec": {
   "display_name": "Python 3 (ipykernel)",
   "language": "python",
   "name": "python3"
  },
  "language_info": {
   "codemirror_mode": {
    "name": "ipython",
    "version": 3
   },
   "file_extension": ".py",
   "mimetype": "text/x-python",
   "name": "python",
   "nbconvert_exporter": "python",
   "pygments_lexer": "ipython3",
   "version": "3.10.10"
  },
  "papermill": {
   "default_parameters": {},
   "duration": 27.05608,
   "end_time": "2024-02-01T19:06:32.738777",
   "environment_variables": {},
   "exception": null,
   "input_path": "__notebook__.ipynb",
   "output_path": "__notebook__.ipynb",
   "parameters": {},
   "start_time": "2024-02-01T19:06:05.682697",
   "version": "2.4.0"
  }
 },
 "nbformat": 4,
 "nbformat_minor": 5
}
