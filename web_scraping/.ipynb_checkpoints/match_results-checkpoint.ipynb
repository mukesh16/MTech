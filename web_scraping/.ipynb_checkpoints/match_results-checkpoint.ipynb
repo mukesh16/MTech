{
 "cells": [
  {
   "cell_type": "markdown",
   "id": "68644170-67f5-4ca7-a20d-8d3896d68e5d",
   "metadata": {},
   "source": [
    "This Notebook is used to demonstrate a Python script that extracts indian-premier-league data from a https://www.espncricinfo.com/ using web scraping techniques. \n",
    "It leverages the requests library to fetch HTML content and BeautifulSoup to parse and extract the desired information.\n",
    "At the end we have download the fetched data as a CSV file.\n",
    "\n",
    "Click [link](https://www.espncricinfo.com/records/trophy/team-match-results/indian-premier-league-117) to visit the source page(Official ESPN)."
   ]
  },
  {
   "cell_type": "code",
   "execution_count": 1,
   "id": "98be7344-9372-4a19-ba2d-a8cd59bb9184",
   "metadata": {
    "tags": []
   },
   "outputs": [],
   "source": [
    "from bs4 import BeautifulSoup\n",
    "import pandas as pd\n",
    "\n",
    "import requests"
   ]
  },
  {
   "cell_type": "code",
   "execution_count": 2,
   "id": "f428bd9f-30de-4bc4-adea-a121dab93b22",
   "metadata": {
    "tags": []
   },
   "outputs": [],
   "source": [
    "# URL of the espncricinfo to scrape\n",
    "url = \"https://www.espncricinfo.com/records/trophy/team-match-results/indian-premier-league-117\"\n",
    "\n",
    "# Send an HTTP GET request to the website\n",
    "response = requests.get(url)\n",
    "\n",
    "# Parse the HTML code using BeautifulSoup\n",
    "soup = BeautifulSoup(response.content, 'html.parser')"
   ]
  },
  {
   "cell_type": "markdown",
   "id": "31f0c068-b259-4cb3-9259-fd1765102488",
   "metadata": {},
   "source": [
    "We have single table in the above url, used table -> thead -> tr -> td to get columns details and table -> tbody -> tr -> td to get records."
   ]
  },
  {
   "cell_type": "code",
   "execution_count": 3,
   "id": "4b1561c1-7860-4d6b-a234-d4f2c56f6c3f",
   "metadata": {
    "tags": []
   },
   "outputs": [],
   "source": [
    "for table in soup.select('table'):\n",
    "    \n",
    "    for thead in table.select('thead'):\n",
    "        if len(thead.select('tr')) != 1:\n",
    "            print('Please check HTML contents.')\n",
    "            \n",
    "        column_list = [ items.get_text() for items in thead.select('tr td')]\n",
    "        \n",
    "    record = []\n",
    "    for tbody in table.select('tbody'):\n",
    "        \n",
    "        for row in tbody.select('tr'):\n",
    "            link = row.find_all('a')[1].get('href')\n",
    "            item_list = [ items.get_text() for items in row.select('td')]\n",
    "            item_list[-1] = link\n",
    "            record.append(item_list)\n",
    "        \n",
    "    table_df = pd.DataFrame(record, columns = column_list)\n",
    "    \n",
    "# table_df"
   ]
  },
  {
   "cell_type": "code",
   "execution_count": 4,
   "id": "34fd15b4-7c30-4c23-9287-56c8f48eeb9f",
   "metadata": {
    "tags": []
   },
   "outputs": [
    {
     "data": {
      "text/html": [
       "<div>\n",
       "<style scoped>\n",
       "    .dataframe tbody tr th:only-of-type {\n",
       "        vertical-align: middle;\n",
       "    }\n",
       "\n",
       "    .dataframe tbody tr th {\n",
       "        vertical-align: top;\n",
       "    }\n",
       "\n",
       "    .dataframe thead th {\n",
       "        text-align: right;\n",
       "    }\n",
       "</style>\n",
       "<table border=\"1\" class=\"dataframe\">\n",
       "  <thead>\n",
       "    <tr style=\"text-align: right;\">\n",
       "      <th></th>\n",
       "      <th>Team 1</th>\n",
       "      <th>Team 2</th>\n",
       "      <th>Winner</th>\n",
       "      <th>Margin</th>\n",
       "      <th>Ground</th>\n",
       "      <th>Match Date</th>\n",
       "      <th>Scorecard</th>\n",
       "    </tr>\n",
       "  </thead>\n",
       "  <tbody>\n",
       "    <tr>\n",
       "      <th>0</th>\n",
       "      <td>Titans</td>\n",
       "      <td>Super Kings</td>\n",
       "      <td>Super Kings</td>\n",
       "      <td>5 wickets</td>\n",
       "      <td>Ahmedabad</td>\n",
       "      <td>May 28-29, 2023</td>\n",
       "      <td>/series/indian-premier-league-2023-1345038/guj...</td>\n",
       "    </tr>\n",
       "    <tr>\n",
       "      <th>1</th>\n",
       "      <td>Titans</td>\n",
       "      <td>Mumbai</td>\n",
       "      <td>Titans</td>\n",
       "      <td>62 runs</td>\n",
       "      <td>Ahmedabad</td>\n",
       "      <td>May 26, 2023</td>\n",
       "      <td>/series/indian-premier-league-2023-1345038/guj...</td>\n",
       "    </tr>\n",
       "    <tr>\n",
       "      <th>2</th>\n",
       "      <td>Super Giants</td>\n",
       "      <td>Mumbai</td>\n",
       "      <td>Mumbai</td>\n",
       "      <td>81 runs</td>\n",
       "      <td>Chennai</td>\n",
       "      <td>May 24, 2023</td>\n",
       "      <td>/series/indian-premier-league-2023-1345038/luc...</td>\n",
       "    </tr>\n",
       "    <tr>\n",
       "      <th>3</th>\n",
       "      <td>Super Kings</td>\n",
       "      <td>Titans</td>\n",
       "      <td>Super Kings</td>\n",
       "      <td>15 runs</td>\n",
       "      <td>Chennai</td>\n",
       "      <td>May 23, 2023</td>\n",
       "      <td>/series/indian-premier-league-2023-1345038/che...</td>\n",
       "    </tr>\n",
       "    <tr>\n",
       "      <th>4</th>\n",
       "      <td>RCB</td>\n",
       "      <td>Titans</td>\n",
       "      <td>Titans</td>\n",
       "      <td>6 wickets</td>\n",
       "      <td>Bengaluru</td>\n",
       "      <td>May 21, 2023</td>\n",
       "      <td>/series/indian-premier-league-2023-1345038/roy...</td>\n",
       "    </tr>\n",
       "  </tbody>\n",
       "</table>\n",
       "</div>"
      ],
      "text/plain": [
       "         Team 1       Team 2       Winner     Margin     Ground  \\\n",
       "0        Titans  Super Kings  Super Kings  5 wickets  Ahmedabad   \n",
       "1        Titans       Mumbai       Titans    62 runs  Ahmedabad   \n",
       "2  Super Giants       Mumbai       Mumbai    81 runs    Chennai   \n",
       "3   Super Kings       Titans  Super Kings    15 runs    Chennai   \n",
       "4           RCB       Titans       Titans  6 wickets  Bengaluru   \n",
       "\n",
       "        Match Date                                          Scorecard  \n",
       "0  May 28-29, 2023  /series/indian-premier-league-2023-1345038/guj...  \n",
       "1     May 26, 2023  /series/indian-premier-league-2023-1345038/guj...  \n",
       "2     May 24, 2023  /series/indian-premier-league-2023-1345038/luc...  \n",
       "3     May 23, 2023  /series/indian-premier-league-2023-1345038/che...  \n",
       "4     May 21, 2023  /series/indian-premier-league-2023-1345038/roy...  "
      ]
     },
     "execution_count": 4,
     "metadata": {},
     "output_type": "execute_result"
    }
   ],
   "source": [
    "match_results = table_df.copy()\n",
    "match_results.head()"
   ]
  },
  {
   "cell_type": "code",
   "execution_count": 5,
   "id": "e06eb6a3-d8c1-4581-a757-9a4e077fe73d",
   "metadata": {
    "tags": []
   },
   "outputs": [
    {
     "data": {
      "text/plain": [
       "(1025, 7)"
      ]
     },
     "execution_count": 5,
     "metadata": {},
     "output_type": "execute_result"
    }
   ],
   "source": [
    "# Rename columns\n",
    "match_results.columns = ['team_1','team_2','winner','margin','ground','match_date','scorecard']\n",
    "# match_results.head()\n",
    "match_results.shape"
   ]
  },
  {
   "cell_type": "markdown",
   "id": "e69c98e6-d5cc-462b-b51c-c5eb96ab48d9",
   "metadata": {},
   "source": [
    "**Note:** \n",
    "- **scorecard** in the table refers to the link each matches details, which also conatins one unique id to represent match_id.\n",
    "- **winner** contains *no results* which can be ignore or drops, indicating due to some reason that particular match was cancelled. "
   ]
  },
  {
   "cell_type": "code",
   "execution_count": 6,
   "id": "31cdc150-126f-4e67-acd4-f597235ff6d3",
   "metadata": {
    "tags": []
   },
   "outputs": [],
   "source": [
    "# Polishing match_date\n",
    "match_results.match_date = match_results.match_date.apply(lambda match_date: \\\n",
    "                                                          match_date.split()[0] + ' ' + \\\n",
    "                                                          match_date.split()[1][:2] + ', ' + \\\n",
    "                                                          match_date.split()[2])\n",
    "match_results.match_date = match_results.match_date.apply(lambda match_date: \\\n",
    "                                                          match_date.replace(\",,\",\",\"))\n",
    "\n",
    "# Adding a new feature named match_id \n",
    "match_results['match_id'] = match_results.scorecard.apply(lambda scorecard: \\\n",
    "                                                          scorecard.split('/')[-2].split('-')[-1])"
   ]
  },
  {
   "cell_type": "code",
   "execution_count": 7,
   "id": "cb59b653-b581-4a3a-97c5-0b296c723461",
   "metadata": {
    "tags": []
   },
   "outputs": [
    {
     "data": {
      "text/html": [
       "<div>\n",
       "<style scoped>\n",
       "    .dataframe tbody tr th:only-of-type {\n",
       "        vertical-align: middle;\n",
       "    }\n",
       "\n",
       "    .dataframe tbody tr th {\n",
       "        vertical-align: top;\n",
       "    }\n",
       "\n",
       "    .dataframe thead th {\n",
       "        text-align: right;\n",
       "    }\n",
       "</style>\n",
       "<table border=\"1\" class=\"dataframe\">\n",
       "  <thead>\n",
       "    <tr style=\"text-align: right;\">\n",
       "      <th></th>\n",
       "      <th>team_1</th>\n",
       "      <th>team_2</th>\n",
       "      <th>winner</th>\n",
       "      <th>margin</th>\n",
       "      <th>ground</th>\n",
       "      <th>match_date</th>\n",
       "      <th>scorecard</th>\n",
       "      <th>match_id</th>\n",
       "    </tr>\n",
       "  </thead>\n",
       "  <tbody>\n",
       "    <tr>\n",
       "      <th>0</th>\n",
       "      <td>Titans</td>\n",
       "      <td>Super Kings</td>\n",
       "      <td>Super Kings</td>\n",
       "      <td>5 wickets</td>\n",
       "      <td>Ahmedabad</td>\n",
       "      <td>May 28, 2023</td>\n",
       "      <td>/series/indian-premier-league-2023-1345038/guj...</td>\n",
       "      <td>1370353</td>\n",
       "    </tr>\n",
       "    <tr>\n",
       "      <th>1</th>\n",
       "      <td>Titans</td>\n",
       "      <td>Mumbai</td>\n",
       "      <td>Titans</td>\n",
       "      <td>62 runs</td>\n",
       "      <td>Ahmedabad</td>\n",
       "      <td>May 26, 2023</td>\n",
       "      <td>/series/indian-premier-league-2023-1345038/guj...</td>\n",
       "      <td>1370352</td>\n",
       "    </tr>\n",
       "    <tr>\n",
       "      <th>2</th>\n",
       "      <td>Super Giants</td>\n",
       "      <td>Mumbai</td>\n",
       "      <td>Mumbai</td>\n",
       "      <td>81 runs</td>\n",
       "      <td>Chennai</td>\n",
       "      <td>May 24, 2023</td>\n",
       "      <td>/series/indian-premier-league-2023-1345038/luc...</td>\n",
       "      <td>1370351</td>\n",
       "    </tr>\n",
       "    <tr>\n",
       "      <th>3</th>\n",
       "      <td>Super Kings</td>\n",
       "      <td>Titans</td>\n",
       "      <td>Super Kings</td>\n",
       "      <td>15 runs</td>\n",
       "      <td>Chennai</td>\n",
       "      <td>May 23, 2023</td>\n",
       "      <td>/series/indian-premier-league-2023-1345038/che...</td>\n",
       "      <td>1370350</td>\n",
       "    </tr>\n",
       "    <tr>\n",
       "      <th>4</th>\n",
       "      <td>RCB</td>\n",
       "      <td>Titans</td>\n",
       "      <td>Titans</td>\n",
       "      <td>6 wickets</td>\n",
       "      <td>Bengaluru</td>\n",
       "      <td>May 21, 2023</td>\n",
       "      <td>/series/indian-premier-league-2023-1345038/roy...</td>\n",
       "      <td>1359544</td>\n",
       "    </tr>\n",
       "  </tbody>\n",
       "</table>\n",
       "</div>"
      ],
      "text/plain": [
       "         team_1       team_2       winner     margin     ground    match_date  \\\n",
       "0        Titans  Super Kings  Super Kings  5 wickets  Ahmedabad  May 28, 2023   \n",
       "1        Titans       Mumbai       Titans    62 runs  Ahmedabad  May 26, 2023   \n",
       "2  Super Giants       Mumbai       Mumbai    81 runs    Chennai  May 24, 2023   \n",
       "3   Super Kings       Titans  Super Kings    15 runs    Chennai  May 23, 2023   \n",
       "4           RCB       Titans       Titans  6 wickets  Bengaluru  May 21, 2023   \n",
       "\n",
       "                                           scorecard match_id  \n",
       "0  /series/indian-premier-league-2023-1345038/guj...  1370353  \n",
       "1  /series/indian-premier-league-2023-1345038/guj...  1370352  \n",
       "2  /series/indian-premier-league-2023-1345038/luc...  1370351  \n",
       "3  /series/indian-premier-league-2023-1345038/che...  1370350  \n",
       "4  /series/indian-premier-league-2023-1345038/roy...  1359544  "
      ]
     },
     "execution_count": 7,
     "metadata": {},
     "output_type": "execute_result"
    }
   ],
   "source": [
    "match_results.head()"
   ]
  },
  {
   "cell_type": "code",
   "execution_count": 8,
   "id": "e91d2716-c2c9-43ee-aee2-506cf894cbed",
   "metadata": {
    "tags": []
   },
   "outputs": [
    {
     "data": {
      "text/plain": [
       "Mumbai          138\n",
       "Super Kings     131\n",
       "KKR             119\n",
       "RCB             114\n",
       "Royals          101\n",
       "Kings XI         85\n",
       "Sunrisers        78\n",
       "Daredevils       67\n",
       "Capitals         38\n",
       "Chargers         29\n",
       "Titans           23\n",
       "Punjab Kings     19\n",
       "Super Giants     17\n",
       "tied             14\n",
       "Guj Lions        13\n",
       "Warriors         12\n",
       "Supergiant       10\n",
       "no result         6\n",
       "Kochi             6\n",
       "Supergiants       5\n",
       "Name: winner, dtype: int64"
      ]
     },
     "execution_count": 8,
     "metadata": {},
     "output_type": "execute_result"
    }
   ],
   "source": [
    "match_results.winner.value_counts()"
   ]
  },
  {
   "cell_type": "code",
   "execution_count": 9,
   "id": "e8175216-4ea1-4dc5-817c-d52b69d488de",
   "metadata": {
    "tags": []
   },
   "outputs": [
    {
     "data": {
      "text/plain": [
       "'/series/indian-premier-league-2023-1345038/gujarat-titans-vs-mumbai-indians-qualifier-2-1370352/full-scorecard'"
      ]
     },
     "execution_count": 9,
     "metadata": {},
     "output_type": "execute_result"
    }
   ],
   "source": [
    "match_results.scorecard.tolist()[1]"
   ]
  },
  {
   "cell_type": "markdown",
   "id": "03d275a6-3bac-46a0-95b7-e7a674bf7ae4",
   "metadata": {},
   "source": [
    "There are some conflict like :\n",
    "- Super Giants and Supergiants are both same team, Also we have some 'no result' records as well.\n",
    "- scorecard column has the link to get each match, with the place where match was played and match unique_id.\n",
    "\n",
    "**Note:** In later steps all the confilcts will be trasformed."
   ]
  },
  {
   "cell_type": "code",
   "execution_count": 10,
   "id": "3464f71f-4b16-4293-bed5-259274ce4e22",
   "metadata": {
    "tags": []
   },
   "outputs": [
    {
     "name": "stdout",
     "output_type": "stream",
     "text": [
      "ipl_match_results.csv downloaded !!!\n"
     ]
    }
   ],
   "source": [
    "match_results.to_csv(\"ipl_match_results.csv\", index=False)\n",
    "print(\"ipl_match_results.csv downloaded !!!\")"
   ]
  }
 ],
 "metadata": {
  "kernelspec": {
   "display_name": "Python 3 (ipykernel)",
   "language": "python",
   "name": "python3"
  },
  "language_info": {
   "codemirror_mode": {
    "name": "ipython",
    "version": 3
   },
   "file_extension": ".py",
   "mimetype": "text/x-python",
   "name": "python",
   "nbconvert_exporter": "python",
   "pygments_lexer": "ipython3",
   "version": "3.10.10"
  }
 },
 "nbformat": 4,
 "nbformat_minor": 5
}
