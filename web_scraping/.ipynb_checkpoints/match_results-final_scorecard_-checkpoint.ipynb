{
 "cells": [
  {
   "cell_type": "markdown",
   "id": "68644170-67f5-4ca7-a20d-8d3896d68e5d",
   "metadata": {},
   "source": [
    "This Notebook is used to demonstrate a Python script that extracts indian-premier-league data from a https://www.espncricinfo.com/ using web scraping techniques. \n",
    "It leverages the requests library to fetch HTML content and BeautifulSoup to parse and extract the desired information.\n",
    "At the end we have download the fetched data as a CSV file.\n",
    "\n",
    "Click [link](https://www.espncricinfo.com/records/trophy/team-match-results/indian-premier-league-117) to visit the source page(Official ESPN)."
   ]
  },
  {
   "cell_type": "code",
   "execution_count": 1,
   "id": "98be7344-9372-4a19-ba2d-a8cd59bb9184",
   "metadata": {
    "tags": []
   },
   "outputs": [],
   "source": [
    "from bs4 import BeautifulSoup\n",
    "import pandas as pd\n",
    "\n",
    "import requests"
   ]
  },
  {
   "cell_type": "code",
   "execution_count": 2,
   "id": "f428bd9f-30de-4bc4-adea-a121dab93b22",
   "metadata": {
    "tags": []
   },
   "outputs": [],
   "source": [
    "# URL of the espncricinfo to scrape\n",
    "url = \"https://www.espncricinfo.com/series/indian-premier-league-2023-1345038/gujarat-titans-vs-chennai-super-kings-final-1370353/full-scorecard\"\n",
    "\n",
    "try :\n",
    "    # Send an HTTP GET request to the website\n",
    "    response = requests.get(url)\n",
    "\n",
    "    # Parse the HTML code using BeautifulSoup\n",
    "    soup = BeautifulSoup(response.content, 'html.parser')\n",
    "    \n",
    "except OSError :\n",
    "    print(\"Check Your Internet!\")\n",
    "    \n",
    "except :\n",
    "    raise Exception(\"Sorry!\") "
   ]
  },
  {
   "cell_type": "code",
   "execution_count": 3,
   "id": "75d5fc0d-69c5-45bd-89df-d9a819162cca",
   "metadata": {
    "tags": []
   },
   "outputs": [
    {
     "name": "stdout",
     "output_type": "stream",
     "text": [
      "[['BATTING', '\\xa0', 'R', 'B', 'M', '4s', '6s', 'SR'], ['BOWLING', 'O', 'M', 'R', 'W', 'ECON', '0s', '4s', '6s', 'WD', 'NB'], ['BATTING', '\\xa0', 'R', 'B', 'M', '4s', '6s', 'SR'], ['BOWLING', 'O', 'M', 'R', 'W', 'ECON', '0s', '4s', '6s', 'WD', 'NB'], ['PLAYER NAME', 'R', 'B'], ['PLAYER NAME', 'O', 'M', 'R', 'W', 'Econ'], ['WKT', 'RUNS', 'PLAYERS'], ['TEAM', 'M', 'W', 'L', 'PT', 'NRR']]\n"
     ]
    },
    {
     "data": {
      "text/plain": [
       "6"
      ]
     },
     "execution_count": 3,
     "metadata": {},
     "output_type": "execute_result"
    }
   ],
   "source": [
    "# Table header/column details fetch.\n",
    "table_list = soup.select('table thead tr')\n",
    "main_column = []\n",
    "\n",
    "for table in table_list:\n",
    "    list_items = [ items.get_text() for items in table.select('th') ]\n",
    "    main_column.append(list_items)\n",
    "    # print(list_items)\n",
    "    \n",
    "print(main_column)\n",
    "len(table)\n",
    "# table"
   ]
  },
  {
   "cell_type": "code",
   "execution_count": 4,
   "id": "df47dc4a-fa2a-4b5c-9452-57ba9e3b8baf",
   "metadata": {
    "tags": []
   },
   "outputs": [
    {
     "data": {
      "text/plain": [
       "9"
      ]
     },
     "execution_count": 4,
     "metadata": {},
     "output_type": "execute_result"
    }
   ],
   "source": [
    "# Table header/column details fetch.\n",
    "table_list = soup.select('table tbody')\n",
    "\n",
    "main_table = []\n",
    "for table in table_list:\n",
    "    record = []\n",
    "    \n",
    "    for row in table.select('tr'):\n",
    "        item_list = [ items.get_text() for items in row.select('td')]\n",
    "        if len(item_list) <= 2 :\n",
    "            continue\n",
    "        record.append(item_list)\n",
    "        \n",
    "    main_table.append(record)\n",
    "len(main_table)"
   ]
  },
  {
   "cell_type": "markdown",
   "id": "b23deda6-9424-4f57-872e-f79ba4cde999",
   "metadata": {},
   "source": [
    "Basically for 1st colum"
   ]
  },
  {
   "cell_type": "code",
   "execution_count": 5,
   "id": "25962ced-eb33-4bfe-9d5f-4e2cfa16f9e9",
   "metadata": {
    "tags": []
   },
   "outputs": [
    {
     "data": {
      "text/plain": [
       "(8, 8)"
      ]
     },
     "execution_count": 5,
     "metadata": {},
     "output_type": "execute_result"
    }
   ],
   "source": [
    "# 1st_table contains BATTING details of 1st team.\n",
    "len(main_table[0][0]), len(main_column[0])"
   ]
  },
  {
   "cell_type": "code",
   "execution_count": 6,
   "id": "878b3933-8006-4972-a88b-0a9fce7e9152",
   "metadata": {
    "tags": []
   },
   "outputs": [
    {
     "data": {
      "text/html": [
       "<div>\n",
       "<style scoped>\n",
       "    .dataframe tbody tr th:only-of-type {\n",
       "        vertical-align: middle;\n",
       "    }\n",
       "\n",
       "    .dataframe tbody tr th {\n",
       "        vertical-align: top;\n",
       "    }\n",
       "\n",
       "    .dataframe thead th {\n",
       "        text-align: right;\n",
       "    }\n",
       "</style>\n",
       "<table border=\"1\" class=\"dataframe\">\n",
       "  <thead>\n",
       "    <tr style=\"text-align: right;\">\n",
       "      <th></th>\n",
       "      <th>BATTING</th>\n",
       "      <th></th>\n",
       "      <th>R</th>\n",
       "      <th>B</th>\n",
       "      <th>M</th>\n",
       "      <th>4s</th>\n",
       "      <th>6s</th>\n",
       "      <th>SR</th>\n",
       "    </tr>\n",
       "  </thead>\n",
       "  <tbody>\n",
       "    <tr>\n",
       "      <th>0</th>\n",
       "      <td>Wriddhiman Saha †</td>\n",
       "      <td>c †Dhoni b Chahar</td>\n",
       "      <td>54</td>\n",
       "      <td>39</td>\n",
       "      <td>63</td>\n",
       "      <td>5</td>\n",
       "      <td>1</td>\n",
       "      <td>138.46</td>\n",
       "    </tr>\n",
       "    <tr>\n",
       "      <th>1</th>\n",
       "      <td>Shubman Gill</td>\n",
       "      <td>st †Dhoni b Jadeja</td>\n",
       "      <td>39</td>\n",
       "      <td>20</td>\n",
       "      <td>34</td>\n",
       "      <td>7</td>\n",
       "      <td>0</td>\n",
       "      <td>195.00</td>\n",
       "    </tr>\n",
       "    <tr>\n",
       "      <th>2</th>\n",
       "      <td>Sai Sudharsan</td>\n",
       "      <td>lbw b Pathirana</td>\n",
       "      <td>96</td>\n",
       "      <td>47</td>\n",
       "      <td>58</td>\n",
       "      <td>8</td>\n",
       "      <td>6</td>\n",
       "      <td>204.25</td>\n",
       "    </tr>\n",
       "    <tr>\n",
       "      <th>3</th>\n",
       "      <td>Hardik Pandya (c)</td>\n",
       "      <td>not out</td>\n",
       "      <td>21</td>\n",
       "      <td>12</td>\n",
       "      <td>32</td>\n",
       "      <td>0</td>\n",
       "      <td>2</td>\n",
       "      <td>175.00</td>\n",
       "    </tr>\n",
       "    <tr>\n",
       "      <th>4</th>\n",
       "      <td>Rashid Khan</td>\n",
       "      <td>c Gaikwad b Pathirana</td>\n",
       "      <td>0</td>\n",
       "      <td>2</td>\n",
       "      <td>2</td>\n",
       "      <td>0</td>\n",
       "      <td>0</td>\n",
       "      <td>0.00</td>\n",
       "    </tr>\n",
       "    <tr>\n",
       "      <th>5</th>\n",
       "      <td>Extras</td>\n",
       "      <td>(b 1, lb 1, w 2)</td>\n",
       "      <td>4</td>\n",
       "      <td></td>\n",
       "      <td>None</td>\n",
       "      <td>None</td>\n",
       "      <td>None</td>\n",
       "      <td>None</td>\n",
       "    </tr>\n",
       "    <tr>\n",
       "      <th>6</th>\n",
       "      <td>TOTAL</td>\n",
       "      <td>20 Ov (RR: 10.70)</td>\n",
       "      <td>214/4</td>\n",
       "      <td></td>\n",
       "      <td>None</td>\n",
       "      <td>None</td>\n",
       "      <td>None</td>\n",
       "      <td>None</td>\n",
       "    </tr>\n",
       "  </tbody>\n",
       "</table>\n",
       "</div>"
      ],
      "text/plain": [
       "             BATTING                             R   B     M    4s    6s  \\\n",
       "0  Wriddhiman Saha †      c †Dhoni b Chahar     54  39    63     5     1   \n",
       "1      Shubman Gill      st †Dhoni b Jadeja     39  20    34     7     0   \n",
       "2     Sai Sudharsan         lbw b Pathirana     96  47    58     8     6   \n",
       "3  Hardik Pandya (c)               not out      21  12    32     0     2   \n",
       "4       Rashid Khan   c Gaikwad b Pathirana      0   2     2     0     0   \n",
       "5             Extras       (b 1, lb 1, w 2)      4      None  None  None   \n",
       "6              TOTAL      20 Ov (RR: 10.70)  214/4      None  None  None   \n",
       "\n",
       "       SR  \n",
       "0  138.46  \n",
       "1  195.00  \n",
       "2  204.25  \n",
       "3  175.00  \n",
       "4    0.00  \n",
       "5    None  \n",
       "6    None  "
      ]
     },
     "execution_count": 6,
     "metadata": {},
     "output_type": "execute_result"
    }
   ],
   "source": [
    "batting_1 = pd.DataFrame(main_table[0], columns = main_column[0])\n",
    "batting_1"
   ]
  },
  {
   "cell_type": "code",
   "execution_count": 7,
   "id": "6d89ed8c-ff24-445c-aaf8-0f520d8bc1b8",
   "metadata": {
    "tags": []
   },
   "outputs": [
    {
     "data": {
      "text/plain": [
       "(11, 11)"
      ]
     },
     "execution_count": 7,
     "metadata": {},
     "output_type": "execute_result"
    }
   ],
   "source": [
    "# 2nd_table contains BOWLING details of 1st team.\n",
    "len(main_table[1][0]), len(main_column[1])"
   ]
  },
  {
   "cell_type": "code",
   "execution_count": 8,
   "id": "dd29415c-caab-4578-a017-4883e5fcadcd",
   "metadata": {
    "tags": []
   },
   "outputs": [
    {
     "data": {
      "text/html": [
       "<div>\n",
       "<style scoped>\n",
       "    .dataframe tbody tr th:only-of-type {\n",
       "        vertical-align: middle;\n",
       "    }\n",
       "\n",
       "    .dataframe tbody tr th {\n",
       "        vertical-align: top;\n",
       "    }\n",
       "\n",
       "    .dataframe thead th {\n",
       "        text-align: right;\n",
       "    }\n",
       "</style>\n",
       "<table border=\"1\" class=\"dataframe\">\n",
       "  <thead>\n",
       "    <tr style=\"text-align: right;\">\n",
       "      <th></th>\n",
       "      <th>BOWLING</th>\n",
       "      <th>O</th>\n",
       "      <th>M</th>\n",
       "      <th>R</th>\n",
       "      <th>W</th>\n",
       "      <th>ECON</th>\n",
       "      <th>0s</th>\n",
       "      <th>4s</th>\n",
       "      <th>6s</th>\n",
       "      <th>WD</th>\n",
       "      <th>NB</th>\n",
       "    </tr>\n",
       "  </thead>\n",
       "  <tbody>\n",
       "    <tr>\n",
       "      <th>0</th>\n",
       "      <td>Deepak Chahar</td>\n",
       "      <td>4</td>\n",
       "      <td>0</td>\n",
       "      <td>38</td>\n",
       "      <td>1</td>\n",
       "      <td>9.50</td>\n",
       "      <td>5</td>\n",
       "      <td>3</td>\n",
       "      <td>1</td>\n",
       "      <td>0</td>\n",
       "      <td>0</td>\n",
       "    </tr>\n",
       "    <tr>\n",
       "      <th>1</th>\n",
       "      <td>Tushar Deshpande</td>\n",
       "      <td>4</td>\n",
       "      <td>0</td>\n",
       "      <td>56</td>\n",
       "      <td>0</td>\n",
       "      <td>14.00</td>\n",
       "      <td>4</td>\n",
       "      <td>7</td>\n",
       "      <td>3</td>\n",
       "      <td>0</td>\n",
       "      <td>0</td>\n",
       "    </tr>\n",
       "    <tr>\n",
       "      <th>2</th>\n",
       "      <td>Maheesh Theekshana</td>\n",
       "      <td>4</td>\n",
       "      <td>0</td>\n",
       "      <td>36</td>\n",
       "      <td>0</td>\n",
       "      <td>9.00</td>\n",
       "      <td>8</td>\n",
       "      <td>3</td>\n",
       "      <td>2</td>\n",
       "      <td>0</td>\n",
       "      <td>0</td>\n",
       "    </tr>\n",
       "    <tr>\n",
       "      <th>3</th>\n",
       "      <td>Ravindra Jadeja</td>\n",
       "      <td>4</td>\n",
       "      <td>0</td>\n",
       "      <td>38</td>\n",
       "      <td>1</td>\n",
       "      <td>9.50</td>\n",
       "      <td>3</td>\n",
       "      <td>3</td>\n",
       "      <td>1</td>\n",
       "      <td>0</td>\n",
       "      <td>0</td>\n",
       "    </tr>\n",
       "    <tr>\n",
       "      <th>4</th>\n",
       "      <td>Matheesha Pathirana</td>\n",
       "      <td>4</td>\n",
       "      <td>0</td>\n",
       "      <td>44</td>\n",
       "      <td>2</td>\n",
       "      <td>11.00</td>\n",
       "      <td>7</td>\n",
       "      <td>4</td>\n",
       "      <td>2</td>\n",
       "      <td>2</td>\n",
       "      <td>0</td>\n",
       "    </tr>\n",
       "  </tbody>\n",
       "</table>\n",
       "</div>"
      ],
      "text/plain": [
       "               BOWLING  O  M   R  W   ECON 0s 4s 6s WD NB\n",
       "0        Deepak Chahar  4  0  38  1   9.50  5  3  1  0  0\n",
       "1     Tushar Deshpande  4  0  56  0  14.00  4  7  3  0  0\n",
       "2   Maheesh Theekshana  4  0  36  0   9.00  8  3  2  0  0\n",
       "3      Ravindra Jadeja  4  0  38  1   9.50  3  3  1  0  0\n",
       "4  Matheesha Pathirana  4  0  44  2  11.00  7  4  2  2  0"
      ]
     },
     "execution_count": 8,
     "metadata": {},
     "output_type": "execute_result"
    }
   ],
   "source": [
    "bowling_1 = pd.DataFrame(main_table[1], columns = main_column[1])\n",
    "bowling_1"
   ]
  },
  {
   "cell_type": "code",
   "execution_count": 9,
   "id": "049a4d0e-7f05-4f6f-9eee-be248909c396",
   "metadata": {
    "tags": []
   },
   "outputs": [
    {
     "data": {
      "text/plain": [
       "(8, 8)"
      ]
     },
     "execution_count": 9,
     "metadata": {},
     "output_type": "execute_result"
    }
   ],
   "source": [
    "# 3rd_table contains BATTING details of 2nd team.\n",
    "len(main_table[2][0]), len(main_column[2])"
   ]
  },
  {
   "cell_type": "code",
   "execution_count": 10,
   "id": "8c278b1c-693d-4a08-b886-e3fdc8b8880a",
   "metadata": {
    "tags": []
   },
   "outputs": [
    {
     "data": {
      "text/html": [
       "<div>\n",
       "<style scoped>\n",
       "    .dataframe tbody tr th:only-of-type {\n",
       "        vertical-align: middle;\n",
       "    }\n",
       "\n",
       "    .dataframe tbody tr th {\n",
       "        vertical-align: top;\n",
       "    }\n",
       "\n",
       "    .dataframe thead th {\n",
       "        text-align: right;\n",
       "    }\n",
       "</style>\n",
       "<table border=\"1\" class=\"dataframe\">\n",
       "  <thead>\n",
       "    <tr style=\"text-align: right;\">\n",
       "      <th></th>\n",
       "      <th>BATTING</th>\n",
       "      <th></th>\n",
       "      <th>R</th>\n",
       "      <th>B</th>\n",
       "      <th>M</th>\n",
       "      <th>4s</th>\n",
       "      <th>6s</th>\n",
       "      <th>SR</th>\n",
       "    </tr>\n",
       "  </thead>\n",
       "  <tbody>\n",
       "    <tr>\n",
       "      <th>0</th>\n",
       "      <td>Ruturaj Gaikwad</td>\n",
       "      <td>c Rashid Khan b Noor Ahmad</td>\n",
       "      <td>26</td>\n",
       "      <td>16</td>\n",
       "      <td>30</td>\n",
       "      <td>3</td>\n",
       "      <td>1</td>\n",
       "      <td>162.50</td>\n",
       "    </tr>\n",
       "    <tr>\n",
       "      <th>1</th>\n",
       "      <td>Devon Conway</td>\n",
       "      <td>c Sharma b Noor Ahmad</td>\n",
       "      <td>47</td>\n",
       "      <td>25</td>\n",
       "      <td>34</td>\n",
       "      <td>4</td>\n",
       "      <td>2</td>\n",
       "      <td>188.00</td>\n",
       "    </tr>\n",
       "    <tr>\n",
       "      <th>2</th>\n",
       "      <td>Shivam Dube</td>\n",
       "      <td>not out</td>\n",
       "      <td>32</td>\n",
       "      <td>21</td>\n",
       "      <td>49</td>\n",
       "      <td>0</td>\n",
       "      <td>2</td>\n",
       "      <td>152.38</td>\n",
       "    </tr>\n",
       "    <tr>\n",
       "      <th>3</th>\n",
       "      <td>Ajinkya Rahane</td>\n",
       "      <td>c Shankar b Sharma</td>\n",
       "      <td>27</td>\n",
       "      <td>13</td>\n",
       "      <td>20</td>\n",
       "      <td>2</td>\n",
       "      <td>2</td>\n",
       "      <td>207.69</td>\n",
       "    </tr>\n",
       "    <tr>\n",
       "      <th>4</th>\n",
       "      <td>Ambati Rayudu</td>\n",
       "      <td>c &amp; b Sharma</td>\n",
       "      <td>19</td>\n",
       "      <td>8</td>\n",
       "      <td>8</td>\n",
       "      <td>1</td>\n",
       "      <td>2</td>\n",
       "      <td>237.50</td>\n",
       "    </tr>\n",
       "    <tr>\n",
       "      <th>5</th>\n",
       "      <td>MS Dhoni (c)†</td>\n",
       "      <td>c Miller b Sharma</td>\n",
       "      <td>0</td>\n",
       "      <td>1</td>\n",
       "      <td>1</td>\n",
       "      <td>0</td>\n",
       "      <td>0</td>\n",
       "      <td>0.00</td>\n",
       "    </tr>\n",
       "    <tr>\n",
       "      <th>6</th>\n",
       "      <td>Ravindra Jadeja</td>\n",
       "      <td>not out</td>\n",
       "      <td>15</td>\n",
       "      <td>6</td>\n",
       "      <td>14</td>\n",
       "      <td>1</td>\n",
       "      <td>1</td>\n",
       "      <td>250.00</td>\n",
       "    </tr>\n",
       "    <tr>\n",
       "      <th>7</th>\n",
       "      <td>Extras</td>\n",
       "      <td>(lb 1, w 4)</td>\n",
       "      <td>5</td>\n",
       "      <td></td>\n",
       "      <td>None</td>\n",
       "      <td>None</td>\n",
       "      <td>None</td>\n",
       "      <td>None</td>\n",
       "    </tr>\n",
       "    <tr>\n",
       "      <th>8</th>\n",
       "      <td>TOTAL</td>\n",
       "      <td>15 Ov (RR: 11.40)</td>\n",
       "      <td>171/5</td>\n",
       "      <td></td>\n",
       "      <td>None</td>\n",
       "      <td>None</td>\n",
       "      <td>None</td>\n",
       "      <td>None</td>\n",
       "    </tr>\n",
       "  </tbody>\n",
       "</table>\n",
       "</div>"
      ],
      "text/plain": [
       "            BATTING                                  R   B     M    4s    6s  \\\n",
       "0  Ruturaj Gaikwad   c Rashid Khan b Noor Ahmad     26  16    30     3     1   \n",
       "1     Devon Conway        c Sharma b Noor Ahmad     47  25    34     4     2   \n",
       "2      Shivam Dube                     not out      32  21    49     0     2   \n",
       "3   Ajinkya Rahane           c Shankar b Sharma     27  13    20     2     2   \n",
       "4    Ambati Rayudu                 c & b Sharma     19   8     8     1     2   \n",
       "5     MS Dhoni (c)†           c Miller b Sharma      0   1     1     0     0   \n",
       "6  Ravindra Jadeja                     not out      15   6    14     1     1   \n",
       "7            Extras                 (lb 1, w 4)      5      None  None  None   \n",
       "8             TOTAL           15 Ov (RR: 11.40)  171/5      None  None  None   \n",
       "\n",
       "       SR  \n",
       "0  162.50  \n",
       "1  188.00  \n",
       "2  152.38  \n",
       "3  207.69  \n",
       "4  237.50  \n",
       "5    0.00  \n",
       "6  250.00  \n",
       "7    None  \n",
       "8    None  "
      ]
     },
     "execution_count": 10,
     "metadata": {},
     "output_type": "execute_result"
    }
   ],
   "source": [
    "batting_2 = pd.DataFrame(main_table[2], columns = main_column[2])\n",
    "batting_2"
   ]
  },
  {
   "cell_type": "code",
   "execution_count": 11,
   "id": "8d4fb4c0-67e6-4317-ac8f-ad518693ac62",
   "metadata": {
    "tags": []
   },
   "outputs": [
    {
     "data": {
      "text/plain": [
       "(11, 11)"
      ]
     },
     "execution_count": 11,
     "metadata": {},
     "output_type": "execute_result"
    }
   ],
   "source": [
    "# 4th_table contains BOWLING details of 2nd team.\n",
    "len(main_table[3][0]), len(main_column[3])"
   ]
  },
  {
   "cell_type": "code",
   "execution_count": 12,
   "id": "2c86599f-c763-4517-9134-d222b2d6a8b2",
   "metadata": {
    "tags": []
   },
   "outputs": [
    {
     "data": {
      "text/html": [
       "<div>\n",
       "<style scoped>\n",
       "    .dataframe tbody tr th:only-of-type {\n",
       "        vertical-align: middle;\n",
       "    }\n",
       "\n",
       "    .dataframe tbody tr th {\n",
       "        vertical-align: top;\n",
       "    }\n",
       "\n",
       "    .dataframe thead th {\n",
       "        text-align: right;\n",
       "    }\n",
       "</style>\n",
       "<table border=\"1\" class=\"dataframe\">\n",
       "  <thead>\n",
       "    <tr style=\"text-align: right;\">\n",
       "      <th></th>\n",
       "      <th>BOWLING</th>\n",
       "      <th>O</th>\n",
       "      <th>M</th>\n",
       "      <th>R</th>\n",
       "      <th>W</th>\n",
       "      <th>ECON</th>\n",
       "      <th>0s</th>\n",
       "      <th>4s</th>\n",
       "      <th>6s</th>\n",
       "      <th>WD</th>\n",
       "      <th>NB</th>\n",
       "    </tr>\n",
       "  </thead>\n",
       "  <tbody>\n",
       "    <tr>\n",
       "      <th>0</th>\n",
       "      <td>Mohammed Shami</td>\n",
       "      <td>3</td>\n",
       "      <td>0</td>\n",
       "      <td>29</td>\n",
       "      <td>0</td>\n",
       "      <td>9.66</td>\n",
       "      <td>5</td>\n",
       "      <td>4</td>\n",
       "      <td>0</td>\n",
       "      <td>0</td>\n",
       "      <td>0</td>\n",
       "    </tr>\n",
       "    <tr>\n",
       "      <th>1</th>\n",
       "      <td>Hardik Pandya</td>\n",
       "      <td>1</td>\n",
       "      <td>0</td>\n",
       "      <td>14</td>\n",
       "      <td>0</td>\n",
       "      <td>14.00</td>\n",
       "      <td>1</td>\n",
       "      <td>1</td>\n",
       "      <td>1</td>\n",
       "      <td>1</td>\n",
       "      <td>0</td>\n",
       "    </tr>\n",
       "    <tr>\n",
       "      <th>2</th>\n",
       "      <td>Rashid Khan</td>\n",
       "      <td>3</td>\n",
       "      <td>0</td>\n",
       "      <td>44</td>\n",
       "      <td>0</td>\n",
       "      <td>14.66</td>\n",
       "      <td>2</td>\n",
       "      <td>4</td>\n",
       "      <td>3</td>\n",
       "      <td>0</td>\n",
       "      <td>0</td>\n",
       "    </tr>\n",
       "    <tr>\n",
       "      <th>3</th>\n",
       "      <td>Noor Ahmad</td>\n",
       "      <td>3</td>\n",
       "      <td>0</td>\n",
       "      <td>17</td>\n",
       "      <td>2</td>\n",
       "      <td>5.66</td>\n",
       "      <td>6</td>\n",
       "      <td>0</td>\n",
       "      <td>0</td>\n",
       "      <td>3</td>\n",
       "      <td>0</td>\n",
       "    </tr>\n",
       "    <tr>\n",
       "      <th>4</th>\n",
       "      <td>Josh Little</td>\n",
       "      <td>2</td>\n",
       "      <td>0</td>\n",
       "      <td>30</td>\n",
       "      <td>0</td>\n",
       "      <td>15.00</td>\n",
       "      <td>1</td>\n",
       "      <td>0</td>\n",
       "      <td>3</td>\n",
       "      <td>0</td>\n",
       "      <td>0</td>\n",
       "    </tr>\n",
       "    <tr>\n",
       "      <th>5</th>\n",
       "      <td>Mohit Sharma</td>\n",
       "      <td>3</td>\n",
       "      <td>0</td>\n",
       "      <td>36</td>\n",
       "      <td>3</td>\n",
       "      <td>12.00</td>\n",
       "      <td>4</td>\n",
       "      <td>2</td>\n",
       "      <td>3</td>\n",
       "      <td>0</td>\n",
       "      <td>0</td>\n",
       "    </tr>\n",
       "  </tbody>\n",
       "</table>\n",
       "</div>"
      ],
      "text/plain": [
       "          BOWLING  O  M   R  W   ECON 0s 4s 6s WD NB\n",
       "0  Mohammed Shami  3  0  29  0   9.66  5  4  0  0  0\n",
       "1   Hardik Pandya  1  0  14  0  14.00  1  1  1  1  0\n",
       "2     Rashid Khan  3  0  44  0  14.66  2  4  3  0  0\n",
       "3      Noor Ahmad  3  0  17  2   5.66  6  0  0  3  0\n",
       "4     Josh Little  2  0  30  0  15.00  1  0  3  0  0\n",
       "5    Mohit Sharma  3  0  36  3  12.00  4  2  3  0  0"
      ]
     },
     "execution_count": 12,
     "metadata": {},
     "output_type": "execute_result"
    }
   ],
   "source": [
    "bowling_2 = pd.DataFrame(main_table[3], columns = main_column[3])\n",
    "bowling_2"
   ]
  },
  {
   "cell_type": "code",
   "execution_count": 13,
   "id": "9b080e23-8a85-4973-bfc1-7aaa050ef7ad",
   "metadata": {
    "tags": []
   },
   "outputs": [
    {
     "data": {
      "text/plain": [
       "(4, 3)"
      ]
     },
     "execution_count": 13,
     "metadata": {},
     "output_type": "execute_result"
    }
   ],
   "source": [
    "# 5th_table contains BOWLING details of 2nd team.\n",
    "len(main_table[5][0]), len(main_column[4])"
   ]
  },
  {
   "cell_type": "code",
   "execution_count": 14,
   "id": "ee676814-a139-4c5e-bde2-45fdee2a33f1",
   "metadata": {
    "tags": []
   },
   "outputs": [
    {
     "data": {
      "text/plain": [
       "(['S Dube', 'not out', '32', '21'], ['PLAYER NAME', 'R', 'B'])"
      ]
     },
     "execution_count": 14,
     "metadata": {},
     "output_type": "execute_result"
    }
   ],
   "source": [
    "main_table[5][2], main_column[4]"
   ]
  },
  {
   "cell_type": "markdown",
   "id": "649ae308-143d-4f49-9c71-b4da0e04d8c3",
   "metadata": {},
   "source": []
  },
  {
   "cell_type": "code",
   "execution_count": 15,
   "id": "9a62bec0-1c3e-418a-abd2-cf76f79660d0",
   "metadata": {
    "tags": []
   },
   "outputs": [
    {
     "data": {
      "text/plain": [
       "(6, 6)"
      ]
     },
     "execution_count": 15,
     "metadata": {},
     "output_type": "execute_result"
    }
   ],
   "source": [
    "# 5th_table contains BOWLING details of 2nd team.\n",
    "len(main_table[6][0]), len(main_column[5])"
   ]
  },
  {
   "cell_type": "code",
   "execution_count": 16,
   "id": "5eb2ad99-defb-4513-aebb-9ecce78ae4b1",
   "metadata": {
    "tags": []
   },
   "outputs": [
    {
     "data": {
      "text/plain": [
       "(['Rashid Khan', '3', '0', '44', '0', '14.66 '],\n",
       " ['PLAYER NAME', 'O', 'M', 'R', 'W', 'Econ'])"
      ]
     },
     "execution_count": 16,
     "metadata": {},
     "output_type": "execute_result"
    }
   ],
   "source": [
    "main_table[6][2], main_column[5]"
   ]
  },
  {
   "cell_type": "markdown",
   "id": "72cc7329-9b1d-451d-9dcc-c8f48a6e937f",
   "metadata": {},
   "source": []
  },
  {
   "cell_type": "code",
   "execution_count": 17,
   "id": "1690c0f0-5bcf-4aee-98d2-8d61289f7c0d",
   "metadata": {
    "tags": []
   },
   "outputs": [
    {
     "data": {
      "text/plain": [
       "(['LSG', '14', '8', '5', '17', '0.284'], ['TEAM', 'M', 'W', 'L', 'PT', 'NRR'])"
      ]
     },
     "execution_count": 17,
     "metadata": {},
     "output_type": "execute_result"
    }
   ],
   "source": [
    "main_table[8][2], main_column[7]"
   ]
  },
  {
   "cell_type": "code",
   "execution_count": 18,
   "id": "26d76844-a947-4c26-8a10-eb2d15d035f7",
   "metadata": {
    "tags": []
   },
   "outputs": [
    {
     "data": {
      "text/html": [
       "<div>\n",
       "<style scoped>\n",
       "    .dataframe tbody tr th:only-of-type {\n",
       "        vertical-align: middle;\n",
       "    }\n",
       "\n",
       "    .dataframe tbody tr th {\n",
       "        vertical-align: top;\n",
       "    }\n",
       "\n",
       "    .dataframe thead th {\n",
       "        text-align: right;\n",
       "    }\n",
       "</style>\n",
       "<table border=\"1\" class=\"dataframe\">\n",
       "  <thead>\n",
       "    <tr style=\"text-align: right;\">\n",
       "      <th></th>\n",
       "      <th>TEAM</th>\n",
       "      <th>M</th>\n",
       "      <th>W</th>\n",
       "      <th>L</th>\n",
       "      <th>PT</th>\n",
       "      <th>NRR</th>\n",
       "    </tr>\n",
       "  </thead>\n",
       "  <tbody>\n",
       "    <tr>\n",
       "      <th>0</th>\n",
       "      <td>GT</td>\n",
       "      <td>14</td>\n",
       "      <td>10</td>\n",
       "      <td>4</td>\n",
       "      <td>20</td>\n",
       "      <td>0.809</td>\n",
       "    </tr>\n",
       "    <tr>\n",
       "      <th>1</th>\n",
       "      <td>CSK</td>\n",
       "      <td>14</td>\n",
       "      <td>8</td>\n",
       "      <td>5</td>\n",
       "      <td>17</td>\n",
       "      <td>0.652</td>\n",
       "    </tr>\n",
       "    <tr>\n",
       "      <th>2</th>\n",
       "      <td>LSG</td>\n",
       "      <td>14</td>\n",
       "      <td>8</td>\n",
       "      <td>5</td>\n",
       "      <td>17</td>\n",
       "      <td>0.284</td>\n",
       "    </tr>\n",
       "    <tr>\n",
       "      <th>3</th>\n",
       "      <td>MI</td>\n",
       "      <td>14</td>\n",
       "      <td>8</td>\n",
       "      <td>6</td>\n",
       "      <td>16</td>\n",
       "      <td>-0.044</td>\n",
       "    </tr>\n",
       "    <tr>\n",
       "      <th>4</th>\n",
       "      <td>RR</td>\n",
       "      <td>14</td>\n",
       "      <td>7</td>\n",
       "      <td>7</td>\n",
       "      <td>14</td>\n",
       "      <td>0.148</td>\n",
       "    </tr>\n",
       "    <tr>\n",
       "      <th>5</th>\n",
       "      <td>RCB</td>\n",
       "      <td>14</td>\n",
       "      <td>7</td>\n",
       "      <td>7</td>\n",
       "      <td>14</td>\n",
       "      <td>0.135</td>\n",
       "    </tr>\n",
       "    <tr>\n",
       "      <th>6</th>\n",
       "      <td>KKR</td>\n",
       "      <td>14</td>\n",
       "      <td>6</td>\n",
       "      <td>8</td>\n",
       "      <td>12</td>\n",
       "      <td>-0.239</td>\n",
       "    </tr>\n",
       "    <tr>\n",
       "      <th>7</th>\n",
       "      <td>PBKS</td>\n",
       "      <td>14</td>\n",
       "      <td>6</td>\n",
       "      <td>8</td>\n",
       "      <td>12</td>\n",
       "      <td>-0.304</td>\n",
       "    </tr>\n",
       "    <tr>\n",
       "      <th>8</th>\n",
       "      <td>DC</td>\n",
       "      <td>14</td>\n",
       "      <td>5</td>\n",
       "      <td>9</td>\n",
       "      <td>10</td>\n",
       "      <td>-0.808</td>\n",
       "    </tr>\n",
       "    <tr>\n",
       "      <th>9</th>\n",
       "      <td>SRH</td>\n",
       "      <td>14</td>\n",
       "      <td>4</td>\n",
       "      <td>10</td>\n",
       "      <td>8</td>\n",
       "      <td>-0.590</td>\n",
       "    </tr>\n",
       "  </tbody>\n",
       "</table>\n",
       "</div>"
      ],
      "text/plain": [
       "   TEAM   M   W   L  PT     NRR\n",
       "0    GT  14  10   4  20   0.809\n",
       "1   CSK  14   8   5  17   0.652\n",
       "2   LSG  14   8   5  17   0.284\n",
       "3    MI  14   8   6  16  -0.044\n",
       "4    RR  14   7   7  14   0.148\n",
       "5   RCB  14   7   7  14   0.135\n",
       "6   KKR  14   6   8  12  -0.239\n",
       "7  PBKS  14   6   8  12  -0.304\n",
       "8    DC  14   5   9  10  -0.808\n",
       "9   SRH  14   4  10   8  -0.590"
      ]
     },
     "execution_count": 18,
     "metadata": {},
     "output_type": "execute_result"
    }
   ],
   "source": [
    "point_table = pd.DataFrame(main_table[8], columns = main_column[7])\n",
    "point_table"
   ]
  },
  {
   "cell_type": "markdown",
   "id": "31f0c068-b259-4cb3-9259-fd1765102488",
   "metadata": {},
   "source": [
    "We have single table in the above url, used table -> thead -> tr -> td to get columns details and table -> tbody -> tr -> td to get records."
   ]
  },
  {
   "cell_type": "code",
   "execution_count": 19,
   "id": "9f72a914-9b7f-4d04-8206-7e2b6076b2a0",
   "metadata": {
    "tags": []
   },
   "outputs": [
    {
     "data": {
      "text/html": [
       "<div>\n",
       "<style scoped>\n",
       "    .dataframe tbody tr th:only-of-type {\n",
       "        vertical-align: middle;\n",
       "    }\n",
       "\n",
       "    .dataframe tbody tr th {\n",
       "        vertical-align: top;\n",
       "    }\n",
       "\n",
       "    .dataframe thead th {\n",
       "        text-align: right;\n",
       "    }\n",
       "</style>\n",
       "<table border=\"1\" class=\"dataframe\">\n",
       "  <thead>\n",
       "    <tr style=\"text-align: right;\">\n",
       "      <th></th>\n",
       "      <th>BATTING</th>\n",
       "      <th></th>\n",
       "      <th>R</th>\n",
       "      <th>B</th>\n",
       "      <th>M</th>\n",
       "      <th>4s</th>\n",
       "      <th>6s</th>\n",
       "      <th>SR</th>\n",
       "    </tr>\n",
       "  </thead>\n",
       "  <tbody>\n",
       "    <tr>\n",
       "      <th>0</th>\n",
       "      <td>Wriddhiman Saha †</td>\n",
       "      <td>c †Dhoni b Chahar</td>\n",
       "      <td>54</td>\n",
       "      <td>39</td>\n",
       "      <td>63</td>\n",
       "      <td>5</td>\n",
       "      <td>1</td>\n",
       "      <td>138.46</td>\n",
       "    </tr>\n",
       "    <tr>\n",
       "      <th>1</th>\n",
       "      <td>Shubman Gill</td>\n",
       "      <td>st †Dhoni b Jadeja</td>\n",
       "      <td>39</td>\n",
       "      <td>20</td>\n",
       "      <td>34</td>\n",
       "      <td>7</td>\n",
       "      <td>0</td>\n",
       "      <td>195.00</td>\n",
       "    </tr>\n",
       "    <tr>\n",
       "      <th>2</th>\n",
       "      <td>Sai Sudharsan</td>\n",
       "      <td>lbw b Pathirana</td>\n",
       "      <td>96</td>\n",
       "      <td>47</td>\n",
       "      <td>58</td>\n",
       "      <td>8</td>\n",
       "      <td>6</td>\n",
       "      <td>204.25</td>\n",
       "    </tr>\n",
       "    <tr>\n",
       "      <th>3</th>\n",
       "      <td>Hardik Pandya (c)</td>\n",
       "      <td>not out</td>\n",
       "      <td>21</td>\n",
       "      <td>12</td>\n",
       "      <td>32</td>\n",
       "      <td>0</td>\n",
       "      <td>2</td>\n",
       "      <td>175.00</td>\n",
       "    </tr>\n",
       "    <tr>\n",
       "      <th>4</th>\n",
       "      <td>Rashid Khan</td>\n",
       "      <td>c Gaikwad b Pathirana</td>\n",
       "      <td>0</td>\n",
       "      <td>2</td>\n",
       "      <td>2</td>\n",
       "      <td>0</td>\n",
       "      <td>0</td>\n",
       "      <td>0.00</td>\n",
       "    </tr>\n",
       "  </tbody>\n",
       "</table>\n",
       "</div>"
      ],
      "text/plain": [
       "             BATTING                          R   B   M 4s 6s      SR\n",
       "0  Wriddhiman Saha †      c †Dhoni b Chahar  54  39  63  5  1  138.46\n",
       "1      Shubman Gill      st †Dhoni b Jadeja  39  20  34  7  0  195.00\n",
       "2     Sai Sudharsan         lbw b Pathirana  96  47  58  8  6  204.25\n",
       "3  Hardik Pandya (c)               not out   21  12  32  0  2  175.00\n",
       "4       Rashid Khan   c Gaikwad b Pathirana   0   2   2  0  0    0.00"
      ]
     },
     "execution_count": 19,
     "metadata": {},
     "output_type": "execute_result"
    }
   ],
   "source": [
    "batting_1.head()"
   ]
  },
  {
   "cell_type": "code",
   "execution_count": 20,
   "id": "13bce542-6555-4d63-977e-294adbfc774c",
   "metadata": {
    "tags": []
   },
   "outputs": [
    {
     "data": {
      "text/html": [
       "<div>\n",
       "<style scoped>\n",
       "    .dataframe tbody tr th:only-of-type {\n",
       "        vertical-align: middle;\n",
       "    }\n",
       "\n",
       "    .dataframe tbody tr th {\n",
       "        vertical-align: top;\n",
       "    }\n",
       "\n",
       "    .dataframe thead th {\n",
       "        text-align: right;\n",
       "    }\n",
       "</style>\n",
       "<table border=\"1\" class=\"dataframe\">\n",
       "  <thead>\n",
       "    <tr style=\"text-align: right;\">\n",
       "      <th></th>\n",
       "      <th>BOWLING</th>\n",
       "      <th>O</th>\n",
       "      <th>M</th>\n",
       "      <th>R</th>\n",
       "      <th>W</th>\n",
       "      <th>ECON</th>\n",
       "      <th>0s</th>\n",
       "      <th>4s</th>\n",
       "      <th>6s</th>\n",
       "      <th>WD</th>\n",
       "      <th>NB</th>\n",
       "    </tr>\n",
       "  </thead>\n",
       "  <tbody>\n",
       "    <tr>\n",
       "      <th>0</th>\n",
       "      <td>Mohammed Shami</td>\n",
       "      <td>3</td>\n",
       "      <td>0</td>\n",
       "      <td>29</td>\n",
       "      <td>0</td>\n",
       "      <td>9.66</td>\n",
       "      <td>5</td>\n",
       "      <td>4</td>\n",
       "      <td>0</td>\n",
       "      <td>0</td>\n",
       "      <td>0</td>\n",
       "    </tr>\n",
       "    <tr>\n",
       "      <th>1</th>\n",
       "      <td>Hardik Pandya</td>\n",
       "      <td>1</td>\n",
       "      <td>0</td>\n",
       "      <td>14</td>\n",
       "      <td>0</td>\n",
       "      <td>14.00</td>\n",
       "      <td>1</td>\n",
       "      <td>1</td>\n",
       "      <td>1</td>\n",
       "      <td>1</td>\n",
       "      <td>0</td>\n",
       "    </tr>\n",
       "    <tr>\n",
       "      <th>2</th>\n",
       "      <td>Rashid Khan</td>\n",
       "      <td>3</td>\n",
       "      <td>0</td>\n",
       "      <td>44</td>\n",
       "      <td>0</td>\n",
       "      <td>14.66</td>\n",
       "      <td>2</td>\n",
       "      <td>4</td>\n",
       "      <td>3</td>\n",
       "      <td>0</td>\n",
       "      <td>0</td>\n",
       "    </tr>\n",
       "    <tr>\n",
       "      <th>3</th>\n",
       "      <td>Noor Ahmad</td>\n",
       "      <td>3</td>\n",
       "      <td>0</td>\n",
       "      <td>17</td>\n",
       "      <td>2</td>\n",
       "      <td>5.66</td>\n",
       "      <td>6</td>\n",
       "      <td>0</td>\n",
       "      <td>0</td>\n",
       "      <td>3</td>\n",
       "      <td>0</td>\n",
       "    </tr>\n",
       "    <tr>\n",
       "      <th>4</th>\n",
       "      <td>Josh Little</td>\n",
       "      <td>2</td>\n",
       "      <td>0</td>\n",
       "      <td>30</td>\n",
       "      <td>0</td>\n",
       "      <td>15.00</td>\n",
       "      <td>1</td>\n",
       "      <td>0</td>\n",
       "      <td>3</td>\n",
       "      <td>0</td>\n",
       "      <td>0</td>\n",
       "    </tr>\n",
       "  </tbody>\n",
       "</table>\n",
       "</div>"
      ],
      "text/plain": [
       "          BOWLING  O  M   R  W   ECON 0s 4s 6s WD NB\n",
       "0  Mohammed Shami  3  0  29  0   9.66  5  4  0  0  0\n",
       "1   Hardik Pandya  1  0  14  0  14.00  1  1  1  1  0\n",
       "2     Rashid Khan  3  0  44  0  14.66  2  4  3  0  0\n",
       "3      Noor Ahmad  3  0  17  2   5.66  6  0  0  3  0\n",
       "4     Josh Little  2  0  30  0  15.00  1  0  3  0  0"
      ]
     },
     "execution_count": 20,
     "metadata": {},
     "output_type": "execute_result"
    }
   ],
   "source": [
    "bowling_2.head()"
   ]
  },
  {
   "cell_type": "code",
   "execution_count": 21,
   "id": "b13f6c56-657d-46b6-9d5e-4fd7b2fc0b23",
   "metadata": {
    "tags": []
   },
   "outputs": [
    {
     "data": {
      "text/html": [
       "<div>\n",
       "<style scoped>\n",
       "    .dataframe tbody tr th:only-of-type {\n",
       "        vertical-align: middle;\n",
       "    }\n",
       "\n",
       "    .dataframe tbody tr th {\n",
       "        vertical-align: top;\n",
       "    }\n",
       "\n",
       "    .dataframe thead th {\n",
       "        text-align: right;\n",
       "    }\n",
       "</style>\n",
       "<table border=\"1\" class=\"dataframe\">\n",
       "  <thead>\n",
       "    <tr style=\"text-align: right;\">\n",
       "      <th></th>\n",
       "      <th>TEAM</th>\n",
       "      <th>M</th>\n",
       "      <th>W</th>\n",
       "      <th>L</th>\n",
       "      <th>PT</th>\n",
       "      <th>NRR</th>\n",
       "    </tr>\n",
       "  </thead>\n",
       "  <tbody>\n",
       "    <tr>\n",
       "      <th>0</th>\n",
       "      <td>GT</td>\n",
       "      <td>14</td>\n",
       "      <td>10</td>\n",
       "      <td>4</td>\n",
       "      <td>20</td>\n",
       "      <td>0.809</td>\n",
       "    </tr>\n",
       "    <tr>\n",
       "      <th>1</th>\n",
       "      <td>CSK</td>\n",
       "      <td>14</td>\n",
       "      <td>8</td>\n",
       "      <td>5</td>\n",
       "      <td>17</td>\n",
       "      <td>0.652</td>\n",
       "    </tr>\n",
       "    <tr>\n",
       "      <th>2</th>\n",
       "      <td>LSG</td>\n",
       "      <td>14</td>\n",
       "      <td>8</td>\n",
       "      <td>5</td>\n",
       "      <td>17</td>\n",
       "      <td>0.284</td>\n",
       "    </tr>\n",
       "    <tr>\n",
       "      <th>3</th>\n",
       "      <td>MI</td>\n",
       "      <td>14</td>\n",
       "      <td>8</td>\n",
       "      <td>6</td>\n",
       "      <td>16</td>\n",
       "      <td>-0.044</td>\n",
       "    </tr>\n",
       "    <tr>\n",
       "      <th>4</th>\n",
       "      <td>RR</td>\n",
       "      <td>14</td>\n",
       "      <td>7</td>\n",
       "      <td>7</td>\n",
       "      <td>14</td>\n",
       "      <td>0.148</td>\n",
       "    </tr>\n",
       "  </tbody>\n",
       "</table>\n",
       "</div>"
      ],
      "text/plain": [
       "  TEAM   M   W  L  PT     NRR\n",
       "0   GT  14  10  4  20   0.809\n",
       "1  CSK  14   8  5  17   0.652\n",
       "2  LSG  14   8  5  17   0.284\n",
       "3   MI  14   8  6  16  -0.044\n",
       "4   RR  14   7  7  14   0.148"
      ]
     },
     "execution_count": 21,
     "metadata": {},
     "output_type": "execute_result"
    }
   ],
   "source": [
    "point_table.head()"
   ]
  },
  {
   "cell_type": "markdown",
   "id": "03d275a6-3bac-46a0-95b7-e7a674bf7ae4",
   "metadata": {},
   "source": [
    "There are some conflict like :\n",
    "- Super Giants and Supergiants are both same team, Also we have some 'no result' records as well.\n",
    "- scorecard column has the link to get each match, with the place where match was played and match unique_id.\n",
    "\n",
    "**Note:** In later steps all the confilcts will be trasformed."
   ]
  },
  {
   "cell_type": "code",
   "execution_count": 22,
   "id": "3464f71f-4b16-4293-bed5-259274ce4e22",
   "metadata": {
    "tags": []
   },
   "outputs": [
    {
     "name": "stdout",
     "output_type": "stream",
     "text": [
      "bowling_2_2023_final.csv downloaded !!!\n"
     ]
    }
   ],
   "source": [
    "bowling_2.to_csv(\"bowling_2_2023_final.csv\", index=False)\n",
    "print(\"bowling_2_2023_final.csv downloaded !!!\")"
   ]
  }
 ],
 "metadata": {
  "kernelspec": {
   "display_name": "Python 3 (ipykernel)",
   "language": "python",
   "name": "python3"
  },
  "language_info": {
   "codemirror_mode": {
    "name": "ipython",
    "version": 3
   },
   "file_extension": ".py",
   "mimetype": "text/x-python",
   "name": "python",
   "nbconvert_exporter": "python",
   "pygments_lexer": "ipython3",
   "version": "3.10.10"
  }
 },
 "nbformat": 4,
 "nbformat_minor": 5
}
