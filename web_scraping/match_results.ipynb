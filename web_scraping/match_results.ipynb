{
 "cells": [
  {
   "cell_type": "markdown",
   "id": "68644170-67f5-4ca7-a20d-8d3896d68e5d",
   "metadata": {},
   "source": [
    "This Notebook is used to demonstrate a Python script that extracts indian-premier-league data from a https://www.espncricinfo.com/ using web scraping techniques. \n",
    "It leverages the requests library to fetch HTML content and BeautifulSoup to parse and extract the desired information.\n",
    "At the end we have download the fetched data as a CSV file.\n",
    "\n",
    "Click [link](https://www.espncricinfo.com/records/trophy/team-match-results/indian-premier-league-117) to visit the source page(Official ESPN)."
   ]
  },
  {
   "cell_type": "code",
   "execution_count": 1,
   "id": "98be7344-9372-4a19-ba2d-a8cd59bb9184",
   "metadata": {
    "tags": []
   },
   "outputs": [],
   "source": [
    "from bs4 import BeautifulSoup\n",
    "import pandas as pd\n",
    "\n",
    "import requests"
   ]
  },
  {
   "cell_type": "code",
   "execution_count": 2,
   "id": "f428bd9f-30de-4bc4-adea-a121dab93b22",
   "metadata": {
    "tags": []
   },
   "outputs": [],
   "source": [
    "# URL of the espncricinfo to scrape\n",
    "url = \"https://www.espncricinfo.com/records/trophy/team-match-results/indian-premier-league-117\"\n",
    "\n",
    "# Send an HTTP GET request to the website\n",
    "response = requests.get(url)\n",
    "\n",
    "# Parse the HTML code using BeautifulSoup\n",
    "soup = BeautifulSoup(response.content, 'html.parser')"
   ]
  },
  {
   "cell_type": "markdown",
   "id": "31f0c068-b259-4cb3-9259-fd1765102488",
   "metadata": {},
   "source": [
    "We have single table in the above url, used table -> thead -> tr -> td to get columns details and table -> tbody -> tr -> td to get records."
   ]
  },
  {
   "cell_type": "code",
   "execution_count": 3,
   "id": "4b1561c1-7860-4d6b-a234-d4f2c56f6c3f",
   "metadata": {
    "tags": []
   },
   "outputs": [],
   "source": [
    "for table in soup.select('table'):\n",
    "    \n",
    "    for thead in table.select('thead'):\n",
    "        if len(thead.select('tr')) != 1:\n",
    "            print('Please check HTML contents.')\n",
    "            \n",
    "        column_list = [ items.get_text() for items in thead.select('tr td')]\n",
    "        \n",
    "    record = []\n",
    "    for tbody in table.select('tbody'):\n",
    "        \n",
    "        for row in tbody.select('tr'):\n",
    "            link = row.find_all('a')[1].get('href')\n",
    "            item_list = [ items.get_text() for items in row.select('td')]\n",
    "            item_list[-1] = link\n",
    "            record.append(item_list)\n",
    "        \n",
    "    table_df = pd.DataFrame(record, columns = column_list)\n",
    "    \n",
    "# table_df"
   ]
  },
  {
   "cell_type": "code",
   "execution_count": 4,
   "id": "34fd15b4-7c30-4c23-9287-56c8f48eeb9f",
   "metadata": {
    "tags": []
   },
   "outputs": [
    {
     "data": {
      "text/html": [
       "<div>\n",
       "<style scoped>\n",
       "    .dataframe tbody tr th:only-of-type {\n",
       "        vertical-align: middle;\n",
       "    }\n",
       "\n",
       "    .dataframe tbody tr th {\n",
       "        vertical-align: top;\n",
       "    }\n",
       "\n",
       "    .dataframe thead th {\n",
       "        text-align: right;\n",
       "    }\n",
       "</style>\n",
       "<table border=\"1\" class=\"dataframe\">\n",
       "  <thead>\n",
       "    <tr style=\"text-align: right;\">\n",
       "      <th></th>\n",
       "      <th>Team 1</th>\n",
       "      <th>Team 2</th>\n",
       "      <th>Winner</th>\n",
       "      <th>Margin</th>\n",
       "      <th>Ground</th>\n",
       "      <th>Match Date</th>\n",
       "      <th>Scorecard</th>\n",
       "    </tr>\n",
       "  </thead>\n",
       "  <tbody>\n",
       "    <tr>\n",
       "      <th>0</th>\n",
       "      <td>Titans</td>\n",
       "      <td>Super Kings</td>\n",
       "      <td>Super Kings</td>\n",
       "      <td>5 wickets</td>\n",
       "      <td>Ahmedabad</td>\n",
       "      <td>May 28-29, 2023</td>\n",
       "      <td>/series/indian-premier-league-2023-1345038/guj...</td>\n",
       "    </tr>\n",
       "    <tr>\n",
       "      <th>1</th>\n",
       "      <td>Titans</td>\n",
       "      <td>Mumbai</td>\n",
       "      <td>Titans</td>\n",
       "      <td>62 runs</td>\n",
       "      <td>Ahmedabad</td>\n",
       "      <td>May 26, 2023</td>\n",
       "      <td>/series/indian-premier-league-2023-1345038/guj...</td>\n",
       "    </tr>\n",
       "    <tr>\n",
       "      <th>2</th>\n",
       "      <td>Super Giants</td>\n",
       "      <td>Mumbai</td>\n",
       "      <td>Mumbai</td>\n",
       "      <td>81 runs</td>\n",
       "      <td>Chennai</td>\n",
       "      <td>May 24, 2023</td>\n",
       "      <td>/series/indian-premier-league-2023-1345038/luc...</td>\n",
       "    </tr>\n",
       "    <tr>\n",
       "      <th>3</th>\n",
       "      <td>Super Kings</td>\n",
       "      <td>Titans</td>\n",
       "      <td>Super Kings</td>\n",
       "      <td>15 runs</td>\n",
       "      <td>Chennai</td>\n",
       "      <td>May 23, 2023</td>\n",
       "      <td>/series/indian-premier-league-2023-1345038/che...</td>\n",
       "    </tr>\n",
       "    <tr>\n",
       "      <th>4</th>\n",
       "      <td>RCB</td>\n",
       "      <td>Titans</td>\n",
       "      <td>Titans</td>\n",
       "      <td>6 wickets</td>\n",
       "      <td>Bengaluru</td>\n",
       "      <td>May 21, 2023</td>\n",
       "      <td>/series/indian-premier-league-2023-1345038/roy...</td>\n",
       "    </tr>\n",
       "  </tbody>\n",
       "</table>\n",
       "</div>"
      ],
      "text/plain": [
       "         Team 1       Team 2       Winner     Margin     Ground  \\\n",
       "0        Titans  Super Kings  Super Kings  5 wickets  Ahmedabad   \n",
       "1        Titans       Mumbai       Titans    62 runs  Ahmedabad   \n",
       "2  Super Giants       Mumbai       Mumbai    81 runs    Chennai   \n",
       "3   Super Kings       Titans  Super Kings    15 runs    Chennai   \n",
       "4           RCB       Titans       Titans  6 wickets  Bengaluru   \n",
       "\n",
       "        Match Date                                          Scorecard  \n",
       "0  May 28-29, 2023  /series/indian-premier-league-2023-1345038/guj...  \n",
       "1     May 26, 2023  /series/indian-premier-league-2023-1345038/guj...  \n",
       "2     May 24, 2023  /series/indian-premier-league-2023-1345038/luc...  \n",
       "3     May 23, 2023  /series/indian-premier-league-2023-1345038/che...  \n",
       "4     May 21, 2023  /series/indian-premier-league-2023-1345038/roy...  "
      ]
     },
     "execution_count": 4,
     "metadata": {},
     "output_type": "execute_result"
    }
   ],
   "source": [
    "match_results = table_df.copy()\n",
    "match_results.head()"
   ]
  },
  {
   "cell_type": "code",
   "execution_count": 5,
   "id": "e06eb6a3-d8c1-4581-a757-9a4e077fe73d",
   "metadata": {
    "tags": []
   },
   "outputs": [
    {
     "data": {
      "text/plain": [
       "(1025, 7)"
      ]
     },
     "execution_count": 5,
     "metadata": {},
     "output_type": "execute_result"
    }
   ],
   "source": [
    "# Rename columns\n",
    "match_results.columns = ['team_1','team_2','winner','margin','ground','match_date','scorecard']\n",
    "# match_results.head()\n",
    "match_results.shape"
   ]
  },
  {
   "cell_type": "markdown",
   "id": "e69c98e6-d5cc-462b-b51c-c5eb96ab48d9",
   "metadata": {},
   "source": [
    "**Note:** \n",
    "- **scorecard** in the table refers to the link each matches details, which also conatins one unique id to represent match_id.\n",
    "- **winner** contains *no results* which can be ignore or drops, indicating due to some reason that particular match was cancelled. "
   ]
  },
  {
   "cell_type": "code",
   "execution_count": 6,
   "id": "31cdc150-126f-4e67-acd4-f597235ff6d3",
   "metadata": {
    "tags": []
   },
   "outputs": [],
   "source": [
    "# Polishing match_date\n",
    "match_results.match_date = match_results.match_date.apply(lambda match_date: \\\n",
    "                                                          match_date.split()[0] + ' ' + \\\n",
    "                                                          match_date.split()[1][:2] + ', ' + \\\n",
    "                                                          match_date.split()[2])\n",
    "match_results.match_date = match_results.match_date.apply(lambda match_date: \\\n",
    "                                                          match_date.replace(\",,\",\",\"))\n",
    "\n",
    "# Adding a new feature named match_id \n",
    "match_results['match_id'] = match_results.scorecard.apply(lambda scorecard: \\\n",
    "                                                          scorecard.split('/')[-2].split('-')[-1])"
   ]
  },
  {
   "cell_type": "code",
   "execution_count": 7,
   "id": "cb59b653-b581-4a3a-97c5-0b296c723461",
   "metadata": {
    "tags": []
   },
   "outputs": [
    {
     "data": {
      "text/html": [
       "<div>\n",
       "<style scoped>\n",
       "    .dataframe tbody tr th:only-of-type {\n",
       "        vertical-align: middle;\n",
       "    }\n",
       "\n",
       "    .dataframe tbody tr th {\n",
       "        vertical-align: top;\n",
       "    }\n",
       "\n",
       "    .dataframe thead th {\n",
       "        text-align: right;\n",
       "    }\n",
       "</style>\n",
       "<table border=\"1\" class=\"dataframe\">\n",
       "  <thead>\n",
       "    <tr style=\"text-align: right;\">\n",
       "      <th></th>\n",
       "      <th>team_1</th>\n",
       "      <th>team_2</th>\n",
       "      <th>winner</th>\n",
       "      <th>margin</th>\n",
       "      <th>ground</th>\n",
       "      <th>match_date</th>\n",
       "      <th>scorecard</th>\n",
       "      <th>match_id</th>\n",
       "    </tr>\n",
       "  </thead>\n",
       "  <tbody>\n",
       "    <tr>\n",
       "      <th>0</th>\n",
       "      <td>Titans</td>\n",
       "      <td>Super Kings</td>\n",
       "      <td>Super Kings</td>\n",
       "      <td>5 wickets</td>\n",
       "      <td>Ahmedabad</td>\n",
       "      <td>May 28, 2023</td>\n",
       "      <td>/series/indian-premier-league-2023-1345038/guj...</td>\n",
       "      <td>1370353</td>\n",
       "    </tr>\n",
       "    <tr>\n",
       "      <th>1</th>\n",
       "      <td>Titans</td>\n",
       "      <td>Mumbai</td>\n",
       "      <td>Titans</td>\n",
       "      <td>62 runs</td>\n",
       "      <td>Ahmedabad</td>\n",
       "      <td>May 26, 2023</td>\n",
       "      <td>/series/indian-premier-league-2023-1345038/guj...</td>\n",
       "      <td>1370352</td>\n",
       "    </tr>\n",
       "    <tr>\n",
       "      <th>2</th>\n",
       "      <td>Super Giants</td>\n",
       "      <td>Mumbai</td>\n",
       "      <td>Mumbai</td>\n",
       "      <td>81 runs</td>\n",
       "      <td>Chennai</td>\n",
       "      <td>May 24, 2023</td>\n",
       "      <td>/series/indian-premier-league-2023-1345038/luc...</td>\n",
       "      <td>1370351</td>\n",
       "    </tr>\n",
       "    <tr>\n",
       "      <th>3</th>\n",
       "      <td>Super Kings</td>\n",
       "      <td>Titans</td>\n",
       "      <td>Super Kings</td>\n",
       "      <td>15 runs</td>\n",
       "      <td>Chennai</td>\n",
       "      <td>May 23, 2023</td>\n",
       "      <td>/series/indian-premier-league-2023-1345038/che...</td>\n",
       "      <td>1370350</td>\n",
       "    </tr>\n",
       "    <tr>\n",
       "      <th>4</th>\n",
       "      <td>RCB</td>\n",
       "      <td>Titans</td>\n",
       "      <td>Titans</td>\n",
       "      <td>6 wickets</td>\n",
       "      <td>Bengaluru</td>\n",
       "      <td>May 21, 2023</td>\n",
       "      <td>/series/indian-premier-league-2023-1345038/roy...</td>\n",
       "      <td>1359544</td>\n",
       "    </tr>\n",
       "  </tbody>\n",
       "</table>\n",
       "</div>"
      ],
      "text/plain": [
       "         team_1       team_2       winner     margin     ground    match_date  \\\n",
       "0        Titans  Super Kings  Super Kings  5 wickets  Ahmedabad  May 28, 2023   \n",
       "1        Titans       Mumbai       Titans    62 runs  Ahmedabad  May 26, 2023   \n",
       "2  Super Giants       Mumbai       Mumbai    81 runs    Chennai  May 24, 2023   \n",
       "3   Super Kings       Titans  Super Kings    15 runs    Chennai  May 23, 2023   \n",
       "4           RCB       Titans       Titans  6 wickets  Bengaluru  May 21, 2023   \n",
       "\n",
       "                                           scorecard match_id  \n",
       "0  /series/indian-premier-league-2023-1345038/guj...  1370353  \n",
       "1  /series/indian-premier-league-2023-1345038/guj...  1370352  \n",
       "2  /series/indian-premier-league-2023-1345038/luc...  1370351  \n",
       "3  /series/indian-premier-league-2023-1345038/che...  1370350  \n",
       "4  /series/indian-premier-league-2023-1345038/roy...  1359544  "
      ]
     },
     "execution_count": 7,
     "metadata": {},
     "output_type": "execute_result"
    }
   ],
   "source": [
    "match_results.head()"
   ]
  },
  {
   "cell_type": "code",
   "execution_count": 8,
   "id": "e91d2716-c2c9-43ee-aee2-506cf894cbed",
   "metadata": {
    "tags": []
   },
   "outputs": [
    {
     "data": {
      "text/plain": [
       "Mumbai          138\n",
       "Super Kings     131\n",
       "KKR             119\n",
       "RCB             114\n",
       "Royals          101\n",
       "Kings XI         85\n",
       "Sunrisers        78\n",
       "Daredevils       67\n",
       "Capitals         38\n",
       "Chargers         29\n",
       "Titans           23\n",
       "Punjab Kings     19\n",
       "Super Giants     17\n",
       "tied             14\n",
       "Guj Lions        13\n",
       "Warriors         12\n",
       "Supergiant       10\n",
       "no result         6\n",
       "Kochi             6\n",
       "Supergiants       5\n",
       "Name: winner, dtype: int64"
      ]
     },
     "execution_count": 8,
     "metadata": {},
     "output_type": "execute_result"
    }
   ],
   "source": [
    "match_results.winner.value_counts()"
   ]
  },
  {
   "cell_type": "code",
   "execution_count": 9,
   "id": "e8175216-4ea1-4dc5-817c-d52b69d488de",
   "metadata": {
    "tags": []
   },
   "outputs": [
    {
     "data": {
      "text/plain": [
       "'/series/indian-premier-league-2023-1345038/gujarat-titans-vs-mumbai-indians-qualifier-2-1370352/full-scorecard'"
      ]
     },
     "execution_count": 9,
     "metadata": {},
     "output_type": "execute_result"
    }
   ],
   "source": [
    "match_results.scorecard.tolist()[1]"
   ]
  },
  {
   "cell_type": "markdown",
   "id": "03d275a6-3bac-46a0-95b7-e7a674bf7ae4",
   "metadata": {},
   "source": [
    "There are some conflict like :\n",
    "- Super Giants and Supergiants are both same team, Also we have some 'no result' records as well.\n",
    "- scorecard column has the link to get each match, with the place where match was played and match unique_id.\n",
    "\n",
    "**Note:** In later steps all the confilcts will be trasformed."
   ]
  },
  {
   "cell_type": "code",
   "execution_count": 10,
   "id": "3464f71f-4b16-4293-bed5-259274ce4e22",
   "metadata": {
    "tags": []
   },
   "outputs": [
    {
     "name": "stdout",
     "output_type": "stream",
     "text": [
      "ipl_match_results.csv downloaded !!!\n"
     ]
    }
   ],
   "source": [
    "match_results.to_csv(\"ipl_match_results.csv\", index=False)\n",
    "print(\"ipl_match_results.csv downloaded !!!\")"
   ]
  },
  {
   "cell_type": "code",
   "execution_count": 11,
   "id": "b0e1b40b-8ae6-4e19-b392-10d621e2294d",
   "metadata": {},
   "outputs": [
    {
     "data": {
      "text/html": [
       "<div>\n",
       "<style scoped>\n",
       "    .dataframe tbody tr th:only-of-type {\n",
       "        vertical-align: middle;\n",
       "    }\n",
       "\n",
       "    .dataframe tbody tr th {\n",
       "        vertical-align: top;\n",
       "    }\n",
       "\n",
       "    .dataframe thead th {\n",
       "        text-align: right;\n",
       "    }\n",
       "</style>\n",
       "<table border=\"1\" class=\"dataframe\">\n",
       "  <thead>\n",
       "    <tr style=\"text-align: right;\">\n",
       "      <th></th>\n",
       "      <th>match_id</th>\n",
       "      <th>team_1</th>\n",
       "      <th>team_2</th>\n",
       "      <th>winner</th>\n",
       "      <th>margin</th>\n",
       "      <th>ground</th>\n",
       "      <th>match_date</th>\n",
       "    </tr>\n",
       "  </thead>\n",
       "  <tbody>\n",
       "    <tr>\n",
       "      <th>0</th>\n",
       "      <td>1370353</td>\n",
       "      <td>Titans</td>\n",
       "      <td>Super Kings</td>\n",
       "      <td>Super Kings</td>\n",
       "      <td>5 wickets</td>\n",
       "      <td>Ahmedabad</td>\n",
       "      <td>May 28, 2023</td>\n",
       "    </tr>\n",
       "    <tr>\n",
       "      <th>1</th>\n",
       "      <td>1370352</td>\n",
       "      <td>Titans</td>\n",
       "      <td>Mumbai</td>\n",
       "      <td>Titans</td>\n",
       "      <td>62 runs</td>\n",
       "      <td>Ahmedabad</td>\n",
       "      <td>May 26, 2023</td>\n",
       "    </tr>\n",
       "    <tr>\n",
       "      <th>2</th>\n",
       "      <td>1370351</td>\n",
       "      <td>Super Giants</td>\n",
       "      <td>Mumbai</td>\n",
       "      <td>Mumbai</td>\n",
       "      <td>81 runs</td>\n",
       "      <td>Chennai</td>\n",
       "      <td>May 24, 2023</td>\n",
       "    </tr>\n",
       "    <tr>\n",
       "      <th>3</th>\n",
       "      <td>1370350</td>\n",
       "      <td>Super Kings</td>\n",
       "      <td>Titans</td>\n",
       "      <td>Super Kings</td>\n",
       "      <td>15 runs</td>\n",
       "      <td>Chennai</td>\n",
       "      <td>May 23, 2023</td>\n",
       "    </tr>\n",
       "    <tr>\n",
       "      <th>4</th>\n",
       "      <td>1359544</td>\n",
       "      <td>RCB</td>\n",
       "      <td>Titans</td>\n",
       "      <td>Titans</td>\n",
       "      <td>6 wickets</td>\n",
       "      <td>Bengaluru</td>\n",
       "      <td>May 21, 2023</td>\n",
       "    </tr>\n",
       "  </tbody>\n",
       "</table>\n",
       "</div>"
      ],
      "text/plain": [
       "  match_id        team_1       team_2       winner     margin     ground  \\\n",
       "0  1370353        Titans  Super Kings  Super Kings  5 wickets  Ahmedabad   \n",
       "1  1370352        Titans       Mumbai       Titans    62 runs  Ahmedabad   \n",
       "2  1370351  Super Giants       Mumbai       Mumbai    81 runs    Chennai   \n",
       "3  1370350   Super Kings       Titans  Super Kings    15 runs    Chennai   \n",
       "4  1359544           RCB       Titans       Titans  6 wickets  Bengaluru   \n",
       "\n",
       "     match_date  \n",
       "0  May 28, 2023  \n",
       "1  May 26, 2023  \n",
       "2  May 24, 2023  \n",
       "3  May 23, 2023  \n",
       "4  May 21, 2023  "
      ]
     },
     "execution_count": 11,
     "metadata": {},
     "output_type": "execute_result"
    }
   ],
   "source": [
    "match_df = match_results[['match_id', 'team_1', 'team_2', 'winner', 'margin', 'ground', 'match_date']]\n",
    "match_df.head()"
   ]
  },
  {
   "cell_type": "code",
   "execution_count": 12,
   "id": "099dd886-f382-4399-b7f4-08a8fb4db908",
   "metadata": {},
   "outputs": [
    {
     "data": {
      "text/plain": [
       "array(['Titans', 'Super Giants', 'Super Kings', 'RCB', 'Mumbai', 'KKR',\n",
       "       'Capitals', 'Punjab Kings', 'Sunrisers', 'Royals', 'Kings XI',\n",
       "       'Daredevils', 'Supergiant', 'Guj Lions', 'Supergiants', 'Warriors',\n",
       "       'Chargers', 'Kochi'], dtype=object)"
      ]
     },
     "execution_count": 12,
     "metadata": {},
     "output_type": "execute_result"
    }
   ],
   "source": [
    "match_df.team_1.unique()"
   ]
  },
  {
   "cell_type": "code",
   "execution_count": 13,
   "id": "0a68b4db-57aa-41f1-9b2b-409edf992eac",
   "metadata": {},
   "outputs": [
    {
     "data": {
      "text/plain": [
       "array(['Super Kings', 'Mumbai', 'Titans', 'Sunrisers', 'Super Giants',\n",
       "       'Royals', 'RCB', 'Capitals', 'KKR', 'Punjab Kings', 'Kings XI',\n",
       "       'Daredevils', 'Supergiant', 'Guj Lions', 'Supergiants', 'Warriors',\n",
       "       'Chargers', 'Kochi'], dtype=object)"
      ]
     },
     "execution_count": 13,
     "metadata": {},
     "output_type": "execute_result"
    }
   ],
   "source": [
    "match_df.team_2.unique()"
   ]
  },
  {
   "cell_type": "code",
   "execution_count": 14,
   "id": "fbe24633-c6a9-432b-beb9-3cb737706ed7",
   "metadata": {},
   "outputs": [
    {
     "data": {
      "text/html": [
       "<div>\n",
       "<style scoped>\n",
       "    .dataframe tbody tr th:only-of-type {\n",
       "        vertical-align: middle;\n",
       "    }\n",
       "\n",
       "    .dataframe tbody tr th {\n",
       "        vertical-align: top;\n",
       "    }\n",
       "\n",
       "    .dataframe thead th {\n",
       "        text-align: right;\n",
       "    }\n",
       "</style>\n",
       "<table border=\"1\" class=\"dataframe\">\n",
       "  <thead>\n",
       "    <tr style=\"text-align: right;\">\n",
       "      <th></th>\n",
       "      <th>match_id</th>\n",
       "      <th>team_1</th>\n",
       "      <th>team_2</th>\n",
       "      <th>winner</th>\n",
       "      <th>margin</th>\n",
       "      <th>ground</th>\n",
       "      <th>match_date</th>\n",
       "    </tr>\n",
       "  </thead>\n",
       "  <tbody>\n",
       "    <tr>\n",
       "      <th>393</th>\n",
       "      <td>1082645</td>\n",
       "      <td>Supergiant</td>\n",
       "      <td>Kings XI</td>\n",
       "      <td>Supergiant</td>\n",
       "      <td>9 wickets</td>\n",
       "      <td>Pune</td>\n",
       "      <td>May 14, 2017</td>\n",
       "    </tr>\n",
       "    <tr>\n",
       "      <th>409</th>\n",
       "      <td>1082629</td>\n",
       "      <td>Supergiant</td>\n",
       "      <td>Guj Lions</td>\n",
       "      <td>Supergiant</td>\n",
       "      <td>5 wickets</td>\n",
       "      <td>Pune</td>\n",
       "      <td>May 1, 2017</td>\n",
       "    </tr>\n",
       "    <tr>\n",
       "      <th>414</th>\n",
       "      <td>1082624</td>\n",
       "      <td>Supergiant</td>\n",
       "      <td>RCB</td>\n",
       "      <td>Supergiant</td>\n",
       "      <td>61 runs</td>\n",
       "      <td>Pune</td>\n",
       "      <td>Apr 29, 2017</td>\n",
       "    </tr>\n",
       "    <tr>\n",
       "      <th>418</th>\n",
       "      <td>1082620</td>\n",
       "      <td>Supergiant</td>\n",
       "      <td>KKR</td>\n",
       "      <td>KKR</td>\n",
       "      <td>7 wickets</td>\n",
       "      <td>Pune</td>\n",
       "      <td>Apr 26, 2017</td>\n",
       "    </tr>\n",
       "    <tr>\n",
       "      <th>423</th>\n",
       "      <td>1082615</td>\n",
       "      <td>Supergiant</td>\n",
       "      <td>Sunrisers</td>\n",
       "      <td>Supergiant</td>\n",
       "      <td>6 wickets</td>\n",
       "      <td>Pune</td>\n",
       "      <td>Apr 22, 2017</td>\n",
       "    </tr>\n",
       "    <tr>\n",
       "      <th>438</th>\n",
       "      <td>1082599</td>\n",
       "      <td>Supergiant</td>\n",
       "      <td>Daredevils</td>\n",
       "      <td>Daredevils</td>\n",
       "      <td>97 runs</td>\n",
       "      <td>Pune</td>\n",
       "      <td>Apr 11, 2017</td>\n",
       "    </tr>\n",
       "    <tr>\n",
       "      <th>445</th>\n",
       "      <td>1082592</td>\n",
       "      <td>Supergiant</td>\n",
       "      <td>Mumbai</td>\n",
       "      <td>Supergiant</td>\n",
       "      <td>7 wickets</td>\n",
       "      <td>Pune</td>\n",
       "      <td>Apr 6, 2017</td>\n",
       "    </tr>\n",
       "  </tbody>\n",
       "</table>\n",
       "</div>"
      ],
      "text/plain": [
       "    match_id      team_1      team_2      winner     margin ground  \\\n",
       "393  1082645  Supergiant    Kings XI  Supergiant  9 wickets   Pune   \n",
       "409  1082629  Supergiant   Guj Lions  Supergiant  5 wickets   Pune   \n",
       "414  1082624  Supergiant         RCB  Supergiant    61 runs   Pune   \n",
       "418  1082620  Supergiant         KKR         KKR  7 wickets   Pune   \n",
       "423  1082615  Supergiant   Sunrisers  Supergiant  6 wickets   Pune   \n",
       "438  1082599  Supergiant  Daredevils  Daredevils    97 runs   Pune   \n",
       "445  1082592  Supergiant      Mumbai  Supergiant  7 wickets   Pune   \n",
       "\n",
       "       match_date  \n",
       "393  May 14, 2017  \n",
       "409   May 1, 2017  \n",
       "414  Apr 29, 2017  \n",
       "418  Apr 26, 2017  \n",
       "423  Apr 22, 2017  \n",
       "438  Apr 11, 2017  \n",
       "445   Apr 6, 2017  "
      ]
     },
     "execution_count": 14,
     "metadata": {},
     "output_type": "execute_result"
    }
   ],
   "source": [
    "match_df[match_df.team_1 == 'Supergiant']"
   ]
  },
  {
   "cell_type": "code",
   "execution_count": 15,
   "id": "a0e6ba35-3409-4728-ac99-85af7abb901e",
   "metadata": {},
   "outputs": [
    {
     "data": {
      "text/html": [
       "<div>\n",
       "<style scoped>\n",
       "    .dataframe tbody tr th:only-of-type {\n",
       "        vertical-align: middle;\n",
       "    }\n",
       "\n",
       "    .dataframe tbody tr th {\n",
       "        vertical-align: top;\n",
       "    }\n",
       "\n",
       "    .dataframe thead th {\n",
       "        text-align: right;\n",
       "    }\n",
       "</style>\n",
       "<table border=\"1\" class=\"dataframe\">\n",
       "  <thead>\n",
       "    <tr style=\"text-align: right;\">\n",
       "      <th></th>\n",
       "      <th>match_id</th>\n",
       "      <th>team_1</th>\n",
       "      <th>team_2</th>\n",
       "      <th>winner</th>\n",
       "      <th>margin</th>\n",
       "      <th>ground</th>\n",
       "      <th>match_date</th>\n",
       "    </tr>\n",
       "  </thead>\n",
       "  <tbody>\n",
       "    <tr>\n",
       "      <th>454</th>\n",
       "      <td>981005</td>\n",
       "      <td>Supergiants</td>\n",
       "      <td>Kings XI</td>\n",
       "      <td>Supergiants</td>\n",
       "      <td>4 wickets</td>\n",
       "      <td>Visakhapatnam</td>\n",
       "      <td>May 21, 2016</td>\n",
       "    </tr>\n",
       "    <tr>\n",
       "      <th>458</th>\n",
       "      <td>980997</td>\n",
       "      <td>Supergiants</td>\n",
       "      <td>Daredevils</td>\n",
       "      <td>Supergiants</td>\n",
       "      <td>19 runs</td>\n",
       "      <td>Visakhapatnam</td>\n",
       "      <td>May 17, 2016</td>\n",
       "    </tr>\n",
       "    <tr>\n",
       "      <th>467</th>\n",
       "      <td>980979</td>\n",
       "      <td>Supergiants</td>\n",
       "      <td>Sunrisers</td>\n",
       "      <td>Sunrisers</td>\n",
       "      <td>4 runs</td>\n",
       "      <td>Visakhapatnam</td>\n",
       "      <td>May 10, 2016</td>\n",
       "    </tr>\n",
       "    <tr>\n",
       "      <th>478</th>\n",
       "      <td>980957</td>\n",
       "      <td>Supergiants</td>\n",
       "      <td>Mumbai</td>\n",
       "      <td>Mumbai</td>\n",
       "      <td>8 wickets</td>\n",
       "      <td>Pune</td>\n",
       "      <td>May 1, 2016</td>\n",
       "    </tr>\n",
       "    <tr>\n",
       "      <th>482</th>\n",
       "      <td>980949</td>\n",
       "      <td>Supergiants</td>\n",
       "      <td>Guj Lions</td>\n",
       "      <td>Guj Lions</td>\n",
       "      <td>3 wickets</td>\n",
       "      <td>Pune</td>\n",
       "      <td>Apr 29, 2016</td>\n",
       "    </tr>\n",
       "    <tr>\n",
       "      <th>487</th>\n",
       "      <td>980939</td>\n",
       "      <td>Supergiants</td>\n",
       "      <td>KKR</td>\n",
       "      <td>KKR</td>\n",
       "      <td>2 wickets</td>\n",
       "      <td>Pune</td>\n",
       "      <td>Apr 24, 2016</td>\n",
       "    </tr>\n",
       "    <tr>\n",
       "      <th>491</th>\n",
       "      <td>980931</td>\n",
       "      <td>Supergiants</td>\n",
       "      <td>RCB</td>\n",
       "      <td>RCB</td>\n",
       "      <td>13 runs</td>\n",
       "      <td>Pune</td>\n",
       "      <td>Apr 22, 2016</td>\n",
       "    </tr>\n",
       "  </tbody>\n",
       "</table>\n",
       "</div>"
      ],
      "text/plain": [
       "    match_id       team_1      team_2       winner     margin         ground  \\\n",
       "454   981005  Supergiants    Kings XI  Supergiants  4 wickets  Visakhapatnam   \n",
       "458   980997  Supergiants  Daredevils  Supergiants    19 runs  Visakhapatnam   \n",
       "467   980979  Supergiants   Sunrisers    Sunrisers     4 runs  Visakhapatnam   \n",
       "478   980957  Supergiants      Mumbai       Mumbai  8 wickets           Pune   \n",
       "482   980949  Supergiants   Guj Lions    Guj Lions  3 wickets           Pune   \n",
       "487   980939  Supergiants         KKR          KKR  2 wickets           Pune   \n",
       "491   980931  Supergiants         RCB          RCB    13 runs           Pune   \n",
       "\n",
       "       match_date  \n",
       "454  May 21, 2016  \n",
       "458  May 17, 2016  \n",
       "467  May 10, 2016  \n",
       "478   May 1, 2016  \n",
       "482  Apr 29, 2016  \n",
       "487  Apr 24, 2016  \n",
       "491  Apr 22, 2016  "
      ]
     },
     "execution_count": 15,
     "metadata": {},
     "output_type": "execute_result"
    }
   ],
   "source": [
    "match_df[match_df.team_1 == 'Supergiants']"
   ]
  },
  {
   "cell_type": "code",
   "execution_count": 16,
   "id": "74a25d94-c13c-454e-a904-975f43900e18",
   "metadata": {},
   "outputs": [
    {
     "data": {
      "text/html": [
       "<div>\n",
       "<style scoped>\n",
       "    .dataframe tbody tr th:only-of-type {\n",
       "        vertical-align: middle;\n",
       "    }\n",
       "\n",
       "    .dataframe tbody tr th {\n",
       "        vertical-align: top;\n",
       "    }\n",
       "\n",
       "    .dataframe thead th {\n",
       "        text-align: right;\n",
       "    }\n",
       "</style>\n",
       "<table border=\"1\" class=\"dataframe\">\n",
       "  <thead>\n",
       "    <tr style=\"text-align: right;\">\n",
       "      <th></th>\n",
       "      <th>match_id</th>\n",
       "      <th>team_1</th>\n",
       "      <th>team_2</th>\n",
       "      <th>winner</th>\n",
       "      <th>margin</th>\n",
       "      <th>ground</th>\n",
       "      <th>match_date</th>\n",
       "    </tr>\n",
       "  </thead>\n",
       "  <tbody>\n",
       "    <tr>\n",
       "      <th>0</th>\n",
       "      <td>1370353</td>\n",
       "      <td>Titans</td>\n",
       "      <td>Super Kings</td>\n",
       "      <td>Super Kings</td>\n",
       "      <td>5 wickets</td>\n",
       "      <td>Ahmedabad</td>\n",
       "      <td>May 28, 2023</td>\n",
       "    </tr>\n",
       "    <tr>\n",
       "      <th>1</th>\n",
       "      <td>1370352</td>\n",
       "      <td>Titans</td>\n",
       "      <td>Mumbai</td>\n",
       "      <td>Titans</td>\n",
       "      <td>62 runs</td>\n",
       "      <td>Ahmedabad</td>\n",
       "      <td>May 26, 2023</td>\n",
       "    </tr>\n",
       "    <tr>\n",
       "      <th>2</th>\n",
       "      <td>1370351</td>\n",
       "      <td>Super Giants</td>\n",
       "      <td>Mumbai</td>\n",
       "      <td>Mumbai</td>\n",
       "      <td>81 runs</td>\n",
       "      <td>Chennai</td>\n",
       "      <td>May 24, 2023</td>\n",
       "    </tr>\n",
       "    <tr>\n",
       "      <th>3</th>\n",
       "      <td>1370350</td>\n",
       "      <td>Super Kings</td>\n",
       "      <td>Titans</td>\n",
       "      <td>Super Kings</td>\n",
       "      <td>15 runs</td>\n",
       "      <td>Chennai</td>\n",
       "      <td>May 23, 2023</td>\n",
       "    </tr>\n",
       "    <tr>\n",
       "      <th>4</th>\n",
       "      <td>1359544</td>\n",
       "      <td>RCB</td>\n",
       "      <td>Titans</td>\n",
       "      <td>Titans</td>\n",
       "      <td>6 wickets</td>\n",
       "      <td>Bengaluru</td>\n",
       "      <td>May 21, 2023</td>\n",
       "    </tr>\n",
       "  </tbody>\n",
       "</table>\n",
       "</div>"
      ],
      "text/plain": [
       "  match_id        team_1       team_2       winner     margin     ground  \\\n",
       "0  1370353        Titans  Super Kings  Super Kings  5 wickets  Ahmedabad   \n",
       "1  1370352        Titans       Mumbai       Titans    62 runs  Ahmedabad   \n",
       "2  1370351  Super Giants       Mumbai       Mumbai    81 runs    Chennai   \n",
       "3  1370350   Super Kings       Titans  Super Kings    15 runs    Chennai   \n",
       "4  1359544           RCB       Titans       Titans  6 wickets  Bengaluru   \n",
       "\n",
       "     match_date  \n",
       "0  May 28, 2023  \n",
       "1  May 26, 2023  \n",
       "2  May 24, 2023  \n",
       "3  May 23, 2023  \n",
       "4  May 21, 2023  "
      ]
     },
     "execution_count": 16,
     "metadata": {},
     "output_type": "execute_result"
    }
   ],
   "source": [
    "match_df.head()"
   ]
  },
  {
   "cell_type": "code",
   "execution_count": 17,
   "id": "c6a33338-565b-46f9-886a-c9287598af47",
   "metadata": {},
   "outputs": [
    {
     "data": {
      "text/plain": [
       "(1025, 1025)"
      ]
     },
     "execution_count": 17,
     "metadata": {},
     "output_type": "execute_result"
    }
   ],
   "source": [
    "len(match_df.match_id.unique()), len(match_df)"
   ]
  },
  {
   "cell_type": "code",
   "execution_count": 18,
   "id": "0217a5e3-5b74-4e9d-9c06-70eba8639d4f",
   "metadata": {
    "tags": []
   },
   "outputs": [],
   "source": [
    "match_df.to_csv(\"match_df.csv\", index = False)"
   ]
  }
 ],
 "metadata": {
  "kernelspec": {
   "display_name": "Python 3 (ipykernel)",
   "language": "python",
   "name": "python3"
  },
  "language_info": {
   "codemirror_mode": {
    "name": "ipython",
    "version": 3
   },
   "file_extension": ".py",
   "mimetype": "text/x-python",
   "name": "python",
   "nbconvert_exporter": "python",
   "pygments_lexer": "ipython3",
   "version": "3.10.10"
  }
 },
 "nbformat": 4,
 "nbformat_minor": 5
}
