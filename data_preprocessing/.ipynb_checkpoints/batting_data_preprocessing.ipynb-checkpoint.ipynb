{
 "cells": [
  {
   "cell_type": "code",
   "execution_count": 1,
   "id": "5d633fef-d467-42f1-8eda-37afa26ba976",
   "metadata": {
    "tags": []
   },
   "outputs": [],
   "source": [
    "import pandas as pd\n",
    "import numpy as np"
   ]
  },
  {
   "cell_type": "code",
   "execution_count": 2,
   "id": "0eb32e04-19fe-4f13-bb78-9953efd4b770",
   "metadata": {
    "tags": []
   },
   "outputs": [
    {
     "data": {
      "text/html": [
       "<div>\n",
       "<style scoped>\n",
       "    .dataframe tbody tr th:only-of-type {\n",
       "        vertical-align: middle;\n",
       "    }\n",
       "\n",
       "    .dataframe tbody tr th {\n",
       "        vertical-align: top;\n",
       "    }\n",
       "\n",
       "    .dataframe thead th {\n",
       "        text-align: right;\n",
       "    }\n",
       "</style>\n",
       "<table border=\"1\" class=\"dataframe\">\n",
       "  <thead>\n",
       "    <tr style=\"text-align: right;\">\n",
       "      <th></th>\n",
       "      <th>batsman</th>\n",
       "      <th>out</th>\n",
       "      <th>run</th>\n",
       "      <th>ball</th>\n",
       "      <th>minutes</th>\n",
       "      <th>4s</th>\n",
       "      <th>6s</th>\n",
       "      <th>sr</th>\n",
       "      <th>match_id</th>\n",
       "      <th>batting_position</th>\n",
       "    </tr>\n",
       "  </thead>\n",
       "  <tbody>\n",
       "    <tr>\n",
       "      <th>0</th>\n",
       "      <td>Wriddhiman Saha †</td>\n",
       "      <td>c †Dhoni b Chahar</td>\n",
       "      <td>54</td>\n",
       "      <td>39.0</td>\n",
       "      <td>63</td>\n",
       "      <td>5.0</td>\n",
       "      <td>1.0</td>\n",
       "      <td>138.46</td>\n",
       "      <td>1370353</td>\n",
       "      <td>1</td>\n",
       "    </tr>\n",
       "    <tr>\n",
       "      <th>1</th>\n",
       "      <td>Shubman Gill</td>\n",
       "      <td>st †Dhoni b Jadeja</td>\n",
       "      <td>39</td>\n",
       "      <td>20.0</td>\n",
       "      <td>34</td>\n",
       "      <td>7.0</td>\n",
       "      <td>0.0</td>\n",
       "      <td>195.00</td>\n",
       "      <td>1370353</td>\n",
       "      <td>2</td>\n",
       "    </tr>\n",
       "    <tr>\n",
       "      <th>2</th>\n",
       "      <td>Sai Sudharsan</td>\n",
       "      <td>lbw b Pathirana</td>\n",
       "      <td>96</td>\n",
       "      <td>47.0</td>\n",
       "      <td>58</td>\n",
       "      <td>8.0</td>\n",
       "      <td>6.0</td>\n",
       "      <td>204.25</td>\n",
       "      <td>1370353</td>\n",
       "      <td>3</td>\n",
       "    </tr>\n",
       "    <tr>\n",
       "      <th>3</th>\n",
       "      <td>Hardik Pandya (c)</td>\n",
       "      <td>not out</td>\n",
       "      <td>21</td>\n",
       "      <td>12.0</td>\n",
       "      <td>32</td>\n",
       "      <td>0.0</td>\n",
       "      <td>2.0</td>\n",
       "      <td>175.00</td>\n",
       "      <td>1370353</td>\n",
       "      <td>4</td>\n",
       "    </tr>\n",
       "    <tr>\n",
       "      <th>4</th>\n",
       "      <td>Rashid Khan</td>\n",
       "      <td>c Gaikwad b Pathirana</td>\n",
       "      <td>0</td>\n",
       "      <td>2.0</td>\n",
       "      <td>2</td>\n",
       "      <td>0.0</td>\n",
       "      <td>0.0</td>\n",
       "      <td>0.00</td>\n",
       "      <td>1370353</td>\n",
       "      <td>5</td>\n",
       "    </tr>\n",
       "    <tr>\n",
       "      <th>5</th>\n",
       "      <td>Extras</td>\n",
       "      <td>(b 1, lb 1, w 2)</td>\n",
       "      <td>4</td>\n",
       "      <td>NaN</td>\n",
       "      <td>NaN</td>\n",
       "      <td>NaN</td>\n",
       "      <td>NaN</td>\n",
       "      <td>NaN</td>\n",
       "      <td>1370353</td>\n",
       "      <td>6</td>\n",
       "    </tr>\n",
       "    <tr>\n",
       "      <th>6</th>\n",
       "      <td>TOTAL</td>\n",
       "      <td>20 Ov (RR: 10.70)</td>\n",
       "      <td>214/4</td>\n",
       "      <td>NaN</td>\n",
       "      <td>NaN</td>\n",
       "      <td>NaN</td>\n",
       "      <td>NaN</td>\n",
       "      <td>NaN</td>\n",
       "      <td>1370353</td>\n",
       "      <td>7</td>\n",
       "    </tr>\n",
       "  </tbody>\n",
       "</table>\n",
       "</div>"
      ],
      "text/plain": [
       "             batsman                    out    run  ball minutes   4s   6s  \\\n",
       "0  Wriddhiman Saha †      c †Dhoni b Chahar     54  39.0      63  5.0  1.0   \n",
       "1      Shubman Gill      st †Dhoni b Jadeja     39  20.0      34  7.0  0.0   \n",
       "2     Sai Sudharsan         lbw b Pathirana     96  47.0      58  8.0  6.0   \n",
       "3  Hardik Pandya (c)               not out      21  12.0      32  0.0  2.0   \n",
       "4       Rashid Khan   c Gaikwad b Pathirana      0   2.0       2  0.0  0.0   \n",
       "5             Extras       (b 1, lb 1, w 2)      4   NaN     NaN  NaN  NaN   \n",
       "6              TOTAL      20 Ov (RR: 10.70)  214/4   NaN     NaN  NaN  NaN   \n",
       "\n",
       "       sr  match_id  batting_position  \n",
       "0  138.46   1370353                 1  \n",
       "1  195.00   1370353                 2  \n",
       "2  204.25   1370353                 3  \n",
       "3  175.00   1370353                 4  \n",
       "4    0.00   1370353                 5  \n",
       "5     NaN   1370353                 6  \n",
       "6     NaN   1370353                 7  "
      ]
     },
     "execution_count": 2,
     "metadata": {},
     "output_type": "execute_result"
    }
   ],
   "source": [
    "batting_df = pd.read_csv(\"ipl_2023_batting.csv\")\n",
    "batting_df.head(7)"
   ]
  },
  {
   "cell_type": "code",
   "execution_count": 3,
   "id": "040b4530-b68e-4a0b-ac6d-3db806e9fea3",
   "metadata": {
    "tags": []
   },
   "outputs": [],
   "source": [
    "# extra_df = batting_df[batting_df.batsman == 'Extras']\n",
    "# extra_df.head()"
   ]
  },
  {
   "cell_type": "code",
   "execution_count": 4,
   "id": "0d00ac0b-e803-49aa-b59f-0d03c02eaa2d",
   "metadata": {
    "tags": []
   },
   "outputs": [],
   "source": [
    "# extra_df = extra_df.drop(columns = ['ball','minutes','4s','6s','sr'])\n",
    "# extra_df.head()"
   ]
  },
  {
   "cell_type": "code",
   "execution_count": 5,
   "id": "809d5a64-b9a5-4801-a2d6-63c6ab2b5dd1",
   "metadata": {
    "tags": []
   },
   "outputs": [],
   "source": [
    "# extra_df = extra_df.rename(columns = {'out':'split_info'})\n",
    "# extra_df.head()"
   ]
  },
  {
   "cell_type": "code",
   "execution_count": 6,
   "id": "5edb8c67-6bf2-4d19-85ce-3c81b7b54fcb",
   "metadata": {
    "tags": []
   },
   "outputs": [],
   "source": [
    "# def get_split(info, column_name):\n",
    "    \n",
    "#     temp_info = info.split(',')\n",
    "#     temp_info = [ i.replace('(','').replace(')','').strip().split() \\\n",
    "#                  for i in temp_info ]\n",
    "    \n",
    "#     temp_split = np.array(temp_info)\n",
    "#     if column_name in temp_split[:,:1]:\n",
    "#         split_index = (list(temp_split[:,:1].flatten()).index(column_name))\n",
    "#         return int(temp_split[split_index,1:])\n",
    "#     else :\n",
    "#         # print(\"not found\")\n",
    "#         return 0\n",
    "    \n",
    "#     # print(temp_split)\n",
    "#     return 0"
   ]
  },
  {
   "cell_type": "code",
   "execution_count": 7,
   "id": "27d22c07-7368-4e55-bd7f-8f1419f69fb4",
   "metadata": {
    "tags": []
   },
   "outputs": [],
   "source": [
    "# extra_df[extra_df.split_info.isna() == True]"
   ]
  },
  {
   "cell_type": "code",
   "execution_count": 8,
   "id": "b9d05335-7936-4b1b-82d9-81a0fa9ff859",
   "metadata": {
    "tags": []
   },
   "outputs": [],
   "source": [
    "# extra_df = extra_df[extra_df.split_info.isna() == False]\n",
    "# extra_df.head()"
   ]
  },
  {
   "cell_type": "code",
   "execution_count": 9,
   "id": "d717bff3-5737-4514-964e-80e2cb27468e",
   "metadata": {
    "tags": []
   },
   "outputs": [],
   "source": [
    "# extra_df['w'] = extra_df.split_info.apply(get_split, args=['w'])\n",
    "# extra_df['b'] = extra_df.split_info.apply(get_split, args=['b'])\n",
    "# extra_df['lb'] = extra_df.split_info.apply(get_split, args=['lb'])\n",
    "# extra_df['nb'] = extra_df.split_info.apply(get_split, args=['nb'])"
   ]
  },
  {
   "cell_type": "code",
   "execution_count": 10,
   "id": "852143ba-440f-4b72-a3ce-abc32193bbb9",
   "metadata": {
    "tags": []
   },
   "outputs": [],
   "source": [
    "# extra_df = extra_df[['match_id', 'w', 'b', 'lb', 'nb', 'run']]\n",
    "# extra_df.reset_index(drop = True, inplace = True)\n",
    "# extra_df.sort_values(by = 'match_id', ascending = False)"
   ]
  },
  {
   "cell_type": "code",
   "execution_count": 11,
   "id": "50df54c9-4e9a-41ae-a1a0-76bf34d6d2ea",
   "metadata": {
    "tags": []
   },
   "outputs": [],
   "source": [
    "# extra_df.shape"
   ]
  },
  {
   "cell_type": "code",
   "execution_count": 12,
   "id": "96a4edd8-28ce-4373-b906-d947a80bc315",
   "metadata": {
    "tags": []
   },
   "outputs": [],
   "source": [
    "# extra_df.to_csv(\"extra_2023_batting.csv\", index = False)"
   ]
  },
  {
   "cell_type": "code",
   "execution_count": 13,
   "id": "53d6adb2-c3ca-4c80-bd33-4f4d32aaf70f",
   "metadata": {
    "tags": []
   },
   "outputs": [],
   "source": [
    "# total_df = batting_df[batting_df.batsman == 'TOTAL']\n",
    "# total_df.head()"
   ]
  },
  {
   "cell_type": "code",
   "execution_count": 14,
   "id": "095c9e59-60cf-4070-9353-414dc303c134",
   "metadata": {
    "tags": []
   },
   "outputs": [],
   "source": [
    "# total_df['rr'] = total_df.out.apply(lambda x: x.replace('(','').replace(')','').strip().split()[-1])\n",
    "# total_df.head()"
   ]
  },
  {
   "cell_type": "code",
   "execution_count": 15,
   "id": "6cd15cad-dd8b-4114-b298-fbbddf05cf8e",
   "metadata": {
    "tags": []
   },
   "outputs": [],
   "source": [
    "# total_df['wicket'] = total_df.run.apply(lambda x: x.split('/')[-1])\n",
    "# total_df.run = total_df.run.apply(lambda x: x.split('/')[0])\n",
    "# total_df.head()"
   ]
  },
  {
   "cell_type": "code",
   "execution_count": 16,
   "id": "2333109b-f649-4ed6-a61c-4505134c86da",
   "metadata": {
    "tags": []
   },
   "outputs": [],
   "source": [
    "# total_df = total_df[['match_id', 'run', 'wicket', 'rr']]\n",
    "# total_df.head()"
   ]
  },
  {
   "cell_type": "code",
   "execution_count": 17,
   "id": "474da8bc-88c3-48ff-a1ca-b55a735af832",
   "metadata": {
    "tags": []
   },
   "outputs": [],
   "source": [
    "# total_df.to_csv(\"total_2023_batting.csv\", index = False)"
   ]
  },
  {
   "cell_type": "markdown",
   "id": "110ed4ff-cd89-4c55-b71c-548362a806e0",
   "metadata": {},
   "source": [
    "- "
   ]
  },
  {
   "cell_type": "code",
   "execution_count": 15,
   "id": "15775757-7906-4626-b48c-a0935598087c",
   "metadata": {
    "tags": []
   },
   "outputs": [
    {
     "data": {
      "text/html": [
       "<div>\n",
       "<style scoped>\n",
       "    .dataframe tbody tr th:only-of-type {\n",
       "        vertical-align: middle;\n",
       "    }\n",
       "\n",
       "    .dataframe tbody tr th {\n",
       "        vertical-align: top;\n",
       "    }\n",
       "\n",
       "    .dataframe thead th {\n",
       "        text-align: right;\n",
       "    }\n",
       "</style>\n",
       "<table border=\"1\" class=\"dataframe\">\n",
       "  <thead>\n",
       "    <tr style=\"text-align: right;\">\n",
       "      <th></th>\n",
       "      <th>batsman</th>\n",
       "      <th>out</th>\n",
       "      <th>run</th>\n",
       "      <th>ball</th>\n",
       "      <th>minutes</th>\n",
       "      <th>4s</th>\n",
       "      <th>6s</th>\n",
       "      <th>sr</th>\n",
       "      <th>match_id</th>\n",
       "      <th>batting_position</th>\n",
       "    </tr>\n",
       "  </thead>\n",
       "  <tbody>\n",
       "    <tr>\n",
       "      <th>0</th>\n",
       "      <td>Wriddhiman Saha †</td>\n",
       "      <td>c †Dhoni b Chahar</td>\n",
       "      <td>54</td>\n",
       "      <td>39.0</td>\n",
       "      <td>63</td>\n",
       "      <td>5.0</td>\n",
       "      <td>1.0</td>\n",
       "      <td>138.46</td>\n",
       "      <td>1370353</td>\n",
       "      <td>1</td>\n",
       "    </tr>\n",
       "    <tr>\n",
       "      <th>1</th>\n",
       "      <td>Shubman Gill</td>\n",
       "      <td>st †Dhoni b Jadeja</td>\n",
       "      <td>39</td>\n",
       "      <td>20.0</td>\n",
       "      <td>34</td>\n",
       "      <td>7.0</td>\n",
       "      <td>0.0</td>\n",
       "      <td>195.00</td>\n",
       "      <td>1370353</td>\n",
       "      <td>2</td>\n",
       "    </tr>\n",
       "    <tr>\n",
       "      <th>2</th>\n",
       "      <td>Sai Sudharsan</td>\n",
       "      <td>lbw b Pathirana</td>\n",
       "      <td>96</td>\n",
       "      <td>47.0</td>\n",
       "      <td>58</td>\n",
       "      <td>8.0</td>\n",
       "      <td>6.0</td>\n",
       "      <td>204.25</td>\n",
       "      <td>1370353</td>\n",
       "      <td>3</td>\n",
       "    </tr>\n",
       "    <tr>\n",
       "      <th>3</th>\n",
       "      <td>Hardik Pandya (c)</td>\n",
       "      <td>not out</td>\n",
       "      <td>21</td>\n",
       "      <td>12.0</td>\n",
       "      <td>32</td>\n",
       "      <td>0.0</td>\n",
       "      <td>2.0</td>\n",
       "      <td>175.00</td>\n",
       "      <td>1370353</td>\n",
       "      <td>4</td>\n",
       "    </tr>\n",
       "    <tr>\n",
       "      <th>4</th>\n",
       "      <td>Rashid Khan</td>\n",
       "      <td>c Gaikwad b Pathirana</td>\n",
       "      <td>0</td>\n",
       "      <td>2.0</td>\n",
       "      <td>2</td>\n",
       "      <td>0.0</td>\n",
       "      <td>0.0</td>\n",
       "      <td>0.00</td>\n",
       "      <td>1370353</td>\n",
       "      <td>5</td>\n",
       "    </tr>\n",
       "    <tr>\n",
       "      <th>7</th>\n",
       "      <td>Wriddhiman Saha †</td>\n",
       "      <td>st †Ishan Kishan b Chawla</td>\n",
       "      <td>18</td>\n",
       "      <td>16.0</td>\n",
       "      <td>31</td>\n",
       "      <td>3.0</td>\n",
       "      <td>0.0</td>\n",
       "      <td>112.50</td>\n",
       "      <td>1370352</td>\n",
       "      <td>1</td>\n",
       "    </tr>\n",
       "    <tr>\n",
       "      <th>8</th>\n",
       "      <td>Shubman Gill</td>\n",
       "      <td>c David b Madhwal</td>\n",
       "      <td>129</td>\n",
       "      <td>60.0</td>\n",
       "      <td>86</td>\n",
       "      <td>7.0</td>\n",
       "      <td>10.0</td>\n",
       "      <td>215.00</td>\n",
       "      <td>1370352</td>\n",
       "      <td>2</td>\n",
       "    </tr>\n",
       "  </tbody>\n",
       "</table>\n",
       "</div>"
      ],
      "text/plain": [
       "             batsman                        out  run  ball minutes   4s    6s  \\\n",
       "0  Wriddhiman Saha †          c †Dhoni b Chahar   54  39.0      63  5.0   1.0   \n",
       "1      Shubman Gill          st †Dhoni b Jadeja   39  20.0      34  7.0   0.0   \n",
       "2     Sai Sudharsan             lbw b Pathirana   96  47.0      58  8.0   6.0   \n",
       "3  Hardik Pandya (c)                   not out    21  12.0      32  0.0   2.0   \n",
       "4       Rashid Khan       c Gaikwad b Pathirana    0   2.0       2  0.0   0.0   \n",
       "7  Wriddhiman Saha †  st †Ishan Kishan b Chawla   18  16.0      31  3.0   0.0   \n",
       "8      Shubman Gill           c David b Madhwal  129  60.0      86  7.0  10.0   \n",
       "\n",
       "       sr  match_id  batting_position  \n",
       "0  138.46   1370353                 1  \n",
       "1  195.00   1370353                 2  \n",
       "2  204.25   1370353                 3  \n",
       "3  175.00   1370353                 4  \n",
       "4    0.00   1370353                 5  \n",
       "7  112.50   1370352                 1  \n",
       "8  215.00   1370352                 2  "
      ]
     },
     "execution_count": 15,
     "metadata": {},
     "output_type": "execute_result"
    }
   ],
   "source": [
    "batsman_df = batting_df.query(\"batsman not in  ['Extras', 'TOTAL']\")\n",
    "batsman_df.head(7)"
   ]
  },
  {
   "cell_type": "code",
   "execution_count": 16,
   "id": "1fb8a620-c427-43ad-97dc-e19453d979d2",
   "metadata": {
    "tags": []
   },
   "outputs": [
    {
     "data": {
      "text/plain": [
       "array([ 1,  2,  3,  4,  5,  6,  7,  8,  9, 10, 11], dtype=int64)"
      ]
     },
     "execution_count": 16,
     "metadata": {},
     "output_type": "execute_result"
    }
   ],
   "source": [
    "batsman_df.batting_position.unique()"
   ]
  },
  {
   "cell_type": "code",
   "execution_count": 19,
   "id": "eab9d343-0efd-40f4-ab30-64c582be070f",
   "metadata": {
    "tags": []
   },
   "outputs": [
    {
     "name": "stderr",
     "output_type": "stream",
     "text": [
      "C:\\Users\\Mukesh\\AppData\\Local\\Temp\\ipykernel_13352\\245044437.py:1: SettingWithCopyWarning: \n",
      "A value is trying to be set on a copy of a slice from a DataFrame.\n",
      "Try using .loc[row_indexer,col_indexer] = value instead\n",
      "\n",
      "See the caveats in the documentation: https://pandas.pydata.org/pandas-docs/stable/user_guide/indexing.html#returning-a-view-versus-a-copy\n",
      "  batsman_df.out = batsman_df.out.apply(lambda x: x.replace(\"†\", \"\"))\n",
      "C:\\Users\\Mukesh\\AppData\\Local\\Temp\\ipykernel_13352\\245044437.py:2: SettingWithCopyWarning: \n",
      "A value is trying to be set on a copy of a slice from a DataFrame.\n",
      "Try using .loc[row_indexer,col_indexer] = value instead\n",
      "\n",
      "See the caveats in the documentation: https://pandas.pydata.org/pandas-docs/stable/user_guide/indexing.html#returning-a-view-versus-a-copy\n",
      "  batsman_df.batsman = batsman_df.batsman.apply(lambda x: \\\n"
     ]
    }
   ],
   "source": [
    "batsman_df.out = batsman_df.out.apply(lambda x: x.replace(\"†\", \"\"))\n",
    "batsman_df.batsman = batsman_df.batsman.apply(lambda x: \\\n",
    "                                              str(x).replace(\"†\", \"\").rstrip(\" \\(c\\)\").rstrip())"
   ]
  },
  {
   "cell_type": "code",
   "execution_count": 21,
   "id": "ef0854db-9b78-4226-a888-2c56d9c81d00",
   "metadata": {
    "tags": []
   },
   "outputs": [
    {
     "name": "stderr",
     "output_type": "stream",
     "text": [
      "C:\\Users\\Mukesh\\AppData\\Local\\Temp\\ipykernel_13352\\4109528800.py:1: SettingWithCopyWarning: \n",
      "A value is trying to be set on a copy of a slice from a DataFrame.\n",
      "Try using .loc[row_indexer,col_indexer] = value instead\n",
      "\n",
      "See the caveats in the documentation: https://pandas.pydata.org/pandas-docs/stable/user_guide/indexing.html#returning-a-view-versus-a-copy\n",
      "  batsman_df['dismissed'] = batsman_df.out.apply(lambda x: 0 if str(x).strip() == 'not out' else 1)\n"
     ]
    },
    {
     "data": {
      "text/html": [
       "<div>\n",
       "<style scoped>\n",
       "    .dataframe tbody tr th:only-of-type {\n",
       "        vertical-align: middle;\n",
       "    }\n",
       "\n",
       "    .dataframe tbody tr th {\n",
       "        vertical-align: top;\n",
       "    }\n",
       "\n",
       "    .dataframe thead th {\n",
       "        text-align: right;\n",
       "    }\n",
       "</style>\n",
       "<table border=\"1\" class=\"dataframe\">\n",
       "  <thead>\n",
       "    <tr style=\"text-align: right;\">\n",
       "      <th></th>\n",
       "      <th>batsman</th>\n",
       "      <th>out</th>\n",
       "      <th>run</th>\n",
       "      <th>ball</th>\n",
       "      <th>minutes</th>\n",
       "      <th>4s</th>\n",
       "      <th>6s</th>\n",
       "      <th>sr</th>\n",
       "      <th>match_id</th>\n",
       "      <th>batting_position</th>\n",
       "      <th>dismissed</th>\n",
       "    </tr>\n",
       "  </thead>\n",
       "  <tbody>\n",
       "    <tr>\n",
       "      <th>0</th>\n",
       "      <td>Wriddhiman Saha</td>\n",
       "      <td>c Dhoni b Chahar</td>\n",
       "      <td>54</td>\n",
       "      <td>39.0</td>\n",
       "      <td>63</td>\n",
       "      <td>5.0</td>\n",
       "      <td>1.0</td>\n",
       "      <td>138.46</td>\n",
       "      <td>1370353</td>\n",
       "      <td>1</td>\n",
       "      <td>1</td>\n",
       "    </tr>\n",
       "    <tr>\n",
       "      <th>1</th>\n",
       "      <td>Shubman Gill</td>\n",
       "      <td>st Dhoni b Jadeja</td>\n",
       "      <td>39</td>\n",
       "      <td>20.0</td>\n",
       "      <td>34</td>\n",
       "      <td>7.0</td>\n",
       "      <td>0.0</td>\n",
       "      <td>195.00</td>\n",
       "      <td>1370353</td>\n",
       "      <td>2</td>\n",
       "      <td>1</td>\n",
       "    </tr>\n",
       "    <tr>\n",
       "      <th>2</th>\n",
       "      <td>Sai Sudharsan</td>\n",
       "      <td>lbw b Pathirana</td>\n",
       "      <td>96</td>\n",
       "      <td>47.0</td>\n",
       "      <td>58</td>\n",
       "      <td>8.0</td>\n",
       "      <td>6.0</td>\n",
       "      <td>204.25</td>\n",
       "      <td>1370353</td>\n",
       "      <td>3</td>\n",
       "      <td>1</td>\n",
       "    </tr>\n",
       "    <tr>\n",
       "      <th>3</th>\n",
       "      <td>Hardik Pandya</td>\n",
       "      <td>not out</td>\n",
       "      <td>21</td>\n",
       "      <td>12.0</td>\n",
       "      <td>32</td>\n",
       "      <td>0.0</td>\n",
       "      <td>2.0</td>\n",
       "      <td>175.00</td>\n",
       "      <td>1370353</td>\n",
       "      <td>4</td>\n",
       "      <td>0</td>\n",
       "    </tr>\n",
       "    <tr>\n",
       "      <th>4</th>\n",
       "      <td>Rashid Khan</td>\n",
       "      <td>c Gaikwad b Pathirana</td>\n",
       "      <td>0</td>\n",
       "      <td>2.0</td>\n",
       "      <td>2</td>\n",
       "      <td>0.0</td>\n",
       "      <td>0.0</td>\n",
       "      <td>0.00</td>\n",
       "      <td>1370353</td>\n",
       "      <td>5</td>\n",
       "      <td>1</td>\n",
       "    </tr>\n",
       "  </tbody>\n",
       "</table>\n",
       "</div>"
      ],
      "text/plain": [
       "           batsman                    out run  ball minutes   4s   6s      sr  \\\n",
       "0  Wriddhiman Saha       c Dhoni b Chahar  54  39.0      63  5.0  1.0  138.46   \n",
       "1     Shubman Gill      st Dhoni b Jadeja  39  20.0      34  7.0  0.0  195.00   \n",
       "2    Sai Sudharsan        lbw b Pathirana  96  47.0      58  8.0  6.0  204.25   \n",
       "3    Hardik Pandya               not out   21  12.0      32  0.0  2.0  175.00   \n",
       "4      Rashid Khan  c Gaikwad b Pathirana   0   2.0       2  0.0  0.0    0.00   \n",
       "\n",
       "   match_id  batting_position  dismissed  \n",
       "0   1370353                 1          1  \n",
       "1   1370353                 2          1  \n",
       "2   1370353                 3          1  \n",
       "3   1370353                 4          0  \n",
       "4   1370353                 5          1  "
      ]
     },
     "execution_count": 21,
     "metadata": {},
     "output_type": "execute_result"
    }
   ],
   "source": [
    "batsman_df['dismissed'] = batsman_df.out.apply(lambda x: 0 if str(x).strip() == 'not out' else 1)\n",
    "batsman_df.head(5)"
   ]
  },
  {
   "cell_type": "code",
   "execution_count": 22,
   "id": "6b3f9c54-af03-41f6-bd44-124fe538b39f",
   "metadata": {
    "tags": []
   },
   "outputs": [],
   "source": [
    "batsman_df.to_csv('batting.csv', index = False)"
   ]
  },
  {
   "cell_type": "code",
   "execution_count": 24,
   "id": "7e7a33b9-da96-4478-9ecb-ef955dc96afb",
   "metadata": {
    "tags": []
   },
   "outputs": [],
   "source": [
    "# batsman_df['run'] = pd.to_numeric(batsman_df.run)\n",
    "# batsman_df['minutes'] = pd.to_numeric(batsman_df['minutes'])\n",
    "# batsman_df['minutes'] = batsman_df.minutes.astype(int)"
   ]
  },
  {
   "cell_type": "code",
   "execution_count": 10,
   "id": "99625210-6b8f-4249-9125-e5dfb25c6f85",
   "metadata": {
    "tags": []
   },
   "outputs": [],
   "source": [
    "# batsman_df.head()"
   ]
  },
  {
   "cell_type": "code",
   "execution_count": 26,
   "id": "04f9ba06-2625-4346-aa21-9f4330cf704a",
   "metadata": {
    "tags": []
   },
   "outputs": [],
   "source": [
    "# batsman_df.groupby(by=[\"batsman\"]).sum()\n"
   ]
  },
  {
   "cell_type": "code",
   "execution_count": null,
   "id": "27adf4a6-8128-47d9-adf3-0ce501495c90",
   "metadata": {},
   "outputs": [],
   "source": []
  }
 ],
 "metadata": {
  "kernelspec": {
   "display_name": "Python 3 (ipykernel)",
   "language": "python",
   "name": "python3"
  },
  "language_info": {
   "codemirror_mode": {
    "name": "ipython",
    "version": 3
   },
   "file_extension": ".py",
   "mimetype": "text/x-python",
   "name": "python",
   "nbconvert_exporter": "python",
   "pygments_lexer": "ipython3",
   "version": "3.10.10"
  }
 },
 "nbformat": 4,
 "nbformat_minor": 5
}
