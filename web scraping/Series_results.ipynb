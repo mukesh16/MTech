{
 "cells": [
  {
   "cell_type": "markdown",
   "id": "68644170-67f5-4ca7-a20d-8d3896d68e5d",
   "metadata": {},
   "source": [
    "This Notebook is used to demonstrate a Python script that extracts indian-premier-league data from a https://www.espncricinfo.com/ using web scraping techniques. \n",
    "It leverages the requests library to fetch HTML content and BeautifulSoup to parse and extract the desired information.\n",
    "At the end we have download the fetched data as a CSV file.\n",
    "\n",
    "Click [link](https://www.espncricinfo.com/records/trophy/team-series-results/indian-premier-league-117) to visit the source page(Official ESPN)."
   ]
  },
  {
   "cell_type": "code",
   "execution_count": 1,
   "id": "98be7344-9372-4a19-ba2d-a8cd59bb9184",
   "metadata": {
    "tags": []
   },
   "outputs": [],
   "source": [
    "from bs4 import BeautifulSoup\n",
    "import pandas as pd\n",
    "\n",
    "import requests"
   ]
  },
  {
   "cell_type": "code",
   "execution_count": 2,
   "id": "f428bd9f-30de-4bc4-adea-a121dab93b22",
   "metadata": {
    "tags": []
   },
   "outputs": [],
   "source": [
    "# URL of the espncricinfo to scrape\n",
    "url = \"https://www.espncricinfo.com/records/trophy/team-series-results/indian-premier-league-117\"\n",
    "\n",
    "# Send an HTTP GET request to the website\n",
    "response = requests.get(url)\n",
    "\n",
    "# Parse the HTML code using BeautifulSoup\n",
    "soup = BeautifulSoup(response.content, 'html.parser')"
   ]
  },
  {
   "cell_type": "markdown",
   "id": "31f0c068-b259-4cb3-9259-fd1765102488",
   "metadata": {},
   "source": [
    "We have single table in the above url, used thead span to get columns details and table/tbody span to get records."
   ]
  },
  {
   "cell_type": "code",
   "execution_count": 3,
   "id": "9cec67fe-5d2b-4b76-89d5-9f6c5d741693",
   "metadata": {
    "tags": []
   },
   "outputs": [
    {
     "data": {
      "text/plain": [
       "['Series/Tournament', 'Season', 'Winner', 'Margin']"
      ]
     },
     "execution_count": 3,
     "metadata": {},
     "output_type": "execute_result"
    }
   ],
   "source": [
    "# Select headers/columns name of tables\n",
    "column_list = []\n",
    "thead_items = soup.select('thead span')\n",
    "\n",
    "for item in thead_items:\n",
    "    column_list.append(item.get_text())\n",
    "    \n",
    "column_list"
   ]
  },
  {
   "cell_type": "code",
   "execution_count": 4,
   "id": "44ba9f87-685f-430f-9673-3edaf21ef7bd",
   "metadata": {
    "tags": []
   },
   "outputs": [],
   "source": [
    "# Select all list item tags\n",
    "data = []\n",
    "for item in soup.select('tbody tr'):\n",
    "    l = item.select('span')\n",
    "    link = item.find_all('a')\n",
    "    data.append([l[1].get_text(), l[2].get_text(), l[3].get_text(), link[0].get('href')])\n",
    "    # break\n",
    "# data"
   ]
  },
  {
   "cell_type": "code",
   "execution_count": 5,
   "id": "34fd15b4-7c30-4c23-9287-56c8f48eeb9f",
   "metadata": {
    "tags": []
   },
   "outputs": [
    {
     "data": {
      "text/html": [
       "<div>\n",
       "<style scoped>\n",
       "    .dataframe tbody tr th:only-of-type {\n",
       "        vertical-align: middle;\n",
       "    }\n",
       "\n",
       "    .dataframe tbody tr th {\n",
       "        vertical-align: top;\n",
       "    }\n",
       "\n",
       "    .dataframe thead th {\n",
       "        text-align: right;\n",
       "    }\n",
       "</style>\n",
       "<table border=\"1\" class=\"dataframe\">\n",
       "  <thead>\n",
       "    <tr style=\"text-align: right;\">\n",
       "      <th></th>\n",
       "      <th>Series/Tournament</th>\n",
       "      <th>Season</th>\n",
       "      <th>Winner</th>\n",
       "      <th>Margin</th>\n",
       "    </tr>\n",
       "  </thead>\n",
       "  <tbody>\n",
       "    <tr>\n",
       "      <th>0</th>\n",
       "      <td>Indian Premier League (in India)</td>\n",
       "      <td>2007/08</td>\n",
       "      <td>Royals</td>\n",
       "      <td>/series/indian-premier-league-2007-08-313494/m...</td>\n",
       "    </tr>\n",
       "    <tr>\n",
       "      <th>1</th>\n",
       "      <td>Indian Premier League (in South Africa)</td>\n",
       "      <td>2009</td>\n",
       "      <td>Chargers</td>\n",
       "      <td>/series/indian-premier-league-2009-374163/matc...</td>\n",
       "    </tr>\n",
       "    <tr>\n",
       "      <th>2</th>\n",
       "      <td>Indian Premier League (in India)</td>\n",
       "      <td>2009/10</td>\n",
       "      <td>Super Kings</td>\n",
       "      <td>/series/indian-premier-league-2009-10-418064/m...</td>\n",
       "    </tr>\n",
       "    <tr>\n",
       "      <th>3</th>\n",
       "      <td>Indian Premier League (in India)</td>\n",
       "      <td>2011</td>\n",
       "      <td>Super Kings</td>\n",
       "      <td>/series/indian-premier-league-2011-466304/matc...</td>\n",
       "    </tr>\n",
       "    <tr>\n",
       "      <th>4</th>\n",
       "      <td>Indian Premier League (in India)</td>\n",
       "      <td>2012</td>\n",
       "      <td>KKR</td>\n",
       "      <td>/series/indian-premier-league-2012-520932/matc...</td>\n",
       "    </tr>\n",
       "  </tbody>\n",
       "</table>\n",
       "</div>"
      ],
      "text/plain": [
       "                         Series/Tournament   Season       Winner  \\\n",
       "0         Indian Premier League (in India)  2007/08       Royals   \n",
       "1  Indian Premier League (in South Africa)     2009     Chargers   \n",
       "2         Indian Premier League (in India)  2009/10  Super Kings   \n",
       "3         Indian Premier League (in India)     2011  Super Kings   \n",
       "4         Indian Premier League (in India)     2012          KKR   \n",
       "\n",
       "                                              Margin  \n",
       "0  /series/indian-premier-league-2007-08-313494/m...  \n",
       "1  /series/indian-premier-league-2009-374163/matc...  \n",
       "2  /series/indian-premier-league-2009-10-418064/m...  \n",
       "3  /series/indian-premier-league-2011-466304/matc...  \n",
       "4  /series/indian-premier-league-2012-520932/matc...  "
      ]
     },
     "execution_count": 5,
     "metadata": {},
     "output_type": "execute_result"
    }
   ],
   "source": [
    "series_results = pd.DataFrame(data, columns=column_list)\n",
    "series_results.head()"
   ]
  },
  {
   "cell_type": "markdown",
   "id": "04bcf8cc-7ea0-45a5-ba13-9bd78fb85f3b",
   "metadata": {},
   "source": [
    "There are some conflict in column:Season which is indicating the Year and column:Series/Tournament has basically shows the place where the match was played. "
   ]
  },
  {
   "cell_type": "code",
   "execution_count": 6,
   "id": "e06eb6a3-d8c1-4581-a757-9a4e077fe73d",
   "metadata": {
    "tags": []
   },
   "outputs": [
    {
     "data": {
      "text/html": [
       "<div>\n",
       "<style scoped>\n",
       "    .dataframe tbody tr th:only-of-type {\n",
       "        vertical-align: middle;\n",
       "    }\n",
       "\n",
       "    .dataframe tbody tr th {\n",
       "        vertical-align: top;\n",
       "    }\n",
       "\n",
       "    .dataframe thead th {\n",
       "        text-align: right;\n",
       "    }\n",
       "</style>\n",
       "<table border=\"1\" class=\"dataframe\">\n",
       "  <thead>\n",
       "    <tr style=\"text-align: right;\">\n",
       "      <th></th>\n",
       "      <th>country</th>\n",
       "      <th>year</th>\n",
       "      <th>winner</th>\n",
       "      <th>link</th>\n",
       "    </tr>\n",
       "  </thead>\n",
       "  <tbody>\n",
       "    <tr>\n",
       "      <th>0</th>\n",
       "      <td>Indian Premier League (in India)</td>\n",
       "      <td>2007/08</td>\n",
       "      <td>Royals</td>\n",
       "      <td>/series/indian-premier-league-2007-08-313494/m...</td>\n",
       "    </tr>\n",
       "    <tr>\n",
       "      <th>1</th>\n",
       "      <td>Indian Premier League (in South Africa)</td>\n",
       "      <td>2009</td>\n",
       "      <td>Chargers</td>\n",
       "      <td>/series/indian-premier-league-2009-374163/matc...</td>\n",
       "    </tr>\n",
       "    <tr>\n",
       "      <th>2</th>\n",
       "      <td>Indian Premier League (in India)</td>\n",
       "      <td>2009/10</td>\n",
       "      <td>Super Kings</td>\n",
       "      <td>/series/indian-premier-league-2009-10-418064/m...</td>\n",
       "    </tr>\n",
       "    <tr>\n",
       "      <th>3</th>\n",
       "      <td>Indian Premier League (in India)</td>\n",
       "      <td>2011</td>\n",
       "      <td>Super Kings</td>\n",
       "      <td>/series/indian-premier-league-2011-466304/matc...</td>\n",
       "    </tr>\n",
       "    <tr>\n",
       "      <th>4</th>\n",
       "      <td>Indian Premier League (in India)</td>\n",
       "      <td>2012</td>\n",
       "      <td>KKR</td>\n",
       "      <td>/series/indian-premier-league-2012-520932/matc...</td>\n",
       "    </tr>\n",
       "  </tbody>\n",
       "</table>\n",
       "</div>"
      ],
      "text/plain": [
       "                                   country     year       winner  \\\n",
       "0         Indian Premier League (in India)  2007/08       Royals   \n",
       "1  Indian Premier League (in South Africa)     2009     Chargers   \n",
       "2         Indian Premier League (in India)  2009/10  Super Kings   \n",
       "3         Indian Premier League (in India)     2011  Super Kings   \n",
       "4         Indian Premier League (in India)     2012          KKR   \n",
       "\n",
       "                                                link  \n",
       "0  /series/indian-premier-league-2007-08-313494/m...  \n",
       "1  /series/indian-premier-league-2009-374163/matc...  \n",
       "2  /series/indian-premier-league-2009-10-418064/m...  \n",
       "3  /series/indian-premier-league-2011-466304/matc...  \n",
       "4  /series/indian-premier-league-2012-520932/matc...  "
      ]
     },
     "execution_count": 6,
     "metadata": {},
     "output_type": "execute_result"
    }
   ],
   "source": [
    "# Rename columns\n",
    "series_results.columns = ['country', 'year', 'winner', 'link']\n",
    "series_results.head()"
   ]
  },
  {
   "cell_type": "markdown",
   "id": "bcf5b551-cbc5-4949-a823-5a448b4c1be5",
   "metadata": {},
   "source": [
    "some pre-processing steps:\n",
    "- extract only place name in country column.\n",
    "- Place correct year name in year column."
   ]
  },
  {
   "cell_type": "code",
   "execution_count": 7,
   "id": "3c7ee8e8-cea8-468d-9820-76ec454155cc",
   "metadata": {
    "tags": []
   },
   "outputs": [],
   "source": [
    "series_results.country = series_results.country.apply(lambda country: \\\n",
    "                                                      country.replace('(','/').replace(')','/').split('/')[-2])\n",
    "series_results.country = series_results.country.apply(lambda country: country.replace('in', '').strip())"
   ]
  },
  {
   "cell_type": "code",
   "execution_count": 8,
   "id": "b4dc635a-1676-41d9-9df0-c3f43b63fba8",
   "metadata": {
    "tags": []
   },
   "outputs": [
    {
     "data": {
      "text/html": [
       "<div>\n",
       "<style scoped>\n",
       "    .dataframe tbody tr th:only-of-type {\n",
       "        vertical-align: middle;\n",
       "    }\n",
       "\n",
       "    .dataframe tbody tr th {\n",
       "        vertical-align: top;\n",
       "    }\n",
       "\n",
       "    .dataframe thead th {\n",
       "        text-align: right;\n",
       "    }\n",
       "</style>\n",
       "<table border=\"1\" class=\"dataframe\">\n",
       "  <thead>\n",
       "    <tr style=\"text-align: right;\">\n",
       "      <th></th>\n",
       "      <th>country</th>\n",
       "      <th>year</th>\n",
       "      <th>winner</th>\n",
       "      <th>link</th>\n",
       "    </tr>\n",
       "  </thead>\n",
       "  <tbody>\n",
       "    <tr>\n",
       "      <th>0</th>\n",
       "      <td>India</td>\n",
       "      <td>2008</td>\n",
       "      <td>Royals</td>\n",
       "      <td>/series/indian-premier-league-2007-08-313494/m...</td>\n",
       "    </tr>\n",
       "    <tr>\n",
       "      <th>1</th>\n",
       "      <td>South Africa</td>\n",
       "      <td>2009</td>\n",
       "      <td>Chargers</td>\n",
       "      <td>/series/indian-premier-league-2009-374163/matc...</td>\n",
       "    </tr>\n",
       "    <tr>\n",
       "      <th>2</th>\n",
       "      <td>India</td>\n",
       "      <td>2010</td>\n",
       "      <td>Super Kings</td>\n",
       "      <td>/series/indian-premier-league-2009-10-418064/m...</td>\n",
       "    </tr>\n",
       "    <tr>\n",
       "      <th>3</th>\n",
       "      <td>India</td>\n",
       "      <td>2011</td>\n",
       "      <td>Super Kings</td>\n",
       "      <td>/series/indian-premier-league-2011-466304/matc...</td>\n",
       "    </tr>\n",
       "    <tr>\n",
       "      <th>4</th>\n",
       "      <td>India</td>\n",
       "      <td>2012</td>\n",
       "      <td>KKR</td>\n",
       "      <td>/series/indian-premier-league-2012-520932/matc...</td>\n",
       "    </tr>\n",
       "    <tr>\n",
       "      <th>5</th>\n",
       "      <td>India</td>\n",
       "      <td>2013</td>\n",
       "      <td>Mumbai</td>\n",
       "      <td>/series/indian-premier-league-2013-586733/matc...</td>\n",
       "    </tr>\n",
       "    <tr>\n",
       "      <th>6</th>\n",
       "      <td>United Arab Emirates</td>\n",
       "      <td>2014</td>\n",
       "      <td>KKR</td>\n",
       "      <td>/series/pepsi-indian-premier-league-2014-69587...</td>\n",
       "    </tr>\n",
       "    <tr>\n",
       "      <th>7</th>\n",
       "      <td>India</td>\n",
       "      <td>2015</td>\n",
       "      <td>Mumbai</td>\n",
       "      <td>/series/pepsi-indian-premier-league-2015-79112...</td>\n",
       "    </tr>\n",
       "    <tr>\n",
       "      <th>8</th>\n",
       "      <td>India</td>\n",
       "      <td>2016</td>\n",
       "      <td>Sunrisers</td>\n",
       "      <td>/series/ipl-2016-968923/match-schedule-fixture...</td>\n",
       "    </tr>\n",
       "    <tr>\n",
       "      <th>9</th>\n",
       "      <td>India</td>\n",
       "      <td>2017</td>\n",
       "      <td>Mumbai</td>\n",
       "      <td>/series/ipl-2017-1078425/match-schedule-fixtur...</td>\n",
       "    </tr>\n",
       "    <tr>\n",
       "      <th>10</th>\n",
       "      <td>India</td>\n",
       "      <td>2018</td>\n",
       "      <td>Super Kings</td>\n",
       "      <td>/series/ipl-2018-1131611/match-schedule-fixtur...</td>\n",
       "    </tr>\n",
       "    <tr>\n",
       "      <th>11</th>\n",
       "      <td>India</td>\n",
       "      <td>2019</td>\n",
       "      <td>Mumbai</td>\n",
       "      <td>/series/ipl-2019-1165643/match-schedule-fixtur...</td>\n",
       "    </tr>\n",
       "    <tr>\n",
       "      <th>12</th>\n",
       "      <td>United Arab Emirates</td>\n",
       "      <td>2020</td>\n",
       "      <td>Mumbai</td>\n",
       "      <td>/series/ipl-2020-21-1210595/match-schedule-fix...</td>\n",
       "    </tr>\n",
       "    <tr>\n",
       "      <th>13</th>\n",
       "      <td>United Arab Emirates</td>\n",
       "      <td>2021</td>\n",
       "      <td>Super Kings</td>\n",
       "      <td>/series/ipl-2021-1249214/match-schedule-fixtur...</td>\n",
       "    </tr>\n",
       "    <tr>\n",
       "      <th>14</th>\n",
       "      <td>India</td>\n",
       "      <td>2022</td>\n",
       "      <td>Titans</td>\n",
       "      <td>/series/indian-premier-league-2022-1298423/mat...</td>\n",
       "    </tr>\n",
       "    <tr>\n",
       "      <th>15</th>\n",
       "      <td>India</td>\n",
       "      <td>2023</td>\n",
       "      <td>Super Kings</td>\n",
       "      <td>/series/indian-premier-league-2023-1345038/mat...</td>\n",
       "    </tr>\n",
       "  </tbody>\n",
       "</table>\n",
       "</div>"
      ],
      "text/plain": [
       "                 country  year       winner  \\\n",
       "0                  India  2008       Royals   \n",
       "1           South Africa  2009     Chargers   \n",
       "2                  India  2010  Super Kings   \n",
       "3                  India  2011  Super Kings   \n",
       "4                  India  2012          KKR   \n",
       "5                  India  2013       Mumbai   \n",
       "6   United Arab Emirates  2014          KKR   \n",
       "7                  India  2015       Mumbai   \n",
       "8                  India  2016    Sunrisers   \n",
       "9                  India  2017       Mumbai   \n",
       "10                 India  2018  Super Kings   \n",
       "11                 India  2019       Mumbai   \n",
       "12  United Arab Emirates  2020       Mumbai   \n",
       "13  United Arab Emirates  2021  Super Kings   \n",
       "14                 India  2022       Titans   \n",
       "15                 India  2023  Super Kings   \n",
       "\n",
       "                                                 link  \n",
       "0   /series/indian-premier-league-2007-08-313494/m...  \n",
       "1   /series/indian-premier-league-2009-374163/matc...  \n",
       "2   /series/indian-premier-league-2009-10-418064/m...  \n",
       "3   /series/indian-premier-league-2011-466304/matc...  \n",
       "4   /series/indian-premier-league-2012-520932/matc...  \n",
       "5   /series/indian-premier-league-2013-586733/matc...  \n",
       "6   /series/pepsi-indian-premier-league-2014-69587...  \n",
       "7   /series/pepsi-indian-premier-league-2015-79112...  \n",
       "8   /series/ipl-2016-968923/match-schedule-fixture...  \n",
       "9   /series/ipl-2017-1078425/match-schedule-fixtur...  \n",
       "10  /series/ipl-2018-1131611/match-schedule-fixtur...  \n",
       "11  /series/ipl-2019-1165643/match-schedule-fixtur...  \n",
       "12  /series/ipl-2020-21-1210595/match-schedule-fix...  \n",
       "13  /series/ipl-2021-1249214/match-schedule-fixtur...  \n",
       "14  /series/indian-premier-league-2022-1298423/mat...  \n",
       "15  /series/indian-premier-league-2023-1345038/mat...  "
      ]
     },
     "execution_count": 8,
     "metadata": {},
     "output_type": "execute_result"
    }
   ],
   "source": [
    "year_list = series_results.year.tolist()\n",
    "len_list = len(year_list)\n",
    "\n",
    "for i in range(len_list):\n",
    "    if year_list[i].find('/') != -1:\n",
    "        if i == 0 and i != len_list-1:\n",
    "            year_list[i] = str(int(year_list[i+1])-1)\n",
    "        elif i != 0 and i == len_list-1 :\n",
    "            year_list[i] = str(int(year_list[i-1])+1)\n",
    "        else :\n",
    "            year_list[i] = str(int(year_list[i-1])+1)\n",
    "            \n",
    "series_results.year = year_list\n",
    "series_results"
   ]
  },
  {
   "cell_type": "code",
   "execution_count": 9,
   "id": "e91d2716-c2c9-43ee-aee2-506cf894cbed",
   "metadata": {
    "tags": []
   },
   "outputs": [
    {
     "data": {
      "text/plain": [
       "Super Kings    5\n",
       "Mumbai         5\n",
       "KKR            2\n",
       "Royals         1\n",
       "Chargers       1\n",
       "Sunrisers      1\n",
       "Titans         1\n",
       "Name: winner, dtype: int64"
      ]
     },
     "execution_count": 9,
     "metadata": {},
     "output_type": "execute_result"
    }
   ],
   "source": [
    "series_results.winner.value_counts()"
   ]
  },
  {
   "cell_type": "code",
   "execution_count": 10,
   "id": "3464f71f-4b16-4293-bed5-259274ce4e22",
   "metadata": {
    "tags": []
   },
   "outputs": [
    {
     "name": "stdout",
     "output_type": "stream",
     "text": [
      "ipl_series_results.csv downloaded !!!\n"
     ]
    }
   ],
   "source": [
    "series_results.to_csv(\"ipl_series_results.csv\", index=False)\n",
    "print(\"ipl_series_results.csv downloaded !!!\")"
   ]
  }
 ],
 "metadata": {
  "kernelspec": {
   "display_name": "Python 3 (ipykernel)",
   "language": "python",
   "name": "python3"
  },
  "language_info": {
   "codemirror_mode": {
    "name": "ipython",
    "version": 3
   },
   "file_extension": ".py",
   "mimetype": "text/x-python",
   "name": "python",
   "nbconvert_exporter": "python",
   "pygments_lexer": "ipython3",
   "version": "3.10.10"
  }
 },
 "nbformat": 4,
 "nbformat_minor": 5
}
