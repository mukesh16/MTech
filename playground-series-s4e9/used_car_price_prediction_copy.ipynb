{
 "cells": [
  {
   "cell_type": "code",
   "execution_count": 1,
   "id": "9b4e0f19",
   "metadata": {
    "execution": {
     "iopub.execute_input": "2024-09-13T06:53:50.546379Z",
     "iopub.status.busy": "2024-09-13T06:53:50.545291Z",
     "iopub.status.idle": "2024-09-13T06:54:01.056777Z",
     "shell.execute_reply": "2024-09-13T06:54:01.055413Z"
    },
    "papermill": {
     "duration": 10.526869,
     "end_time": "2024-09-13T06:54:01.060080",
     "exception": false,
     "start_time": "2024-09-13T06:53:50.533211",
     "status": "completed"
    },
    "tags": []
   },
   "outputs": [],
   "source": [
    "import numpy as np\n",
    "import pandas as pd\n",
    "from datetime import datetime\n",
    "\n",
    "from xgboost import XGBRegressor\n",
    "from sklearn.impute import SimpleImputer\n",
    "from sklearn.metrics import mean_squared_error\n",
    "from sklearn.preprocessing import OrdinalEncoder\n",
    "\n",
    "from sklearn.ensemble import RandomForestRegressor\n",
    "from sklearn.model_selection import train_test_split, GridSearchCV"
   ]
  },
  {
   "cell_type": "code",
   "execution_count": 2,
   "id": "2bf57986",
   "metadata": {
    "execution": {
     "iopub.execute_input": "2024-09-13T06:54:01.080943Z",
     "iopub.status.busy": "2024-09-13T06:54:01.080090Z",
     "iopub.status.idle": "2024-09-13T06:54:02.351407Z",
     "shell.execute_reply": "2024-09-13T06:54:02.349985Z"
    },
    "papermill": {
     "duration": 1.284929,
     "end_time": "2024-09-13T06:54:02.354445",
     "exception": false,
     "start_time": "2024-09-13T06:54:01.069516",
     "status": "completed"
    },
    "tags": []
   },
   "outputs": [],
   "source": [
    "df_train = pd.read_csv('train.csv').drop(['id'],axis=1)\n",
    "df_test = pd.read_csv('test.csv').drop(['id'],axis=1)\n",
    "df_sub = pd.read_csv('sample_submission.csv')"
   ]
  },
  {
   "cell_type": "code",
   "execution_count": 3,
   "id": "8f0553c7",
   "metadata": {
    "execution": {
     "iopub.execute_input": "2024-09-13T06:54:02.373772Z",
     "iopub.status.busy": "2024-09-13T06:54:02.373284Z",
     "iopub.status.idle": "2024-09-13T06:54:02.407671Z",
     "shell.execute_reply": "2024-09-13T06:54:02.406401Z"
    },
    "papermill": {
     "duration": 0.04771,
     "end_time": "2024-09-13T06:54:02.410884",
     "exception": false,
     "start_time": "2024-09-13T06:54:02.363174",
     "status": "completed"
    },
    "tags": []
   },
   "outputs": [],
   "source": [
    "# df_train.head()"
   ]
  },
  {
   "cell_type": "code",
   "execution_count": 4,
   "id": "17b1821c",
   "metadata": {
    "execution": {
     "iopub.execute_input": "2024-09-13T06:54:02.503397Z",
     "iopub.status.busy": "2024-09-13T06:54:02.502946Z",
     "iopub.status.idle": "2024-09-13T06:54:02.520282Z",
     "shell.execute_reply": "2024-09-13T06:54:02.519002Z"
    },
    "papermill": {
     "duration": 0.030189,
     "end_time": "2024-09-13T06:54:02.522586",
     "exception": false,
     "start_time": "2024-09-13T06:54:02.492397",
     "status": "completed"
    },
    "tags": []
   },
   "outputs": [],
   "source": [
    "# df_test.head()"
   ]
  },
  {
   "cell_type": "code",
   "execution_count": 5,
   "id": "f0683564",
   "metadata": {
    "execution": {
     "iopub.execute_input": "2024-09-13T06:54:02.543602Z",
     "iopub.status.busy": "2024-09-13T06:54:02.542391Z",
     "iopub.status.idle": "2024-09-13T06:54:02.646748Z",
     "shell.execute_reply": "2024-09-13T06:54:02.645607Z"
    },
    "papermill": {
     "duration": 0.117601,
     "end_time": "2024-09-13T06:54:02.649505",
     "exception": false,
     "start_time": "2024-09-13T06:54:02.531904",
     "status": "completed"
    },
    "tags": []
   },
   "outputs": [
    {
     "data": {
      "text/plain": [
       "brand               0\n",
       "model               0\n",
       "model_year          0\n",
       "milage              0\n",
       "fuel_type        5083\n",
       "engine              0\n",
       "transmission        0\n",
       "ext_col             0\n",
       "int_col             0\n",
       "accident         2452\n",
       "clean_title     21419\n",
       "price               0\n",
       "dtype: int64"
      ]
     },
     "execution_count": 5,
     "metadata": {},
     "output_type": "execute_result"
    }
   ],
   "source": [
    "df_train.isnull().sum()"
   ]
  },
  {
   "cell_type": "code",
   "execution_count": 6,
   "id": "8a671f02",
   "metadata": {
    "execution": {
     "iopub.execute_input": "2024-09-13T06:54:02.671361Z",
     "iopub.status.busy": "2024-09-13T06:54:02.670149Z",
     "iopub.status.idle": "2024-09-13T06:54:02.743915Z",
     "shell.execute_reply": "2024-09-13T06:54:02.742722Z"
    },
    "papermill": {
     "duration": 0.087964,
     "end_time": "2024-09-13T06:54:02.746745",
     "exception": false,
     "start_time": "2024-09-13T06:54:02.658781",
     "status": "completed"
    },
    "tags": []
   },
   "outputs": [
    {
     "data": {
      "text/plain": [
       "brand               0\n",
       "model               0\n",
       "model_year          0\n",
       "milage              0\n",
       "fuel_type        3383\n",
       "engine              0\n",
       "transmission        0\n",
       "ext_col             0\n",
       "int_col             0\n",
       "accident         1632\n",
       "clean_title     14239\n",
       "dtype: int64"
      ]
     },
     "execution_count": 6,
     "metadata": {},
     "output_type": "execute_result"
    }
   ],
   "source": [
    "df_test.isnull().sum()"
   ]
  },
  {
   "cell_type": "code",
   "execution_count": 7,
   "id": "e83eca77",
   "metadata": {
    "execution": {
     "iopub.execute_input": "2024-09-13T06:54:02.768398Z",
     "iopub.status.busy": "2024-09-13T06:54:02.767963Z",
     "iopub.status.idle": "2024-09-13T06:54:06.886973Z",
     "shell.execute_reply": "2024-09-13T06:54:06.885626Z"
    },
    "papermill": {
     "duration": 4.132735,
     "end_time": "2024-09-13T06:54:06.889951",
     "exception": false,
     "start_time": "2024-09-13T06:54:02.757216",
     "status": "completed"
    },
    "tags": []
   },
   "outputs": [],
   "source": [
    "current_year = datetime.now().year\n",
    "df_train['car_age'] = current_year - df_train['model_year']\n",
    "df_train['mileage_per_year'] = df_train['milage'] / df_train['car_age'].replace(0, 1)\n",
    "df_train['accident_clean_interaction'] = df_train.apply(\n",
    "    lambda x: 'No Accidents & Clean Title' if x['accident'] == 'None reported' and x['clean_title'] == 'Yes' else\n",
    "              'Accident & Clean Title' if x['accident'] != 'None reported' and x['clean_title'] == 'Yes' else\n",
    "              'Accident & No Clean Title',\n",
    "    axis=1\n",
    ")\n",
    "df_train['horsepower'] = df_train['engine'].str.extract(r'(\\d+\\.?\\d*)').astype(float)\n",
    "luxury_brands = ['Mercedes-Benz', 'BMW', 'Genesis', 'Audi', 'Lexus']\n",
    "df_train['luxury_car'] = df_train['brand'].apply(lambda x: 1 if x in luxury_brands else 0)"
   ]
  },
  {
   "cell_type": "code",
   "execution_count": 8,
   "id": "0914bc91",
   "metadata": {
    "execution": {
     "iopub.execute_input": "2024-09-13T06:54:06.912140Z",
     "iopub.status.busy": "2024-09-13T06:54:06.911701Z",
     "iopub.status.idle": "2024-09-13T06:54:09.572677Z",
     "shell.execute_reply": "2024-09-13T06:54:09.570794Z"
    },
    "papermill": {
     "duration": 2.676102,
     "end_time": "2024-09-13T06:54:09.575925",
     "exception": false,
     "start_time": "2024-09-13T06:54:06.899823",
     "status": "completed"
    },
    "tags": []
   },
   "outputs": [],
   "source": [
    "df_test['car_age'] = current_year - df_test['model_year']\n",
    "df_test['mileage_per_year'] = df_test['milage'] / df_test['car_age'].replace(0, 1)\n",
    "df_test['accident_clean_interaction'] = df_test.apply(\n",
    "    lambda x: 'No Accidents & Clean Title' if x['accident'] == 'None reported' and x['clean_title'] == 'Yes' else\n",
    "              'Accident & Clean Title' if x['accident'] != 'None reported' and x['clean_title'] == 'Yes' else\n",
    "              'Accident & No Clean Title',\n",
    "    axis=1\n",
    ")\n",
    "df_test['horsepower'] = df_test['engine'].str.extract(r'(\\d+\\.?\\d*)').astype(float)\n",
    "df_test['luxury_car'] = df_test['brand'].apply(lambda x: 1 if x in luxury_brands else 0)"
   ]
  },
  {
   "cell_type": "code",
   "execution_count": 9,
   "id": "112d3bf7",
   "metadata": {
    "execution": {
     "iopub.execute_input": "2024-09-13T06:54:09.598243Z",
     "iopub.status.busy": "2024-09-13T06:54:09.596886Z",
     "iopub.status.idle": "2024-09-13T06:54:09.605637Z",
     "shell.execute_reply": "2024-09-13T06:54:09.604240Z"
    },
    "papermill": {
     "duration": 0.023033,
     "end_time": "2024-09-13T06:54:09.608501",
     "exception": false,
     "start_time": "2024-09-13T06:54:09.585468",
     "status": "completed"
    },
    "tags": []
   },
   "outputs": [
    {
     "data": {
      "text/plain": [
       "(188533, 17)"
      ]
     },
     "execution_count": 9,
     "metadata": {},
     "output_type": "execute_result"
    }
   ],
   "source": [
    "df_train.shape"
   ]
  },
  {
   "cell_type": "code",
   "execution_count": 10,
   "id": "be7ab8b5",
   "metadata": {
    "execution": {
     "iopub.execute_input": "2024-09-13T06:54:09.630490Z",
     "iopub.status.busy": "2024-09-13T06:54:09.630044Z",
     "iopub.status.idle": "2024-09-13T06:54:09.781328Z",
     "shell.execute_reply": "2024-09-13T06:54:09.779721Z"
    },
    "papermill": {
     "duration": 0.165724,
     "end_time": "2024-09-13T06:54:09.784263",
     "exception": false,
     "start_time": "2024-09-13T06:54:09.618539",
     "status": "completed"
    },
    "tags": []
   },
   "outputs": [
    {
     "data": {
      "text/html": [
       "<div>\n",
       "<style scoped>\n",
       "    .dataframe tbody tr th:only-of-type {\n",
       "        vertical-align: middle;\n",
       "    }\n",
       "\n",
       "    .dataframe tbody tr th {\n",
       "        vertical-align: top;\n",
       "    }\n",
       "\n",
       "    .dataframe thead th {\n",
       "        text-align: right;\n",
       "    }\n",
       "</style>\n",
       "<table border=\"1\" class=\"dataframe\">\n",
       "  <thead>\n",
       "    <tr style=\"text-align: right;\">\n",
       "      <th></th>\n",
       "      <th>model_year</th>\n",
       "      <th>milage</th>\n",
       "      <th>price</th>\n",
       "      <th>car_age</th>\n",
       "      <th>mileage_per_year</th>\n",
       "      <th>horsepower</th>\n",
       "      <th>luxury_car</th>\n",
       "    </tr>\n",
       "  </thead>\n",
       "  <tbody>\n",
       "    <tr>\n",
       "      <th>count</th>\n",
       "      <td>188533.000000</td>\n",
       "      <td>188533.000000</td>\n",
       "      <td>1.885330e+05</td>\n",
       "      <td>188533.000000</td>\n",
       "      <td>188533.000000</td>\n",
       "      <td>186677.000000</td>\n",
       "      <td>188533.000000</td>\n",
       "    </tr>\n",
       "    <tr>\n",
       "      <th>mean</th>\n",
       "      <td>2015.829998</td>\n",
       "      <td>65705.295174</td>\n",
       "      <td>4.387802e+04</td>\n",
       "      <td>8.170002</td>\n",
       "      <td>8696.321414</td>\n",
       "      <td>286.130542</td>\n",
       "      <td>0.300738</td>\n",
       "    </tr>\n",
       "    <tr>\n",
       "      <th>std</th>\n",
       "      <td>5.660967</td>\n",
       "      <td>49798.158076</td>\n",
       "      <td>7.881952e+04</td>\n",
       "      <td>5.660967</td>\n",
       "      <td>6272.787877</td>\n",
       "      <td>164.592708</td>\n",
       "      <td>0.458580</td>\n",
       "    </tr>\n",
       "    <tr>\n",
       "      <th>min</th>\n",
       "      <td>1974.000000</td>\n",
       "      <td>100.000000</td>\n",
       "      <td>2.000000e+03</td>\n",
       "      <td>0.000000</td>\n",
       "      <td>5.263158</td>\n",
       "      <td>1.200000</td>\n",
       "      <td>0.000000</td>\n",
       "    </tr>\n",
       "    <tr>\n",
       "      <th>25%</th>\n",
       "      <td>2013.000000</td>\n",
       "      <td>24115.000000</td>\n",
       "      <td>1.700000e+04</td>\n",
       "      <td>4.000000</td>\n",
       "      <td>5166.666667</td>\n",
       "      <td>204.000000</td>\n",
       "      <td>0.000000</td>\n",
       "    </tr>\n",
       "    <tr>\n",
       "      <th>50%</th>\n",
       "      <td>2017.000000</td>\n",
       "      <td>57785.000000</td>\n",
       "      <td>3.082500e+04</td>\n",
       "      <td>7.000000</td>\n",
       "      <td>8000.000000</td>\n",
       "      <td>300.000000</td>\n",
       "      <td>0.000000</td>\n",
       "    </tr>\n",
       "    <tr>\n",
       "      <th>75%</th>\n",
       "      <td>2020.000000</td>\n",
       "      <td>95400.000000</td>\n",
       "      <td>4.990000e+04</td>\n",
       "      <td>11.000000</td>\n",
       "      <td>11000.000000</td>\n",
       "      <td>395.000000</td>\n",
       "      <td>1.000000</td>\n",
       "    </tr>\n",
       "    <tr>\n",
       "      <th>max</th>\n",
       "      <td>2024.000000</td>\n",
       "      <td>405000.000000</td>\n",
       "      <td>2.954083e+06</td>\n",
       "      <td>50.000000</td>\n",
       "      <td>235000.000000</td>\n",
       "      <td>1020.000000</td>\n",
       "      <td>1.000000</td>\n",
       "    </tr>\n",
       "  </tbody>\n",
       "</table>\n",
       "</div>"
      ],
      "text/plain": [
       "          model_year         milage         price        car_age  \\\n",
       "count  188533.000000  188533.000000  1.885330e+05  188533.000000   \n",
       "mean     2015.829998   65705.295174  4.387802e+04       8.170002   \n",
       "std         5.660967   49798.158076  7.881952e+04       5.660967   \n",
       "min      1974.000000     100.000000  2.000000e+03       0.000000   \n",
       "25%      2013.000000   24115.000000  1.700000e+04       4.000000   \n",
       "50%      2017.000000   57785.000000  3.082500e+04       7.000000   \n",
       "75%      2020.000000   95400.000000  4.990000e+04      11.000000   \n",
       "max      2024.000000  405000.000000  2.954083e+06      50.000000   \n",
       "\n",
       "       mileage_per_year     horsepower     luxury_car  \n",
       "count     188533.000000  186677.000000  188533.000000  \n",
       "mean        8696.321414     286.130542       0.300738  \n",
       "std         6272.787877     164.592708       0.458580  \n",
       "min            5.263158       1.200000       0.000000  \n",
       "25%         5166.666667     204.000000       0.000000  \n",
       "50%         8000.000000     300.000000       0.000000  \n",
       "75%        11000.000000     395.000000       1.000000  \n",
       "max       235000.000000    1020.000000       1.000000  "
      ]
     },
     "execution_count": 10,
     "metadata": {},
     "output_type": "execute_result"
    }
   ],
   "source": [
    "df_train.describe()"
   ]
  },
  {
   "cell_type": "code",
   "execution_count": 11,
   "id": "69518338",
   "metadata": {
    "execution": {
     "iopub.execute_input": "2024-09-13T06:54:09.806252Z",
     "iopub.status.busy": "2024-09-13T06:54:09.805697Z",
     "iopub.status.idle": "2024-09-13T06:54:09.813735Z",
     "shell.execute_reply": "2024-09-13T06:54:09.812306Z"
    },
    "papermill": {
     "duration": 0.022551,
     "end_time": "2024-09-13T06:54:09.816669",
     "exception": false,
     "start_time": "2024-09-13T06:54:09.794118",
     "status": "completed"
    },
    "tags": []
   },
   "outputs": [
    {
     "data": {
      "text/plain": [
       "((188533, 17), (125690, 16))"
      ]
     },
     "execution_count": 11,
     "metadata": {},
     "output_type": "execute_result"
    }
   ],
   "source": [
    "df_train.shape,df_test.shape"
   ]
  },
  {
   "cell_type": "code",
   "execution_count": 12,
   "id": "f1186bac",
   "metadata": {
    "execution": {
     "iopub.execute_input": "2024-09-13T06:54:09.841750Z",
     "iopub.status.busy": "2024-09-13T06:54:09.840802Z",
     "iopub.status.idle": "2024-09-13T06:54:09.966182Z",
     "shell.execute_reply": "2024-09-13T06:54:09.964602Z"
    },
    "papermill": {
     "duration": 0.141866,
     "end_time": "2024-09-13T06:54:09.969908",
     "exception": false,
     "start_time": "2024-09-13T06:54:09.828042",
     "status": "completed"
    },
    "tags": []
   },
   "outputs": [
    {
     "name": "stdout",
     "output_type": "stream",
     "text": [
      "<class 'pandas.core.frame.DataFrame'>\n",
      "RangeIndex: 188533 entries, 0 to 188532\n",
      "Data columns (total 17 columns):\n",
      " #   Column                      Non-Null Count   Dtype  \n",
      "---  ------                      --------------   -----  \n",
      " 0   brand                       188533 non-null  object \n",
      " 1   model                       188533 non-null  object \n",
      " 2   model_year                  188533 non-null  int64  \n",
      " 3   milage                      188533 non-null  int64  \n",
      " 4   fuel_type                   183450 non-null  object \n",
      " 5   engine                      188533 non-null  object \n",
      " 6   transmission                188533 non-null  object \n",
      " 7   ext_col                     188533 non-null  object \n",
      " 8   int_col                     188533 non-null  object \n",
      " 9   accident                    186081 non-null  object \n",
      " 10  clean_title                 167114 non-null  object \n",
      " 11  price                       188533 non-null  int64  \n",
      " 12  car_age                     188533 non-null  int64  \n",
      " 13  mileage_per_year            188533 non-null  float64\n",
      " 14  accident_clean_interaction  188533 non-null  object \n",
      " 15  horsepower                  186677 non-null  float64\n",
      " 16  luxury_car                  188533 non-null  int64  \n",
      "dtypes: float64(2), int64(5), object(10)\n",
      "memory usage: 24.5+ MB\n"
     ]
    }
   ],
   "source": [
    "df_train.info()"
   ]
  },
  {
   "cell_type": "code",
   "execution_count": 13,
   "id": "68021c7f",
   "metadata": {
    "execution": {
     "iopub.execute_input": "2024-09-13T06:54:09.992831Z",
     "iopub.status.busy": "2024-09-13T06:54:09.991743Z",
     "iopub.status.idle": "2024-09-13T06:54:10.049803Z",
     "shell.execute_reply": "2024-09-13T06:54:10.048199Z"
    },
    "papermill": {
     "duration": 0.072797,
     "end_time": "2024-09-13T06:54:10.052807",
     "exception": false,
     "start_time": "2024-09-13T06:54:09.980010",
     "status": "completed"
    },
    "tags": []
   },
   "outputs": [],
   "source": [
    "# df_train.drop(columns=['model_year', 'accident', 'clean_title', 'engine'], inplace=True)\n",
    "# df_test.drop(columns=['model_year', 'accident', 'clean_title', 'engine'], inplace=True)"
   ]
  },
  {
   "cell_type": "code",
   "execution_count": 15,
   "id": "6839927c",
   "metadata": {
    "execution": {
     "iopub.execute_input": "2024-09-13T06:54:13.302901Z",
     "iopub.status.busy": "2024-09-13T06:54:13.302479Z",
     "iopub.status.idle": "2024-09-13T06:54:14.871794Z",
     "shell.execute_reply": "2024-09-13T06:54:14.869393Z"
    },
    "papermill": {
     "duration": 1.590363,
     "end_time": "2024-09-13T06:54:14.875490",
     "exception": false,
     "start_time": "2024-09-13T06:54:13.285127",
     "status": "completed"
    },
    "tags": []
   },
   "outputs": [],
   "source": [
    "def preprocess_and_encode(df_train, df_test): \n",
    "\n",
    "    cat_cols = df_train.select_dtypes(include=['object']).columns\n",
    "    num_cols = df_train.select_dtypes(include=['number']).columns\n",
    "    \n",
    "    num_cols = num_cols[num_cols != 'price']   \n",
    "\n",
    "    cat_imputer = SimpleImputer(strategy='most_frequent')\n",
    "    num_imputer = SimpleImputer(strategy='median')\n",
    "\n",
    "    df_train[cat_cols] = cat_imputer.fit_transform(df_train[cat_cols])\n",
    "    df_test[cat_cols] = cat_imputer.transform(df_test[cat_cols])\n",
    "    df_train[num_cols] = num_imputer.fit_transform(df_train[num_cols])\n",
    "    df_test[num_cols] = num_imputer.transform(df_test[num_cols])\n",
    "\n",
    "    ordinal_encoder = OrdinalEncoder(handle_unknown='use_encoded_value', unknown_value=-1)\n",
    "    df_train[cat_cols] = ordinal_encoder.fit_transform(df_train[cat_cols].astype(str))\n",
    "    df_test[cat_cols] = ordinal_encoder.transform(df_test[cat_cols].astype(str))    \n",
    "    \n",
    "    return df_train, df_test\n",
    "\n",
    "df_train, df_test = preprocess_and_encode(df_train, df_test)"
   ]
  },
  {
   "cell_type": "code",
   "execution_count": 16,
   "id": "3290d061",
   "metadata": {
    "execution": {
     "iopub.execute_input": "2024-09-13T06:54:14.909054Z",
     "iopub.status.busy": "2024-09-13T06:54:14.908140Z",
     "iopub.status.idle": "2024-09-13T06:54:14.928303Z",
     "shell.execute_reply": "2024-09-13T06:54:14.927016Z"
    },
    "papermill": {
     "duration": 0.040235,
     "end_time": "2024-09-13T06:54:14.931215",
     "exception": false,
     "start_time": "2024-09-13T06:54:14.890980",
     "status": "completed"
    },
    "tags": []
   },
   "outputs": [],
   "source": [
    "y = df_train['price'].astype('float32')\n",
    "df_train = df_train.drop(['price'],axis=1)"
   ]
  },
  {
   "cell_type": "code",
   "execution_count": 17,
   "id": "91092b35",
   "metadata": {},
   "outputs": [],
   "source": [
    "from sklearn.preprocessing import StandardScaler\n",
    "scaler = StandardScaler()\n",
    "Scale_train = scaler.fit_transform(df_train)\n",
    "Scale_test  = scaler.transform(df_test)"
   ]
  },
  {
   "cell_type": "code",
   "execution_count": 18,
   "id": "27d4e2e6",
   "metadata": {},
   "outputs": [],
   "source": [
    "# Split the data\n",
    "X_train, X_test, y_train, y_test = train_test_split(Scale_train, y, test_size=0.2, random_state=42)"
   ]
  },
  {
   "cell_type": "code",
   "execution_count": 19,
   "id": "ecee5c16",
   "metadata": {},
   "outputs": [
    {
     "name": "stdout",
     "output_type": "stream",
     "text": [
      "XGBoost RMSE: 70788.3828125\n"
     ]
    },
    {
     "name": "stderr",
     "output_type": "stream",
     "text": [
      "c:\\Users\\Mukesh\\AppData\\Local\\Programs\\Python\\Python310\\lib\\site-packages\\sklearn\\metrics\\_regression.py:492: FutureWarning: 'squared' is deprecated in version 1.4 and will be removed in 1.6. To calculate the root mean squared error, use the function'root_mean_squared_error'.\n",
      "  warnings.warn(\n"
     ]
    }
   ],
   "source": [
    "# XGBoost Regressor\n",
    "xgb = XGBRegressor()\n",
    "xgb.fit(X_train, y_train)\n",
    "xgb_pred = xgb.predict(X_test)\n",
    "xgb_rmse = mean_squared_error(y_test, xgb_pred, squared=False)\n",
    "print(f\"XGBoost RMSE: {xgb_rmse}\")"
   ]
  },
  {
   "cell_type": "code",
   "execution_count": 32,
   "id": "67b228ed",
   "metadata": {},
   "outputs": [
    {
     "name": "stdout",
     "output_type": "stream",
     "text": [
      "Best XGBoost RMSE: 68192.0\n"
     ]
    },
    {
     "name": "stderr",
     "output_type": "stream",
     "text": [
      "c:\\Users\\Mukesh\\AppData\\Local\\Programs\\Python\\Python310\\lib\\site-packages\\sklearn\\metrics\\_regression.py:492: FutureWarning: 'squared' is deprecated in version 1.4 and will be removed in 1.6. To calculate the root mean squared error, use the function'root_mean_squared_error'.\n",
      "  warnings.warn(\n"
     ]
    }
   ],
   "source": [
    "# Hyperparameter tuning for XGBoost\n",
    "param_grid_xgb = {\n",
    "    'n_estimators': [100],\n",
    "    'max_depth': [3, 5, 7],\n",
    "    'learning_rate': [0.01, 0.1, 0.3],\n",
    "    'subsample': [0.3, 0.5, 0.6, 0.7]\n",
    "}\n",
    "\n",
    "grid_search_xgb = GridSearchCV(estimator=xgb, param_grid=param_grid_xgb, cv=3, n_jobs=-1, scoring='neg_mean_squared_error')\n",
    "grid_search_xgb.fit(X_train, y_train)\n",
    "best_xgb = grid_search_xgb.best_estimator_\n",
    "# Evaluate the best models\n",
    "\n",
    "best_xgb_pred = best_xgb.predict(X_test)\n",
    "best_xgb_rmse = mean_squared_error(y_test, best_xgb_pred, squared=False)\n",
    "print(f\"Best XGBoost RMSE: {best_xgb_rmse}\")"
   ]
  },
  {
   "cell_type": "code",
   "execution_count": 34,
   "id": "d2e18d8a",
   "metadata": {},
   "outputs": [
    {
     "name": "stdout",
     "output_type": "stream",
     "text": [
      "100 3 0.1 0.7\n"
     ]
    }
   ],
   "source": [
    "print(best_xgb.n_estimators, best_xgb.max_depth, best_xgb.learning_rate, best_xgb.subsample)"
   ]
  },
  {
   "cell_type": "code",
   "execution_count": 35,
   "id": "44dfb2b6",
   "metadata": {
    "execution": {
     "iopub.execute_input": "2024-09-13T06:58:16.463096Z",
     "iopub.status.busy": "2024-09-13T06:58:16.462656Z",
     "iopub.status.idle": "2024-09-13T06:58:23.926364Z",
     "shell.execute_reply": "2024-09-13T06:58:23.924895Z"
    },
    "papermill": {
     "duration": 7.750421,
     "end_time": "2024-09-13T06:58:23.929161",
     "exception": false,
     "start_time": "2024-09-13T06:58:16.178740",
     "status": "completed"
    },
    "tags": []
   },
   "outputs": [],
   "source": [
    "finalpred= best_xgb.predict(Scale_test)\n"
   ]
  },
  {
   "cell_type": "code",
   "execution_count": 36,
   "id": "a98026e4",
   "metadata": {
    "execution": {
     "iopub.execute_input": "2024-09-13T06:58:24.569032Z",
     "iopub.status.busy": "2024-09-13T06:58:24.568137Z",
     "iopub.status.idle": "2024-09-13T06:58:24.576478Z",
     "shell.execute_reply": "2024-09-13T06:58:24.575278Z"
    },
    "papermill": {
     "duration": 0.357915,
     "end_time": "2024-09-13T06:58:24.579110",
     "exception": false,
     "start_time": "2024-09-13T06:58:24.221195",
     "status": "completed"
    },
    "tags": []
   },
   "outputs": [
    {
     "data": {
      "text/plain": [
       "array([17624.006, 78080.76 , 53082.477, ..., 24214.07 , 16901.695,\n",
       "       35703.668], dtype=float32)"
      ]
     },
     "execution_count": 36,
     "metadata": {},
     "output_type": "execute_result"
    }
   ],
   "source": [
    "finalpred"
   ]
  },
  {
   "cell_type": "code",
   "execution_count": 37,
   "id": "a9080909",
   "metadata": {
    "execution": {
     "iopub.execute_input": "2024-09-13T06:58:25.176801Z",
     "iopub.status.busy": "2024-09-13T06:58:25.175837Z",
     "iopub.status.idle": "2024-09-13T06:58:25.182598Z",
     "shell.execute_reply": "2024-09-13T06:58:25.181289Z"
    },
    "papermill": {
     "duration": 0.298611,
     "end_time": "2024-09-13T06:58:25.185154",
     "exception": false,
     "start_time": "2024-09-13T06:58:24.886543",
     "status": "completed"
    },
    "tags": []
   },
   "outputs": [],
   "source": [
    "df_sub['price'] = finalpred"
   ]
  },
  {
   "cell_type": "code",
   "execution_count": 38,
   "id": "99519b66",
   "metadata": {
    "execution": {
     "iopub.execute_input": "2024-09-13T06:58:26.340974Z",
     "iopub.status.busy": "2024-09-13T06:58:26.340531Z",
     "iopub.status.idle": "2024-09-13T06:58:26.588036Z",
     "shell.execute_reply": "2024-09-13T06:58:26.586817Z"
    },
    "papermill": {
     "duration": 0.540061,
     "end_time": "2024-09-13T06:58:26.591087",
     "exception": false,
     "start_time": "2024-09-13T06:58:26.051026",
     "status": "completed"
    },
    "tags": []
   },
   "outputs": [],
   "source": [
    "df_sub.to_csv('submission.csv', index=False)"
   ]
  },
  {
   "cell_type": "code",
   "execution_count": 39,
   "id": "3d84af62",
   "metadata": {
    "execution": {
     "iopub.execute_input": "2024-09-13T06:58:27.223822Z",
     "iopub.status.busy": "2024-09-13T06:58:27.223408Z",
     "iopub.status.idle": "2024-09-13T06:58:27.437840Z",
     "shell.execute_reply": "2024-09-13T06:58:27.436334Z"
    },
    "papermill": {
     "duration": 0.564477,
     "end_time": "2024-09-13T06:58:27.440512",
     "exception": false,
     "start_time": "2024-09-13T06:58:26.876035",
     "status": "completed"
    },
    "tags": []
   },
   "outputs": [
    {
     "data": {
      "text/plain": [
       "<Axes: >"
      ]
     },
     "execution_count": 39,
     "metadata": {},
     "output_type": "execute_result"
    },
    {
     "data": {
      "image/png": "[encoded data removed]",
      "text/plain": [
       "<Figure size 640x480 with 1 Axes>"
      ]
     },
     "metadata": {},
     "output_type": "display_data"
    }
   ],
   "source": [
    "df_sub['price'].hist()"
   ]
  },
  {
   "cell_type": "code",
   "execution_count": 40,
   "id": "a6cb3701",
   "metadata": {
    "execution": {
     "iopub.execute_input": "2024-09-13T06:58:28.016303Z",
     "iopub.status.busy": "2024-09-13T06:58:28.015797Z",
     "iopub.status.idle": "2024-09-13T06:58:28.031602Z",
     "shell.execute_reply": "2024-09-13T06:58:28.030114Z"
    },
    "papermill": {
     "duration": 0.309472,
     "end_time": "2024-09-13T06:58:28.034348",
     "exception": false,
     "start_time": "2024-09-13T06:58:27.724876",
     "status": "completed"
    },
    "tags": []
   },
   "outputs": [
    {
     "data": {
      "text/html": [
       "<div>\n",
       "<style scoped>\n",
       "    .dataframe tbody tr th:only-of-type {\n",
       "        vertical-align: middle;\n",
       "    }\n",
       "\n",
       "    .dataframe tbody tr th {\n",
       "        vertical-align: top;\n",
       "    }\n",
       "\n",
       "    .dataframe thead th {\n",
       "        text-align: right;\n",
       "    }\n",
       "</style>\n",
       "<table border=\"1\" class=\"dataframe\">\n",
       "  <thead>\n",
       "    <tr style=\"text-align: right;\">\n",
       "      <th></th>\n",
       "      <th>id</th>\n",
       "      <th>price</th>\n",
       "    </tr>\n",
       "  </thead>\n",
       "  <tbody>\n",
       "    <tr>\n",
       "      <th>0</th>\n",
       "      <td>188533</td>\n",
       "      <td>17624.005859</td>\n",
       "    </tr>\n",
       "    <tr>\n",
       "      <th>1</th>\n",
       "      <td>188534</td>\n",
       "      <td>78080.757812</td>\n",
       "    </tr>\n",
       "    <tr>\n",
       "      <th>2</th>\n",
       "      <td>188535</td>\n",
       "      <td>53082.476562</td>\n",
       "    </tr>\n",
       "    <tr>\n",
       "      <th>3</th>\n",
       "      <td>188536</td>\n",
       "      <td>20101.304688</td>\n",
       "    </tr>\n",
       "    <tr>\n",
       "      <th>4</th>\n",
       "      <td>188537</td>\n",
       "      <td>29836.550781</td>\n",
       "    </tr>\n",
       "    <tr>\n",
       "      <th>...</th>\n",
       "      <td>...</td>\n",
       "      <td>...</td>\n",
       "    </tr>\n",
       "    <tr>\n",
       "      <th>125685</th>\n",
       "      <td>314218</td>\n",
       "      <td>29353.855469</td>\n",
       "    </tr>\n",
       "    <tr>\n",
       "      <th>125686</th>\n",
       "      <td>314219</td>\n",
       "      <td>47009.394531</td>\n",
       "    </tr>\n",
       "    <tr>\n",
       "      <th>125687</th>\n",
       "      <td>314220</td>\n",
       "      <td>24214.070312</td>\n",
       "    </tr>\n",
       "    <tr>\n",
       "      <th>125688</th>\n",
       "      <td>314221</td>\n",
       "      <td>16901.695312</td>\n",
       "    </tr>\n",
       "    <tr>\n",
       "      <th>125689</th>\n",
       "      <td>314222</td>\n",
       "      <td>35703.667969</td>\n",
       "    </tr>\n",
       "  </tbody>\n",
       "</table>\n",
       "<p>125690 rows × 2 columns</p>\n",
       "</div>"
      ],
      "text/plain": [
       "            id         price\n",
       "0       188533  17624.005859\n",
       "1       188534  78080.757812\n",
       "2       188535  53082.476562\n",
       "3       188536  20101.304688\n",
       "4       188537  29836.550781\n",
       "...        ...           ...\n",
       "125685  314218  29353.855469\n",
       "125686  314219  47009.394531\n",
       "125687  314220  24214.070312\n",
       "125688  314221  16901.695312\n",
       "125689  314222  35703.667969\n",
       "\n",
       "[125690 rows x 2 columns]"
      ]
     },
     "execution_count": 40,
     "metadata": {},
     "output_type": "execute_result"
    }
   ],
   "source": [
    "df_sub"
   ]
  },
  {
   "cell_type": "code",
   "execution_count": null,
   "id": "42e64fff",
   "metadata": {
    "papermill": {
     "duration": 0.285198,
     "end_time": "2024-09-13T06:58:28.608188",
     "exception": false,
     "start_time": "2024-09-13T06:58:28.322990",
     "status": "completed"
    },
    "tags": []
   },
   "outputs": [],
   "source": []
  }
 ],
 "metadata": {
  "kaggle": {
   "accelerator": "none",
   "dataSources": [
    {
     "databundleVersionId": 9057646,
     "sourceId": 76728,
     "sourceType": "competition"
    },
    {
     "datasetId": 3597439,
     "sourceId": 6259095,
     "sourceType": "datasetVersion"
    },
    {
     "datasetId": 3742543,
     "sourceId": 6478229,
     "sourceType": "datasetVersion"
    }
   ],
   "dockerImageVersionId": 30407,
   "isGpuEnabled": false,
   "isInternetEnabled": true,
   "language": "python",
   "sourceType": "notebook"
  },
  "kernelspec": {
   "display_name": "Python 3",
   "language": "python",
   "name": "python3"
  },
  "language_info": {
   "codemirror_mode": {
    "name": "ipython",
    "version": 3
   },
   "file_extension": ".py",
   "mimetype": "text/x-python",
   "name": "python",
   "nbconvert_exporter": "python",
   "pygments_lexer": "ipython3",
   "version": "3.10.10"
  },
  "papermill": {
   "default_parameters": {},
   "duration": 293.712491,
   "end_time": "2024-09-13T06:58:32.207167",
   "environment_variables": {},
   "exception": null,
   "input_path": "__notebook__.ipynb",
   "output_path": "__notebook__.ipynb",
   "parameters": {},
   "start_time": "2024-09-13T06:53:38.494676",
   "version": "2.4.0"
  }
 },
 "nbformat": 4,
 "nbformat_minor": 5
}
